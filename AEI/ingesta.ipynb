{
 "cells": [
  {
   "cell_type": "code",
   "execution_count": 6,
   "id": "896e8533-dacf-405e-b01a-9f796ecd1184",
   "metadata": {
    "tags": []
   },
   "outputs": [],
   "source": [
    "import pandas as pd\n",
    "import requests\n",
    "from bs4 import BeautifulSoup"
   ]
  },
  {
   "cell_type": "markdown",
   "id": "dfa03735-f8c0-46b7-9b08-188b05f7c536",
   "metadata": {
    "tags": []
   },
   "source": [
    "# 1. Download all the data from AEI website"
   ]
  },
  {
   "cell_type": "code",
   "execution_count": 52,
   "id": "cd670660-61a4-4ee6-b873-2b7ad51d65f6",
   "metadata": {
    "tags": []
   },
   "outputs": [
    {
     "name": "stdout",
     "output_type": "stream",
     "text": [
      "Los datos del año 2008 se han descargado correctamente.\n",
      "Los datos del año 2009 se han descargado correctamente.\n",
      "Los datos del año 2010 se han descargado correctamente.\n",
      "Los datos del año 2011 se han descargado correctamente.\n",
      "Los datos del año 2012 se han descargado correctamente.\n",
      "Los datos del año 2013 se han descargado correctamente.\n",
      "Los datos del año 2014 se han descargado correctamente.\n",
      "Los datos del año 2015 se han descargado correctamente.\n",
      "Los datos del año 2016 se han descargado correctamente.\n",
      "Los datos del año 2017 se han descargado correctamente.\n",
      "Los datos del año 2018 se han descargado correctamente.\n",
      "Los datos del año 2019 se han descargado correctamente.\n",
      "Los datos del año 2020 se han descargado correctamente.\n",
      "Los datos del año 2021 se han descargado correctamente.\n",
      "Los datos del año 2022 se han descargado correctamente.\n",
      "Los datos del año 2023 se han descargado correctamente.\n"
     ]
    }
   ],
   "source": [
    "# Desactivar la verificación del certificado SSL\n",
    "requests.packages.urllib3.disable_warnings()\n",
    "\n",
    "# URL de la página\n",
    "url = \"https://www.aei.gob.es/ayudas-concedidas/buscador-ayudas-concedidas?year={}&convocatory=All&code=&gender=All&area=&subarea=&title=&keywords=&cif=&name=&ccaa=All&province=All&granted%5Bmin%5D=&granted%5Bmax%5D=&summary=\"\n",
    "years =  [\"2008\", \"2009\", \"2010\", \"2011\", \"2012\", \"2013\", \"2014\", \"2015\", \"2016\", \"2017\", \"2018\", \"2019\", \"2020\", \"2021\", \"2022\", \"2023\"]\n",
    "\n",
    "for year in years:\n",
    "    # Realizar la solicitud GET a la página sin verificar el certificado SSL\n",
    "    response = requests.get(url.format(year), verify=False)\n",
    "\n",
    "    # Verificar si la solicitud fue exitosa\n",
    "    if response.status_code == 200:\n",
    "        # Analizar el HTML de la página\n",
    "        soup = BeautifulSoup(response.text, 'html.parser')\n",
    "\n",
    "        # Encontrar el botón de descarga del archivo CSV\n",
    "        download_button = soup.find('a', class_='btn-primary', title='Descargar archivo')\n",
    "\n",
    "        if download_button:\n",
    "            # Obtener la URL de descarga\n",
    "            csv_url = \"https://www.aei.gob.es\" + download_button['href']\n",
    "\n",
    "            # Descargar el archivo CSV\n",
    "            csv_response = requests.get(csv_url, verify=False)\n",
    "\n",
    "            # Verificar si la descarga fue exitosa\n",
    "            if csv_response.status_code == 200:\n",
    "                # Guardar el contenido en un archivo local\n",
    "                with open('raw_data/datos_aei_{}.csv'.format(year), 'wb') as f:\n",
    "                    f.write(csv_response.content)\n",
    "                print(\"Los datos del año {} se han descargado correctamente.\".format(year))\n",
    "            else:\n",
    "                print(\"No se pudo descargar el archivo CSV del año {}.\".format(year))\n",
    "        else:\n",
    "            print(\"No se encontró el botón de descarga del CSV del año {}.\".format(year))\n",
    "    else:\n",
    "        print(\"Error al acceder a la página:\", response.status_code)\n"
   ]
  },
  {
   "cell_type": "markdown",
   "id": "182b714c-bd7d-43bb-a6b4-3c1ed6f02584",
   "metadata": {
    "tags": []
   },
   "source": [
    "# 2. Compose the AEI Dataset"
   ]
  },
  {
   "cell_type": "code",
   "execution_count": 58,
   "id": "b2490743-b542-4e73-96f8-d71bebd5343a",
   "metadata": {
    "tags": []
   },
   "outputs": [
    {
     "name": "stdout",
     "output_type": "stream",
     "text": [
      "De las 5534 entradas de 2008, 2099 no tienen resumen.\n",
      "De las 6884 entradas de 2009, 3047 no tienen resumen.\n",
      "De las 7351 entradas de 2010, 3895 no tienen resumen.\n",
      "De las 9175 entradas de 2011, 5740 no tienen resumen.\n",
      "De las 6873 entradas de 2012, 3600 no tienen resumen.\n",
      "De las 6183 entradas de 2013, 2858 no tienen resumen.\n",
      "De las 8151 entradas de 2014, 5165 no tienen resumen.\n",
      "De las 7951 entradas de 2015, 3555 no tienen resumen.\n",
      "De las 6315 entradas de 2016, 3223 no tienen resumen.\n",
      "De las 5968 entradas de 2017, 2604 no tienen resumen.\n",
      "De las 7461 entradas de 2018, 3423 no tienen resumen.\n",
      "De las 6377 entradas de 2019, 2403 no tienen resumen.\n",
      "De las 5996 entradas de 2020, 2517 no tienen resumen.\n",
      "De las 8682 entradas de 2021, 2743 no tienen resumen.\n",
      "De las 8392 entradas de 2022, 3715 no tienen resumen.\n",
      "De las 292 entradas de 2023, 0 no tienen resumen.\n"
     ]
    }
   ],
   "source": [
    "for year in years:\n",
    "    df = pd.read_csv('/export/usuarios_ml4ds/mbalairon/github/data_ingest/AEI/raw_data/datos_aei_{}.csv'.format(year), sep=';')\n",
    "    print('De las', df.shape[0], 'entradas de {},'.format(year), df['Resumen'].isna().sum(), 'no tienen resumen.')"
   ]
  },
  {
   "cell_type": "code",
   "execution_count": 60,
   "id": "f424ac15-42be-4e7b-bcf3-c082f697ab3b",
   "metadata": {
    "tags": []
   },
   "outputs": [],
   "source": [
    "df = pd.DataFrame()\n",
    "for year in years:\n",
    "    df_aux = pd.read_csv('/export/usuarios_ml4ds/mbalairon/github/data_ingest/AEI/raw_data/datos_aei_{}.csv'.format(year), sep=';')\n",
    "    df = pd.concat([df, df_aux])"
   ]
  },
  {
   "cell_type": "code",
   "execution_count": 63,
   "id": "473e940f-d93b-452b-8be2-f382db738cf8",
   "metadata": {
    "tags": []
   },
   "outputs": [
    {
     "data": {
      "text/html": [
       "<div>\n",
       "<style scoped>\n",
       "    .dataframe tbody tr th:only-of-type {\n",
       "        vertical-align: middle;\n",
       "    }\n",
       "\n",
       "    .dataframe tbody tr th {\n",
       "        vertical-align: top;\n",
       "    }\n",
       "\n",
       "    .dataframe thead th {\n",
       "        text-align: right;\n",
       "    }\n",
       "</style>\n",
       "<table border=\"1\" class=\"dataframe\">\n",
       "  <thead>\n",
       "    <tr style=\"text-align: right;\">\n",
       "      <th></th>\n",
       "      <th>Año</th>\n",
       "      <th>Convocatoria</th>\n",
       "      <th>Referencia</th>\n",
       "      <th>Género</th>\n",
       "      <th>Área</th>\n",
       "      <th>Subárea</th>\n",
       "      <th>Título</th>\n",
       "      <th>C.I.F.</th>\n",
       "      <th>Entidad</th>\n",
       "      <th>CC.AA.</th>\n",
       "      <th>Provincia</th>\n",
       "      <th>€ Conced.</th>\n",
       "      <th>Resumen</th>\n",
       "    </tr>\n",
       "  </thead>\n",
       "  <tbody>\n",
       "    <tr>\n",
       "      <th>0</th>\n",
       "      <td>2008</td>\n",
       "      <td>CONSOLIDER</td>\n",
       "      <td>CSD2008-00005</td>\n",
       "      <td>NaN</td>\n",
       "      <td>NaN</td>\n",
       "      <td>NaN</td>\n",
       "      <td>NaN</td>\n",
       "      <td>Q5350015C</td>\n",
       "      <td>UNIVERSIDAD MIGUEL HERNANDEZ DE ELCHE</td>\n",
       "      <td>C.VALENCIANA</td>\n",
       "      <td>ALICANTE</td>\n",
       "      <td>1.144.400,00</td>\n",
       "      <td>NaN</td>\n",
       "    </tr>\n",
       "    <tr>\n",
       "      <th>1</th>\n",
       "      <td>2008</td>\n",
       "      <td>CONSOLIDER</td>\n",
       "      <td>CSD2008-00005</td>\n",
       "      <td>NaN</td>\n",
       "      <td>NaN</td>\n",
       "      <td>NaN</td>\n",
       "      <td>NaN</td>\n",
       "      <td>Q5350015C</td>\n",
       "      <td>UNIVERSIDAD MIGUEL HERNANDEZ DE ELCHE</td>\n",
       "      <td>C.VALENCIANA</td>\n",
       "      <td>ALICANTE</td>\n",
       "      <td>184.000,00</td>\n",
       "      <td>NaN</td>\n",
       "    </tr>\n",
       "    <tr>\n",
       "      <th>2</th>\n",
       "      <td>2008</td>\n",
       "      <td>CONSOLIDER</td>\n",
       "      <td>CSD2008-00005</td>\n",
       "      <td>NaN</td>\n",
       "      <td>NaN</td>\n",
       "      <td>NaN</td>\n",
       "      <td>NaN</td>\n",
       "      <td>Q3318001I</td>\n",
       "      <td>UNIVERSIDAD DE OVIEDO</td>\n",
       "      <td>PDO.ASTURIAS</td>\n",
       "      <td>ASTURIAS</td>\n",
       "      <td>186.000,00</td>\n",
       "      <td>NaN</td>\n",
       "    </tr>\n",
       "    <tr>\n",
       "      <th>3</th>\n",
       "      <td>2008</td>\n",
       "      <td>CONSOLIDER</td>\n",
       "      <td>CSD2008-00005</td>\n",
       "      <td>NaN</td>\n",
       "      <td>NaN</td>\n",
       "      <td>NaN</td>\n",
       "      <td>NaN</td>\n",
       "      <td>G83726984</td>\n",
       "      <td>FUNDACION PARA LA INVESTIGACION BIOMEDICA DEL ...</td>\n",
       "      <td>MADRID</td>\n",
       "      <td>MADRID</td>\n",
       "      <td>224.000,00</td>\n",
       "      <td>NaN</td>\n",
       "    </tr>\n",
       "    <tr>\n",
       "      <th>4</th>\n",
       "      <td>2008</td>\n",
       "      <td>CONSOLIDER</td>\n",
       "      <td>CSD2008-00005</td>\n",
       "      <td>NaN</td>\n",
       "      <td>NaN</td>\n",
       "      <td>NaN</td>\n",
       "      <td>NaN</td>\n",
       "      <td>G46923421</td>\n",
       "      <td>FUNDACIÓN DE LA COMUNIDAD VALENCIANA CENTRO DE...</td>\n",
       "      <td>C.VALENCIANA</td>\n",
       "      <td>VALENCIA</td>\n",
       "      <td>927.000,00</td>\n",
       "      <td>NaN</td>\n",
       "    </tr>\n",
       "  </tbody>\n",
       "</table>\n",
       "</div>"
      ],
      "text/plain": [
       "    Año Convocatoria     Referencia Género Área Subárea Título     C.I.F.  \\\n",
       "0  2008   CONSOLIDER  CSD2008-00005    NaN  NaN     NaN    NaN  Q5350015C   \n",
       "1  2008   CONSOLIDER  CSD2008-00005    NaN  NaN     NaN    NaN  Q5350015C   \n",
       "2  2008   CONSOLIDER  CSD2008-00005    NaN  NaN     NaN    NaN  Q3318001I   \n",
       "3  2008   CONSOLIDER  CSD2008-00005    NaN  NaN     NaN    NaN  G83726984   \n",
       "4  2008   CONSOLIDER  CSD2008-00005    NaN  NaN     NaN    NaN  G46923421   \n",
       "\n",
       "                                             Entidad        CC.AA. Provincia  \\\n",
       "0              UNIVERSIDAD MIGUEL HERNANDEZ DE ELCHE  C.VALENCIANA  ALICANTE   \n",
       "1              UNIVERSIDAD MIGUEL HERNANDEZ DE ELCHE  C.VALENCIANA  ALICANTE   \n",
       "2                              UNIVERSIDAD DE OVIEDO  PDO.ASTURIAS  ASTURIAS   \n",
       "3  FUNDACION PARA LA INVESTIGACION BIOMEDICA DEL ...        MADRID    MADRID   \n",
       "4  FUNDACIÓN DE LA COMUNIDAD VALENCIANA CENTRO DE...  C.VALENCIANA  VALENCIA   \n",
       "\n",
       "      € Conced. Resumen  \n",
       "0  1.144.400,00     NaN  \n",
       "1    184.000,00     NaN  \n",
       "2    186.000,00     NaN  \n",
       "3    224.000,00     NaN  \n",
       "4    927.000,00     NaN  "
      ]
     },
     "execution_count": 63,
     "metadata": {},
     "output_type": "execute_result"
    }
   ],
   "source": [
    "df.head()"
   ]
  },
  {
   "cell_type": "code",
   "execution_count": 65,
   "id": "23fc59de-a33b-4925-9e4e-409bfe86a762",
   "metadata": {
    "tags": []
   },
   "outputs": [],
   "source": [
    "df.to_parquet('/export/usuarios_ml4ds/mbalairon/github/data_ingest/AEI/output/datos_aei.csv', index=False)"
   ]
  }
 ],
 "metadata": {
  "kernelspec": {
   "display_name": "Python 3 (ipykernel)",
   "language": "python",
   "name": "python3"
  },
  "language_info": {
   "codemirror_mode": {
    "name": "ipython",
    "version": 3
   },
   "file_extension": ".py",
   "mimetype": "text/x-python",
   "name": "python",
   "nbconvert_exporter": "python",
   "pygments_lexer": "ipython3",
   "version": "3.10.11"
  }
 },
 "nbformat": 4,
 "nbformat_minor": 5
}
