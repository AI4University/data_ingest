{
 "cells": [
  {
   "cell_type": "code",
   "execution_count": 1,
   "id": "a5486bc5-371b-4c5a-b12e-ddfbc8ef497d",
   "metadata": {},
   "outputs": [
    {
     "data": {
      "text/plain": [
       "'3.2.1'"
      ]
     },
     "execution_count": 1,
     "metadata": {},
     "output_type": "execute_result"
    }
   ],
   "source": [
    "sc.version"
   ]
  },
  {
   "cell_type": "markdown",
   "id": "47791f9f",
   "metadata": {},
   "source": [
    "# Imports"
   ]
  },
  {
   "cell_type": "code",
   "execution_count": 1,
   "id": "43e00d6f",
   "metadata": {
    "tags": []
   },
   "outputs": [],
   "source": [
    "from pathlib import Path\n",
    "import os\n",
    "import subprocess\n",
    "import time\n",
    "import pyspark.sql.functions as F\n",
    "from pyspark.sql.types import ArrayType, StringType, BooleanType, IntegerType"
   ]
  },
  {
   "cell_type": "markdown",
   "id": "34fbb4ea",
   "metadata": {},
   "source": [
    "# Define directories"
   ]
  },
  {
   "cell_type": "code",
   "execution_count": 2,
   "id": "7c0e75ca",
   "metadata": {
    "tags": []
   },
   "outputs": [],
   "source": [
    "# Define directories\n",
    "\n",
    "# dir_raw:     full path to nfs directory where the patstat files are stored\n",
    "# dir_parquet: full path to hdfs directory where the parquet tables will be stored\n",
    "\n",
    "dir_raw = Path(\"/export/data_ml4ds/AI4U/Datasets/patstat/2023_Autumn/rawdata\")\n",
    "dir_parquet = Path(\"/export/ml4ds/IntelComp/Datalake/patstat/2023_Autumn/parquet\") # confirmar que esta bien"
   ]
  },
  {
   "cell_type": "code",
   "execution_count": 3,
   "id": "78c5547c",
   "metadata": {
    "tags": []
   },
   "outputs": [],
   "source": [
    "# Configuration hdfs\n",
    "fs = sc._jvm.org.apache.hadoop.fs.FileSystem.get(spark._jsc.hadoopConfiguration())\n",
    "hdfs_dir_parquet = spark._jvm.org.apache.hadoop.fs.Path(dir_parquet.as_posix())\n",
    "\n",
    "# Create output directories if they do not exist\n",
    "if not fs.exists(hdfs_dir_parquet):\n",
    "    fs.mkdirs(hdfs_dir_parquet)\n"
   ]
  },
  {
   "cell_type": "markdown",
   "id": "91bd6c10",
   "metadata": {},
   "source": [
    "# Create PATSTAT parquet files"
   ]
  },
  {
   "cell_type": "markdown",
   "id": "7fc30df5-c413-4fdb-9930-46c7f593c360",
   "metadata": {
    "jp-MarkdownHeadingCollapsed": true
   },
   "source": [
    "## Export all tables as parquet files (tlsXXX.parquet)"
   ]
  },
  {
   "cell_type": "code",
   "execution_count": 10,
   "id": "2a01659e-05bc-4a15-95a2-f1216d2f708d",
   "metadata": {
    "tags": []
   },
   "outputs": [
    {
     "name": "stderr",
     "output_type": "stream",
     "text": [
      "                                                                                \r"
     ]
    },
    {
     "name": "stdout",
     "output_type": "stream",
     "text": [
      "Processed table tls229 - Rows: 150125870\n"
     ]
    },
    {
     "name": "stderr",
     "output_type": "stream",
     "text": [
      "                                                                                \r"
     ]
    },
    {
     "name": "stdout",
     "output_type": "stream",
     "text": [
      "Processed table tls230 - Rows: 150950092\n"
     ]
    },
    {
     "name": "stderr",
     "output_type": "stream",
     "text": [
      "23/12/13 11:14:27 WARN util.package: Truncated the string representation of a plan since it was too large. This behavior can be adjusted by setting 'spark.sql.debug.maxToStringFields'.\n",
      "                                                                                \r"
     ]
    },
    {
     "name": "stdout",
     "output_type": "stream",
     "text": [
      "Processed table tls231 - Rows: 430387166\n",
      "Processed table tls801 - Rows: 242\n",
      "Processed table tls803 - Rows: 4127\n",
      "Processed table tls901 - Rows: 766\n",
      "Processed table tls902 - Rows: 850\n",
      "Processed table tls904 - Rows: 2056\n",
      "CPU times: user 1.07 s, sys: 244 ms, total: 1.31 s\n",
      "Wall time: 29min 16s\n"
     ]
    }
   ],
   "source": [
    "%%time\n",
    "\n",
    "# Very important: All PATSTAT files should have been decompressed to csv format, \n",
    "# and stored in NFS directory dir_raw\n",
    "\n",
    "tables = list(set([el.name.split(\"_\")[0] for el in list(dir_raw.glob('*.csv'))]))\n",
    "\n",
    "for tbl in sorted(tables):\n",
    "    # Read data in all csv files for this table\n",
    "    df = spark.read.csv(f\"file://{dir_raw.joinpath(tbl).as_posix()}*.csv\", header=True)\n",
    "    \n",
    "    # Save to parquet\n",
    "    df.write.parquet(\n",
    "        dir_parquet.joinpath(f\"{tbl}.parquet\").as_posix(),\n",
    "        mode=\"overwrite\",\n",
    "    )\n",
    "    print(\"Processed table\", tbl, \"- Rows:\", df.count())"
   ]
  },
  {
   "cell_type": "markdown",
   "id": "25a70a65-3b35-4147-ac2d-00e0ad1bfc37",
   "metadata": {
    "jp-MarkdownHeadingCollapsed": true
   },
   "source": [
    "### Running some tests"
   ]
  },
  {
   "cell_type": "markdown",
   "id": "1fd6455f-4f63-4092-b1ae-2b9f8793cde0",
   "metadata": {
    "jp-MarkdownHeadingCollapsed": true
   },
   "source": [
    "#### Verify that Abstracts look good"
   ]
  },
  {
   "cell_type": "code",
   "execution_count": 11,
   "id": "6b8cb77b-b01d-454a-9bce-d09cfaa64c05",
   "metadata": {
    "tags": []
   },
   "outputs": [
    {
     "name": "stderr",
     "output_type": "stream",
     "text": [
      "23/12/13 11:41:47 WARN conf.HiveConf: HiveConf of name hive.stats.jdbc.timeout does not exist\n",
      "23/12/13 11:41:47 WARN conf.HiveConf: HiveConf of name hive.stats.retries.wait does not exist\n",
      "23/12/13 11:41:51 WARN metastore.ObjectStore: Version information not found in metastore. hive.metastore.schema.verification is not enabled so recording the schema version 2.3.0\n",
      "23/12/13 11:41:51 WARN metastore.ObjectStore: setMetaStoreSchemaVersion called but recording version is disabled: version = 2.3.0, comment = Set by MetaStore mbalairon@192.168.148.147\n",
      "23/12/13 11:41:51 WARN metastore.ObjectStore: Failed to get database global_temp, returning NoSuchObjectException\n",
      "23/12/13 11:41:51 WARN metastore.ObjectStore: Failed to get database parquet, returning NoSuchObjectException\n",
      "                                                                                \r"
     ]
    },
    {
     "name": "stdout",
     "output_type": "stream",
     "text": [
      "127966159\n",
      "root\n",
      " |-- appln_id: string (nullable = true)\n",
      " |-- appln_auth: string (nullable = true)\n",
      " |-- appln_nr: string (nullable = true)\n",
      " |-- appln_kind: string (nullable = true)\n",
      " |-- appln_filing_date: string (nullable = true)\n",
      " |-- appln_filing_year: string (nullable = true)\n",
      " |-- appln_nr_epodoc: string (nullable = true)\n",
      " |-- appln_nr_original: string (nullable = true)\n",
      " |-- ipr_type: string (nullable = true)\n",
      " |-- receiving_office: string (nullable = true)\n",
      " |-- internat_appln_id: string (nullable = true)\n",
      " |-- int_phase: string (nullable = true)\n",
      " |-- reg_phase: string (nullable = true)\n",
      " |-- nat_phase: string (nullable = true)\n",
      " |-- earliest_filing_date: string (nullable = true)\n",
      " |-- earliest_filing_year: string (nullable = true)\n",
      " |-- earliest_filing_id: string (nullable = true)\n",
      " |-- earliest_publn_date: string (nullable = true)\n",
      " |-- earliest_publn_year: string (nullable = true)\n",
      " |-- earliest_pat_publn_id: string (nullable = true)\n",
      " |-- granted: string (nullable = true)\n",
      " |-- docdb_family_id: string (nullable = true)\n",
      " |-- inpadoc_family_id: string (nullable = true)\n",
      " |-- docdb_family_size: string (nullable = true)\n",
      " |-- nb_citing_docdb_fam: string (nullable = true)\n",
      " |-- nb_applicants: string (nullable = true)\n",
      " |-- nb_inventors: string (nullable = true)\n",
      "\n",
      "-RECORD 0------------------------------\n",
      " appln_id              | 0             \n",
      " appln_auth            | XX            \n",
      " appln_nr              | null          \n",
      " appln_kind            | D             \n",
      " appln_filing_date     | 9999-12-31    \n",
      " appln_filing_year     | 9999          \n",
      " appln_nr_epodoc       | null          \n",
      " appln_nr_original     | null          \n",
      " ipr_type              | PI            \n",
      " receiving_office      |               \n",
      " internat_appln_id     | 0             \n",
      " int_phase             | N             \n",
      " reg_phase             | N             \n",
      " nat_phase             |               \n",
      " earliest_filing_date  | 9999-12-31    \n",
      " earliest_filing_year  | 9999          \n",
      " earliest_filing_id    | 0             \n",
      " earliest_publn_date   | 9999-12-31    \n",
      " earliest_publn_year   | 9999          \n",
      " earliest_pat_publn_id | 0             \n",
      " granted               | N             \n",
      " docdb_family_id       | 0             \n",
      " inpadoc_family_id     | 0             \n",
      " docdb_family_size     | 1             \n",
      " nb_citing_docdb_fam   | 0             \n",
      " nb_applicants         | 0             \n",
      " nb_inventors          | 0             \n",
      "-RECORD 1------------------------------\n",
      " appln_id              | 1             \n",
      " appln_auth            | EP            \n",
      " appln_nr              | 00103094      \n",
      " appln_kind            | A             \n",
      " appln_filing_date     | 2000-02-15    \n",
      " appln_filing_year     | 2000          \n",
      " appln_nr_epodoc       | EP20000103094 \n",
      " appln_nr_original     | 00103094      \n",
      " ipr_type              | PI            \n",
      " receiving_office      |               \n",
      " internat_appln_id     | 0             \n",
      " int_phase             | N             \n",
      " reg_phase             | Y             \n",
      " nat_phase             | N             \n",
      " earliest_filing_date  | 1999-03-11    \n",
      " earliest_filing_year  | 1999          \n",
      " earliest_filing_id    | 18546269      \n",
      " earliest_publn_date   | 2000-09-20    \n",
      " earliest_publn_year   | 2000          \n",
      " earliest_pat_publn_id | 293253293     \n",
      " granted               | Y             \n",
      " docdb_family_id       | 8554171       \n",
      " inpadoc_family_id     | 1             \n",
      " docdb_family_size     | 6             \n",
      " nb_citing_docdb_fam   | 79            \n",
      " nb_applicants         | 1             \n",
      " nb_inventors          | 4             \n",
      "only showing top 2 rows\n",
      "\n"
     ]
    }
   ],
   "source": [
    "query = \"select * from parquet.`/export/ml4ds/IntelComp/Datalake/patstat/2023_Autumn/parquet/tls201.parquet`\"\n",
    "df = spark.sql(query)\n",
    "\n",
    "#df = df.filter(df.appln_abstract_lg==\"en\")\n",
    "print(df.count())\n",
    "df.printSchema()\n",
    "df.show(n=2, vertical=True)"
   ]
  },
  {
   "cell_type": "markdown",
   "id": "dd9f45fe-4936-4416-a866-839c183c33f2",
   "metadata": {},
   "source": [
    "#### Count NPL publications with DOI, and how many can be matched to Semantic Scholar DOIs"
   ]
  },
  {
   "cell_type": "code",
   "execution_count": 12,
   "id": "aef7d187-0b44-4399-9e09-8bf1d8e9aa6b",
   "metadata": {},
   "outputs": [
    {
     "name": "stderr",
     "output_type": "stream",
     "text": [
      "23/12/13 11:44:34 WARN metastore.ObjectStore: Failed to get database parquet, returning NoSuchObjectException\n",
      "23/12/13 11:44:38 WARN metastore.ObjectStore: Failed to get database parquet, returning NoSuchObjectException\n"
     ]
    },
    {
     "name": "stdout",
     "output_type": "stream",
     "text": [
      "NPL elements with DOI: 1213185\n"
     ]
    },
    {
     "name": "stderr",
     "output_type": "stream",
     "text": [
      "[Stage 54:======================================================> (49 + 1) / 50]\r"
     ]
    },
    {
     "name": "stdout",
     "output_type": "stream",
     "text": [
      "Matches with Semantic Scholar: 720825\n"
     ]
    },
    {
     "name": "stderr",
     "output_type": "stream",
     "text": [
      "                                                                                \r"
     ]
    }
   ],
   "source": [
    "query = \"select * from parquet.`/export/ml4ds/IntelComp/Datalake/patstat/2023_Autumn/parquet/tls214.parquet`\"\n",
    "df = spark.sql(query)\n",
    "df = df.filter(F.col(\"npl_doi\").isNotNull())\n",
    "\n",
    "print('NPL elements with DOI:', df.count())\n",
    "#df.printSchema()\n",
    "#df.show(n=2, vertical=True)\n",
    "\n",
    "query = \"select doi from parquet.`/export/ml4ds/IntelComp/Datalake/semanticscholar/20230418/parquet/papers.parquet`\"\n",
    "df2 = spark.sql(query)\n",
    "\n",
    "matches = df.join(df2, df.npl_doi ==  df2.doi, \"inner\").count()\n",
    "print('Matches with Semantic Scholar:', matches)\n"
   ]
  },
  {
   "cell_type": "markdown",
   "id": "ada881e0-38be-4b32-8bc3-3d01d536c1a7",
   "metadata": {},
   "source": [
    "#### Find DocDB families, and also wether applications in the same DOCDB family share the title and / or abstract"
   ]
  },
  {
   "cell_type": "code",
   "execution_count": 13,
   "id": "08615225-1b18-408e-bcba-d616451b4c41",
   "metadata": {},
   "outputs": [
    {
     "name": "stderr",
     "output_type": "stream",
     "text": [
      "23/12/13 11:46:23 WARN metastore.ObjectStore: Failed to get database parquet, returning NoSuchObjectException\n",
      "                                                                                \r"
     ]
    },
    {
     "name": "stdout",
     "output_type": "stream",
     "text": [
      "Number of applications 127966159\n"
     ]
    },
    {
     "name": "stderr",
     "output_type": "stream",
     "text": [
      "                                                                                \r"
     ]
    },
    {
     "name": "stdout",
     "output_type": "stream",
     "text": [
      "Number of DOCDB families 94831731\n"
     ]
    },
    {
     "name": "stderr",
     "output_type": "stream",
     "text": [
      "[Stage 71:=====================================================>  (43 + 2) / 45]\r"
     ]
    },
    {
     "name": "stdout",
     "output_type": "stream",
     "text": [
      "Number of INPADOC families 83049810\n"
     ]
    },
    {
     "name": "stderr",
     "output_type": "stream",
     "text": [
      "                                                                                \r"
     ]
    }
   ],
   "source": [
    "query = \"select * from parquet.`/export/ml4ds/IntelComp/Datalake/patstat/2023_Autumn/parquet/tls201.parquet`\"\n",
    "df = spark.sql(query)\n",
    "\n",
    "print(\"Number of applications\", df.count())\n",
    "print(\"Number of DOCDB families\", df.select(\"DOCDB_FAMILY_ID\").distinct().count())\n",
    "print(\"Number of INPADOC families\", df.select(\"INPADOC_FAMILY_ID\").distinct().count())\n"
   ]
  },
  {
   "cell_type": "code",
   "execution_count": 14,
   "id": "137fa18e-381c-48f5-b6dd-6262937fcfa9",
   "metadata": {},
   "outputs": [
    {
     "name": "stderr",
     "output_type": "stream",
     "text": [
      "23/12/13 12:08:14 WARN metastore.ObjectStore: Failed to get database parquet, returning NoSuchObjectException\n",
      "                                                                                \r"
     ]
    },
    {
     "name": "stdout",
     "output_type": "stream",
     "text": [
      "Number of applications 107350069\n"
     ]
    },
    {
     "name": "stderr",
     "output_type": "stream",
     "text": [
      "                                                                                \r"
     ]
    },
    {
     "name": "stdout",
     "output_type": "stream",
     "text": [
      "Number of DOCDB families 76177178\n"
     ]
    },
    {
     "name": "stderr",
     "output_type": "stream",
     "text": [
      "[Stage 107:=====================================================> (45 + 1) / 46]\r"
     ]
    },
    {
     "name": "stdout",
     "output_type": "stream",
     "text": [
      "Number of INPADOC families 73543937\n"
     ]
    },
    {
     "name": "stderr",
     "output_type": "stream",
     "text": [
      "                                                                                \r"
     ]
    }
   ],
   "source": [
    "query = \"select * from parquet.`/export/ml4ds/IntelComp/Datalake/patstat/2023_Autumn/parquet/tls202.parquet`\"\n",
    "df_abstracts = spark.sql(query)\n",
    "df = df.join(df_abstracts, df.appln_id ==  df_abstracts.appln_id, \"inner\").drop(df_abstracts.appln_id)\n",
    "\n",
    "print(\"Number of applications\", df.count())\n",
    "print(\"Number of DOCDB families\", df.select(\"DOCDB_FAMILY_ID\").distinct().count())\n",
    "print(\"Number of INPADOC families\", df.select(\"INPADOC_FAMILY_ID\").distinct().count())\n"
   ]
  },
  {
   "cell_type": "code",
   "execution_count": 15,
   "id": "7626b177-0d05-41c0-b123-db607daa7530",
   "metadata": {},
   "outputs": [
    {
     "name": "stderr",
     "output_type": "stream",
     "text": [
      "                                                                                \r"
     ]
    }
   ],
   "source": [
    "df_pandas = df.groupBy(\"DOCDB_FAMILY_ID\").agg(F.collect_list(\"appln_title\").alias(\"group_values\")).sample(withReplacement=False, fraction=1e-4).collect()"
   ]
  },
  {
   "cell_type": "code",
   "execution_count": 17,
   "id": "db628d1c-723c-4375-819a-5b902107791d",
   "metadata": {},
   "outputs": [
    {
     "data": {
      "text/plain": [
       "7650"
      ]
     },
     "execution_count": 17,
     "metadata": {},
     "output_type": "execute_result"
    }
   ],
   "source": [
    "len(df_pandas)"
   ]
  },
  {
   "cell_type": "code",
   "execution_count": 18,
   "id": "d53cd750-c864-4fe1-a61b-3e51089f74a5",
   "metadata": {},
   "outputs": [
    {
     "data": {
      "text/plain": [
       "9686"
      ]
     },
     "execution_count": 18,
     "metadata": {},
     "output_type": "execute_result"
    }
   ],
   "source": [
    "sum([len(set(el[1])) for el in df_pandas])"
   ]
  },
  {
   "cell_type": "markdown",
   "id": "fc23bae6",
   "metadata": {},
   "source": [
    "## Create a new table for Patent Applications `patstat_appln.parquet`"
   ]
  },
  {
   "cell_type": "code",
   "execution_count": 4,
   "id": "1e329e5d",
   "metadata": {},
   "outputs": [
    {
     "name": "stderr",
     "output_type": "stream",
     "text": [
      "23/12/18 11:20:30 WARN util.package: Truncated the string representation of a plan since it was too large. This behavior can be adjusted by setting 'spark.sql.debug.maxToStringFields'.\n",
      "[Stage 16:======================================================> (44 + 1) / 45]\r"
     ]
    },
    {
     "name": "stdout",
     "output_type": "stream",
     "text": [
      "Created table patstat_appln - Rows: 127966159\n",
      "CPU times: user 423 ms, sys: 58.2 ms, total: 481 ms\n",
      "Wall time: 6min 38s\n"
     ]
    },
    {
     "name": "stderr",
     "output_type": "stream",
     "text": [
      "                                                                                \r"
     ]
    }
   ],
   "source": [
    "%%time\n",
    "\n",
    "df_201 = spark.read.parquet(dir_parquet.joinpath(f\"tls201.parquet\").as_posix())\n",
    "df_202 = spark.read.parquet(dir_parquet.joinpath(f\"tls202.parquet\").as_posix())\n",
    "df_203 = spark.read.parquet(dir_parquet.joinpath(f\"tls203.parquet\").as_posix())\n",
    "\n",
    "patstat_appln = (df_201.join(df_202, df_201.appln_id ==  df_202.appln_id, \"left\")\n",
    "                      .drop(df_202.appln_id)\n",
    "                      .join(df_203, df_201.appln_id ==  df_203.appln_id, \"left\")\n",
    "                      .drop(df_203.appln_id)\n",
    "                )\n",
    "\n",
    "patstat_appln.write.parquet(\n",
    "        dir_parquet.joinpath(f\"patstat_appln.parquet\").as_posix(),\n",
    "        mode=\"overwrite\",\n",
    "    )\n",
    "\n",
    "print(\"Created table patstat_appln\", \"- Rows:\", patstat_appln.count())"
   ]
  },
  {
   "cell_type": "code",
   "execution_count": 9,
   "id": "68722eb7-579b-44d0-aafa-01ad6463f02b",
   "metadata": {},
   "outputs": [
    {
     "name": "stderr",
     "output_type": "stream",
     "text": [
      "                                                                                \r"
     ]
    },
    {
     "data": {
      "text/plain": [
       "84835245"
      ]
     },
     "execution_count": 9,
     "metadata": {},
     "output_type": "execute_result"
    }
   ],
   "source": [
    "at_appln = spark.read.parquet(dir_parquet.joinpath(f\"patstat_appln.parquet\").as_posix())\n",
    "patstat_appln = patstat_appln.filter(patstat_appln.appln_title.isNotNull())\n",
    "patstat_appln.count()"
   ]
  },
  {
   "cell_type": "code",
   "execution_count": 8,
   "id": "3762055c",
   "metadata": {},
   "outputs": [
    {
     "name": "stderr",
     "output_type": "stream",
     "text": [
      "                                                                                \r"
     ]
    },
    {
     "data": {
      "text/plain": [
       "85019519"
      ]
     },
     "execution_count": 8,
     "metadata": {},
     "output_type": "execute_result"
    }
   ],
   "source": [
    "patstat_appln = spark.read.parquet(dir_parquet.joinpath(f\"patstat_appln.parquet\").as_posix())\n",
    "patstat_appln = patstat_appln.filter(patstat_appln.appln_abstract.isNotNull())\n",
    "patstat_appln.count()"
   ]
  },
  {
   "cell_type": "markdown",
   "id": "a5021fba-3751-4109-b65a-3be29b429029",
   "metadata": {
    "jp-MarkdownHeadingCollapsed": true
   },
   "source": [
    "## Create a new table for citations `npl_citations.parquet`"
   ]
  },
  {
   "cell_type": "code",
   "execution_count": 10,
   "id": "4e96c938-ba7e-435c-ba0a-24d815b7e1f7",
   "metadata": {},
   "outputs": [
    {
     "name": "stderr",
     "output_type": "stream",
     "text": [
      "                                                                                \r"
     ]
    },
    {
     "name": "stdout",
     "output_type": "stream",
     "text": [
      "Number of citations to patent applications: 893599\n"
     ]
    },
    {
     "name": "stderr",
     "output_type": "stream",
     "text": [
      "                                                                                \r"
     ]
    },
    {
     "name": "stdout",
     "output_type": "stream",
     "text": [
      "Number of citations to other patent publications: 433212066\n"
     ]
    },
    {
     "name": "stderr",
     "output_type": "stream",
     "text": [
      "[Stage 75:=======================================================>(62 + 1) / 63]\r"
     ]
    },
    {
     "name": "stdout",
     "output_type": "stream",
     "text": [
      "Number of citations to NPL publications: 74347053\n"
     ]
    },
    {
     "name": "stderr",
     "output_type": "stream",
     "text": [
      "                                                                                \r"
     ]
    }
   ],
   "source": [
    "# Key bibliographical data elements relevant to identify patent publications\n",
    "pub = spark.read.parquet(dir_parquet.joinpath(\"tls211.parquet\").as_posix()).select(\n",
    "        \"pat_publn_id\", \"publn_kind\", \"appln_id\"\n",
    "    )\n",
    "\n",
    "# NPL publications\n",
    "npl = spark.read.parquet(dir_parquet.joinpath(\"tls214.parquet\").as_posix()).select(\"npl_publn_id\", \"npl_doi\")\n",
    "\n",
    "# Links between publications, applications and non-patent literature documents with regards to citations.\n",
    "cit = spark.read.parquet(dir_parquet.joinpath(\"tls212.parquet\").as_posix()).select(\n",
    "        \"pat_publn_id\",\n",
    "        \"cited_pat_publn_id\",\n",
    "        \"cited_appln_id\",\n",
    "        \"cited_npl_publn_id\",\n",
    "    )\n",
    "\n",
    "# Citations from patent publications to other patent applications\n",
    "cit_appln = cit.select(\"pat_publn_id\", \"cited_appln_id\").where(\n",
    "        (F.col(\"cited_appln_id\").isNotNull()) & (F.col(\"cited_appln_id\") != \"0\")\n",
    "    )\n",
    "\n",
    "# Citations to from patent publications to other patent publications\n",
    "cit_publn = cit.select(\"pat_publn_id\", \"cited_pat_publn_id\").where(\n",
    "        (F.col(\"cited_pat_publn_id\").isNotNull()) & (F.col(\"cited_pat_publn_id\") != \"0\")\n",
    "    )\n",
    "    \n",
    "# Citations from patent publications to NPL publications\n",
    "cit_npl = cit.select(\"pat_publn_id\", \"cited_npl_publn_id\").where(\n",
    "        (F.col(\"cited_npl_publn_id\").isNotNull()) & (F.col(\"cited_npl_publn_id\") != \"0\")\n",
    "    )\n",
    "\n",
    "print(\"Number of citations to patent applications:\", cit_appln.count())\n",
    "print(\"Number of citations to other patent publications:\", cit_publn.count())\n",
    "print(\"Number of citations to NPL publications:\", cit_npl.count())"
   ]
  },
  {
   "cell_type": "markdown",
   "id": "12756fa5-680b-416f-8ffe-51c33fddaced",
   "metadata": {},
   "source": [
    "We will create only a table from citations from PATSTAT to NPL"
   ]
  },
  {
   "cell_type": "code",
   "execution_count": 8,
   "id": "92c99735-e3b8-4b42-a9d0-228696a631a2",
   "metadata": {},
   "outputs": [],
   "source": [
    "cit_pat_npl = (\n",
    "    cit_npl.join(\n",
    "        pub,\n",
    "        cit_npl.pat_publn_id == pub.pat_publn_id,\n",
    "            \"left\",\n",
    "    )\n",
    "    .drop(pub.pat_publn_id)\n",
    "    .join(\n",
    "        npl,\n",
    "        cit_npl.cited_npl_publn_id == npl.npl_publn_id,\n",
    "            \"left\",\n",
    "        )\n",
    "    .drop(npl.npl_publn_id)\n",
    "    .select(\n",
    "        \"appln_id\",\n",
    "        \"pat_publn_id\",\n",
    "        \"publn_kind\",\n",
    "        \"cited_npl_publn_id\",\n",
    "        \"npl_doi\",\n",
    "    )\n",
    ")\n"
   ]
  },
  {
   "cell_type": "code",
   "execution_count": 9,
   "id": "9eb2aa94-b0ef-466e-8901-346298fbced9",
   "metadata": {},
   "outputs": [
    {
     "name": "stderr",
     "output_type": "stream",
     "text": [
      "[Stage 43:======================================================> (49 + 1) / 50]\r"
     ]
    },
    {
     "name": "stdout",
     "output_type": "stream",
     "text": [
      "-RECORD 0----------------------------------\n",
      " appln_id           | 378958869            \n",
      " pat_publn_id       | 418283084            \n",
      " publn_kind         | B2                   \n",
      " cited_npl_publn_id | 3B004C0CD3CA39968... \n",
      " npl_doi            | null                 \n",
      "-RECORD 1----------------------------------\n",
      " appln_id           | 469366199            \n",
      " pat_publn_id       | 489730346            \n",
      " publn_kind         | A1                   \n",
      " cited_npl_publn_id | 487C29E922218642B... \n",
      " npl_doi            | 10.1016/J.SUSC.20... \n",
      "-RECORD 2----------------------------------\n",
      " appln_id           | 45680759             \n",
      " pat_publn_id       | 341764073            \n",
      " publn_kind         | A3                   \n",
      " cited_npl_publn_id | 7382DADC0E2B89A8E... \n",
      " npl_doi            | null                 \n",
      "only showing top 3 rows\n",
      "\n"
     ]
    },
    {
     "name": "stderr",
     "output_type": "stream",
     "text": [
      "                                                                                \r"
     ]
    }
   ],
   "source": [
    "cit_pat_npl.show(n=3, vertical=True)"
   ]
  },
  {
   "cell_type": "code",
   "execution_count": 10,
   "id": "a350847d-b525-4ceb-a259-407996c21fb2",
   "metadata": {},
   "outputs": [
    {
     "name": "stderr",
     "output_type": "stream",
     "text": [
      "                                                                                \r"
     ]
    }
   ],
   "source": [
    "cit_pat_npl.write.parquet(\n",
    "        dir_parquet.joinpath(f\"npl_citations.parquet\").as_posix(),\n",
    "        mode=\"overwrite\",\n",
    ")"
   ]
  },
  {
   "cell_type": "code",
   "execution_count": 11,
   "id": "05393059-a0e6-4593-b2ed-56a22db205be",
   "metadata": {},
   "outputs": [
    {
     "name": "stderr",
     "output_type": "stream",
     "text": [
      "                                                                                \r"
     ]
    },
    {
     "name": "stdout",
     "output_type": "stream",
     "text": [
      "Total number of citations to NPL: 74347053\n"
     ]
    },
    {
     "name": "stderr",
     "output_type": "stream",
     "text": [
      "[Stage 87:======================================================> (44 + 1) / 45]\r"
     ]
    },
    {
     "name": "stdout",
     "output_type": "stream",
     "text": [
      "Total number with DOS: 2066966\n"
     ]
    },
    {
     "name": "stderr",
     "output_type": "stream",
     "text": [
      "                                                                                \r"
     ]
    }
   ],
   "source": [
    "print(\"Total number of citations to NPL:\", cit_pat_npl.count())\n",
    "print(\"Total number with DOI:\", cit_pat_npl.filter(F.col(\"npl_doi\").isNotNull()).count())"
   ]
  },
  {
   "cell_type": "markdown",
   "id": "d2d84ef0-0264-42e1-b6b1-35eb9de8c436",
   "metadata": {},
   "source": [
    "# Generate data for the IMT Training Data sets"
   ]
  },
  {
   "cell_type": "code",
   "execution_count": 12,
   "id": "6362299f-473f-484f-956b-94bcb87c5b4a",
   "metadata": {},
   "outputs": [
    {
     "name": "stderr",
     "output_type": "stream",
     "text": [
      "23/12/14 10:14:27 WARN conf.HiveConf: HiveConf of name hive.stats.jdbc.timeout does not exist\n",
      "23/12/14 10:14:27 WARN conf.HiveConf: HiveConf of name hive.stats.retries.wait does not exist\n",
      "23/12/14 10:14:30 WARN metastore.ObjectStore: Version information not found in metastore. hive.metastore.schema.verification is not enabled so recording the schema version 2.3.0\n",
      "23/12/14 10:14:30 WARN metastore.ObjectStore: setMetaStoreSchemaVersion called but recording version is disabled: version = 2.3.0, comment = Set by MetaStore mbalairon@192.168.148.147\n",
      "23/12/14 10:14:30 WARN metastore.ObjectStore: Failed to get database global_temp, returning NoSuchObjectException\n",
      "23/12/14 10:14:30 WARN metastore.ObjectStore: Failed to get database parquet, returning NoSuchObjectException\n",
      "                                                                                \r"
     ]
    },
    {
     "name": "stdout",
     "output_type": "stream",
     "text": [
      "Number of patents with abstract in English language: 77441047\n",
      "root\n",
      " |-- appln_id: string (nullable = true)\n",
      " |-- docdb_family_id: string (nullable = true)\n",
      " |-- appln_title: string (nullable = true)\n",
      " |-- appln_title_lg: string (nullable = true)\n",
      " |-- appln_abstract: string (nullable = true)\n",
      " |-- appln_abstract_lg: string (nullable = true)\n",
      " |-- appln_filing_year: string (nullable = true)\n",
      " |-- earliest_filing_year: string (nullable = true)\n",
      " |-- granted: string (nullable = true)\n",
      " |-- appln_auth: string (nullable = true)\n",
      " |-- receiving_office: string (nullable = true)\n",
      " |-- ipr_type: string (nullable = true)\n",
      "\n"
     ]
    },
    {
     "name": "stderr",
     "output_type": "stream",
     "text": [
      "[Stage 98:>                                                         (0 + 1) / 1]\r"
     ]
    },
    {
     "name": "stdout",
     "output_type": "stream",
     "text": [
      "-RECORD 0----------------------------------------------------------------------------------------------------------------------------------------\n",
      " appln_id             | 10000172                                                                                                                 \n",
      " docdb_family_id      | 5871993                                                                                                                  \n",
      " appln_title          | 2-Hydroxy-3-cyano-pyridone-(6) derivs - coupling compts. for the prepn. of azo dyes                                      \n",
      " appln_title_lg       | en                                                                                                                       \n",
      " appln_abstract       | The novel cpds. are of formula (I): (where R is (substd.)alkyl-, alkylene-, aralkyl-, cycloalkyl- or phenyl). They ar... \n",
      " appln_abstract_lg    | en                                                                                                                       \n",
      " appln_filing_year    | 1973                                                                                                                     \n",
      " earliest_filing_year | 1973                                                                                                                     \n",
      " granted              | N                                                                                                                        \n",
      " appln_auth           | DE                                                                                                                       \n",
      " receiving_office     |                                                                                                                          \n",
      " ipr_type             | PI                                                                                                                       \n",
      "-RECORD 1----------------------------------------------------------------------------------------------------------------------------------------\n",
      " appln_id             | 10000989                                                                                                                 \n",
      " docdb_family_id      | 5872463                                                                                                                  \n",
      " appln_title          | Sowing partially germinated seeds - by mixing seeds with fillers and transferring fillers and germinated seeds into soil \n",
      " appln_title_lg       | en                                                                                                                       \n",
      " appln_abstract       | Seeds are sown in a manner reducing the germination time and in a weed free environment by mixing the seeds with fill... \n",
      " appln_abstract_lg    | en                                                                                                                       \n",
      " appln_filing_year    | 1973                                                                                                                     \n",
      " earliest_filing_year | 1973                                                                                                                     \n",
      " granted              | N                                                                                                                        \n",
      " appln_auth           | DE                                                                                                                       \n",
      " receiving_office     |                                                                                                                          \n",
      " ipr_type             | PI                                                                                                                       \n",
      "only showing top 2 rows\n",
      "\n"
     ]
    },
    {
     "name": "stderr",
     "output_type": "stream",
     "text": [
      "                                                                                \r"
     ]
    }
   ],
   "source": [
    "query = \"select appln_id, docdb_family_id, appln_title, appln_title_lg, appln_abstract, appln_abstract_lg, appln_filing_year, earliest_filing_year, \"\n",
    "query += \"granted, appln_auth, receiving_office, ipr_type from parquet.`/export/ml4ds/IntelComp/Datalake/patstat/2023_Autumn/parquet/patstat_appln.parquet`\"\n",
    "df_patents = spark.sql(query)\n",
    "\n",
    "df_patents = df_patents.filter(F.col(\"appln_abstract\").isNotNull()).filter(df_patents.appln_abstract_lg==\"en\")\n",
    "\n",
    "print('Number of patents with abstract in English language:', df_patents.count())\n",
    "df_patents.printSchema()\n",
    "df_patents.show(n=2, truncate=120, vertical=True)"
   ]
  },
  {
   "cell_type": "markdown",
   "id": "367796ea-d53d-4929-98a6-f9aa8d7f4721",
   "metadata": {},
   "source": [
    "## Cancer datasets"
   ]
  },
  {
   "cell_type": "markdown",
   "id": "28fd0f09-ae28-4ec2-832c-199a998e970c",
   "metadata": {},
   "source": [
    "### Filter according to CPC"
   ]
  },
  {
   "cell_type": "code",
   "execution_count": 13,
   "id": "e75928a6-f9d3-4430-8659-6ffc9f31f4e7",
   "metadata": {},
   "outputs": [
    {
     "name": "stderr",
     "output_type": "stream",
     "text": [
      "23/12/14 10:15:14 WARN metastore.ObjectStore: Failed to get database parquet, returning NoSuchObjectException\n",
      "                                                                                \r"
     ]
    },
    {
     "name": "stdout",
     "output_type": "stream",
     "text": [
      "Number of cpc entries: 382631077\n",
      "root\n",
      " |-- appln_id: string (nullable = true)\n",
      " |-- cpc_class_symbol: string (nullable = true)\n",
      "\n",
      "-RECORD 0-------------------------\n",
      " appln_id         | 26534503      \n",
      " cpc_class_symbol | G04G   9/0064 \n",
      "-RECORD 1-------------------------\n",
      " appln_id         | 26534507      \n",
      " cpc_class_symbol | H04Q   3/60   \n",
      "only showing top 2 rows\n",
      "\n"
     ]
    },
    {
     "name": "stderr",
     "output_type": "stream",
     "text": [
      "                                                                                \r"
     ]
    }
   ],
   "source": [
    "query = \"select appln_id, cpc_class_symbol from parquet.`/export/ml4ds/IntelComp/Datalake/patstat/2023_Autumn/parquet/tls224.parquet`\"\n",
    "df_cpc = spark.sql(query)\n",
    "\n",
    "print('Number of cpc entries:', df_cpc.count())\n",
    "df_cpc.printSchema()\n",
    "df_cpc.show(n=2, truncate=120, vertical=True)"
   ]
  },
  {
   "cell_type": "code",
   "execution_count": 14,
   "id": "314aa8f2-d29b-4ad4-a392-ece95986e3f8",
   "metadata": {},
   "outputs": [
    {
     "name": "stderr",
     "output_type": "stream",
     "text": [
      "                                                                                \r"
     ]
    },
    {
     "name": "stdout",
     "output_type": "stream",
     "text": [
      "Number of cpc entries: 474905\n",
      "Number of applications: 302783\n",
      "root\n",
      " |-- appln_id: string (nullable = true)\n",
      " |-- cpc_class_symbol: array (nullable = false)\n",
      " |    |-- element: string (containsNull = false)\n",
      "\n"
     ]
    },
    {
     "name": "stderr",
     "output_type": "stream",
     "text": [
      "[Stage 113:===============================================>       (54 + 9) / 63]\r"
     ]
    },
    {
     "name": "stdout",
     "output_type": "stream",
     "text": [
      "-RECORD 0----------------------------\n",
      " appln_id         | 10007045         \n",
      " cpc_class_symbol | [C12N   5/0693]  \n",
      "-RECORD 1----------------------------\n",
      " appln_id         | 1001853          \n",
      " cpc_class_symbol | [G01N  33/57434] \n",
      "only showing top 2 rows\n",
      "\n"
     ]
    },
    {
     "name": "stderr",
     "output_type": "stream",
     "text": [
      "                                                                                \r"
     ]
    }
   ],
   "source": [
    "cancer_cpcs = [\"C12Q1/6886\",\"G01N33/574\",\"A61K39/0011\",\"G01N33/5011\",\"G01N33/57484\",\"C07K16/30\",\"G01N33/57492\",\"A61L2300/416\",\"G01N33/57434\",\"G01N33/53\",\"G01N33/57423\",\"G01N33/57419\",\"G01N33/57415\",\"G01N33/57407\",\"G01N33/57488\",\"C12N15/1135\",\"A61K47/48569\",\"G01N33/57438\",\"G06T2207/30096\",\"G01N33/57496\",\"G01N33/57426\",\"C07K16/3053\",\"C07K16/3069\",\"G01N33/57449\",\"C12N5/0693\",\"A23V2200/308\",\"C07K16/3015\",\"A61K47/48584\",\"C07K16/3007\",\"C07K16/3046\",\"C07K16/3061\",\"G01N33/57446\",\"A61K2039/5152\",\"A61K2039/585\",\"C07K16/303\",\"A61K51/1045\",\"G01N2800/7028\",\"G01N33/5743\",\"A61K35/13\",\"A61K47/48638\",\"C07K16/3023\",\"G01N33/5017\",\"G01N33/5748\",\"A61K35/768\",\"A61K47/4863\",\"G01N2333/82\",\"G01N33/57411\",\"C07K16/3076\",\"A61K47/48615\",\"G01N33/57442\",\"Y10S436/813\",\"A61K47/48576\",\"A61K51/1072\",\"C07K16/3038\",\"A61K51/1057\",\"A61K51/1048\",\"C12N5/0093\",\"A61K47/48607\",\"Y10S977/911\",\"A61K38/1764\",\"G01N33/57476\",\"G01N33/57469\",\"A61K51/106\",\"A61K45/05\",\"G01N2033/57403\",\"G01N2033/57461\",\"G01N2033/57465\",\"G01N2033/57453\",\"G01N2033/57457\"]\n",
    "CPC_match_UDF = F.udf(lambda x: x.replace(' ', '') in cancer_cpcs, BooleanType())\n",
    "\n",
    "# df_FOS.withColumn(\"FOS_source\", myUDF(F.col(\"S2fieldsofstudy\"))) \\\n",
    "#   .show(n=2, truncate=120, vertical=True)\n",
    "\n",
    "df_cpc_cancer = df_cpc.withColumn(\"isCancer\", CPC_match_UDF(F.col(\"cpc_class_symbol\"))).filter(\"isCancer\").drop(\"isCancer\").cache()\n",
    "\n",
    "print('Number of cpc entries:', df_cpc_cancer.count())\n",
    "\n",
    "df_appln_cancer = df_cpc_cancer.groupBy(\"appln_id\").agg(F.collect_list(\"cpc_class_symbol\").alias(\"cpc_class_symbol\"))\n",
    "\n",
    "print('Number of applications:', df_appln_cancer.count())\n",
    "df_appln_cancer.printSchema()\n",
    "df_appln_cancer.show(n=2, truncate=120, vertical=True)"
   ]
  },
  {
   "cell_type": "code",
   "execution_count": 15,
   "id": "5f3df16a-604c-469e-9017-01d346a3839b",
   "metadata": {},
   "outputs": [
    {
     "name": "stderr",
     "output_type": "stream",
     "text": [
      "                                                                                \r"
     ]
    },
    {
     "name": "stdout",
     "output_type": "stream",
     "text": [
      "Selected CPC: 216827\n",
      "root\n",
      " |-- appln_id: string (nullable = true)\n",
      " |-- docdb_family_id: string (nullable = true)\n",
      " |-- appln_title: string (nullable = true)\n",
      " |-- appln_title_lg: string (nullable = true)\n",
      " |-- appln_abstract: string (nullable = true)\n",
      " |-- appln_abstract_lg: string (nullable = true)\n",
      " |-- appln_filing_year: string (nullable = true)\n",
      " |-- earliest_filing_year: string (nullable = true)\n",
      " |-- granted: string (nullable = true)\n",
      " |-- appln_auth: string (nullable = true)\n",
      " |-- receiving_office: string (nullable = true)\n",
      " |-- ipr_type: string (nullable = true)\n",
      " |-- cpc_class_symbol: array (nullable = false)\n",
      " |    |-- element: string (containsNull = false)\n",
      "\n"
     ]
    },
    {
     "name": "stderr",
     "output_type": "stream",
     "text": [
      "[Stage 126:>                                                        (0 + 1) / 1]\r"
     ]
    },
    {
     "name": "stdout",
     "output_type": "stream",
     "text": [
      "-RECORD 0----------------------------------------------------------------------------------------------------------------------------------------\n",
      " appln_id             | 128357                                                                                                                   \n",
      " docdb_family_id      | 37963490                                                                                                                 \n",
      " appln_title          | CANCER IMAGING AND TREATMENT                                                                                             \n",
      " appln_title_lg       | en                                                                                                                       \n",
      " appln_abstract       | A compound, or a pharmaceutically acceptable salt or ester thereof, comprises a ligand for the chemokine receptor CXC... \n",
      " appln_abstract_lg    | en                                                                                                                       \n",
      " appln_filing_year    | 2007                                                                                                                     \n",
      " earliest_filing_year | 2006                                                                                                                     \n",
      " granted              | N                                                                                                                        \n",
      " appln_auth           | EP                                                                                                                       \n",
      " receiving_office     |                                                                                                                          \n",
      " ipr_type             | PI                                                                                                                       \n",
      " cpc_class_symbol     | [G01N  33/574]                                                                                                           \n",
      "-RECORD 1----------------------------------------------------------------------------------------------------------------------------------------\n",
      " appln_id             | 13004786                                                                                                                 \n",
      " docdb_family_id      | 7702641                                                                                                                  \n",
      " appln_title          | Implant e.g. a stent, comprises a decomposable substance which allows contact between the cell proliferation inhibito... \n",
      " appln_title_lg       | en                                                                                                                       \n",
      " appln_abstract       | An implant (1), with main structure (2) comprises a first substance (4) inhibiting cell proliferation and a second de... \n",
      " appln_abstract_lg    | en                                                                                                                       \n",
      " appln_filing_year    | 2001                                                                                                                     \n",
      " earliest_filing_year | 2001                                                                                                                     \n",
      " granted              | N                                                                                                                        \n",
      " appln_auth           | DE                                                                                                                       \n",
      " receiving_office     |                                                                                                                          \n",
      " ipr_type             | PI                                                                                                                       \n",
      " cpc_class_symbol     | [A61L2300/416]                                                                                                           \n",
      "only showing top 2 rows\n",
      "\n"
     ]
    },
    {
     "name": "stderr",
     "output_type": "stream",
     "text": [
      "                                                                                \r"
     ]
    }
   ],
   "source": [
    "selected_CPC = df_patents.join(df_appln_cancer, df_patents.appln_id == df_appln_cancer.appln_id, \"inner\").drop(df_appln_cancer.appln_id)\n",
    "print('Selected CPC:', selected_CPC.count())\n",
    "selected_CPC.printSchema()\n",
    "selected_CPC.show(n=2, truncate=120, vertical=True)"
   ]
  },
  {
   "cell_type": "code",
   "execution_count": 16,
   "id": "defaa1b1-799f-4014-8375-b9bc0d255d0f",
   "metadata": {},
   "outputs": [
    {
     "name": "stderr",
     "output_type": "stream",
     "text": [
      "                                                                                \r"
     ]
    }
   ],
   "source": [
    "selected_CPC.repartition(40).write.parquet(\n",
    "    dir_parquet.joinpath(f\"patents_Cancer_CPC.parquet\").as_posix(),\n",
    "    mode=\"overwrite\",\n",
    ")"
   ]
  },
  {
   "cell_type": "markdown",
   "id": "2aca4eaa-2dd1-45b1-8764-f8673ac8990f",
   "metadata": {},
   "source": [
    "### Filter according to citations to Cancer publications"
   ]
  },
  {
   "cell_type": "code",
   "execution_count": 23,
   "id": "db24bfc6-ee4d-444a-9702-63e238f8341b",
   "metadata": {},
   "outputs": [
    {
     "name": "stderr",
     "output_type": "stream",
     "text": [
      "23/12/14 10:24:00 WARN metastore.ObjectStore: Failed to get database parquet, returning NoSuchObjectException\n",
      "                                                                                \r"
     ]
    },
    {
     "data": {
      "text/plain": [
       "211633102"
      ]
     },
     "execution_count": 23,
     "metadata": {},
     "output_type": "execute_result"
    }
   ],
   "source": [
    "query = \"select PMID, externalids.doi as doi from parquet.`/export/ml4ds/IntelComp/Datalake/semanticscholar/20230418/parquet/papers.parquet`\"\n",
    "publis = spark.sql(query)\n",
    "publis.count()"
   ]
  },
  {
   "cell_type": "code",
   "execution_count": 24,
   "id": "e9df28f0-ca24-4673-8c68-01a36a02243e",
   "metadata": {},
   "outputs": [],
   "source": [
    "cancer_df = spark.read.parquet('file:///export/clusterdata/jarenas/Datasets/semanticscholar/20230418/PMID_Cancer.parquet')\n",
    "cancer_df = cancer_df.withColumn(\"PMID\", cancer_df.PMID.cast('string'))"
   ]
  },
  {
   "cell_type": "code",
   "execution_count": 25,
   "id": "8673fb16-a13f-44e9-b741-3b8295bd4d78",
   "metadata": {},
   "outputs": [
    {
     "name": "stderr",
     "output_type": "stream",
     "text": [
      "[Stage 156:=====================================================> (43 + 1) / 44]\r"
     ]
    },
    {
     "name": "stdout",
     "output_type": "stream",
     "text": [
      "2436965\n",
      "root\n",
      " |-- PMID: string (nullable = true)\n",
      " |-- PMID: string (nullable = true)\n",
      " |-- doi: string (nullable = true)\n",
      "\n"
     ]
    },
    {
     "name": "stderr",
     "output_type": "stream",
     "text": [
      "                                                                                \r"
     ]
    }
   ],
   "source": [
    "cancerDOIS = cancer_df.join(publis, cancer_df.PMID ==  publis.PMID, \"inner\")\n",
    "print(cancerDOIS.count())\n",
    "cancerDOIS.printSchema()"
   ]
  },
  {
   "cell_type": "code",
   "execution_count": 26,
   "id": "9f728e9c-ed41-4af1-ab9e-c812a4fb5887",
   "metadata": {},
   "outputs": [
    {
     "name": "stderr",
     "output_type": "stream",
     "text": [
      "23/12/14 10:25:58 WARN metastore.ObjectStore: Failed to get database parquet, returning NoSuchObjectException\n",
      "                                                                                \r"
     ]
    },
    {
     "data": {
      "text/plain": [
       "74347053"
      ]
     },
     "execution_count": 26,
     "metadata": {},
     "output_type": "execute_result"
    }
   ],
   "source": [
    "query = \"select appln_id, npl_doi as doi from parquet.`/export/ml4ds/IntelComp/Datalake/patstat/2023_Autumn/parquet/npl_citations.parquet`\"\n",
    "citations = spark.sql(query)\n",
    "citations.count()"
   ]
  },
  {
   "cell_type": "code",
   "execution_count": 27,
   "id": "bbc2cd7d-681c-4219-8c14-75b746330c6d",
   "metadata": {},
   "outputs": [
    {
     "name": "stderr",
     "output_type": "stream",
     "text": [
      "[Stage 165:==============================================>        (42 + 0) / 50]\r"
     ]
    },
    {
     "name": "stdout",
     "output_type": "stream",
     "text": [
      "+---------+--------------------+\n",
      "| appln_id|                 doi|\n",
      "+---------+--------------------+\n",
      "|574602294|10.1109/CVPRW5309...|\n",
      "|472866403|10.1021/acs.chemm...|\n",
      "+---------+--------------------+\n",
      "only showing top 2 rows\n",
      "\n"
     ]
    },
    {
     "name": "stderr",
     "output_type": "stream",
     "text": [
      "                                                                                \r"
     ]
    }
   ],
   "source": [
    "citations = citations.filter(F.col(\"doi\").isNotNull())\n",
    "citations.count()\n",
    "citations.show(n=2)"
   ]
  },
  {
   "cell_type": "code",
   "execution_count": 28,
   "id": "d52decee-e8c4-4841-b2e9-60acf4da26bf",
   "metadata": {},
   "outputs": [
    {
     "name": "stderr",
     "output_type": "stream",
     "text": [
      "[Stage 169:==============================================>        (42 + 0) / 50]\r"
     ]
    },
    {
     "name": "stdout",
     "output_type": "stream",
     "text": [
      "2066966\n"
     ]
    },
    {
     "name": "stderr",
     "output_type": "stream",
     "text": [
      "                                                                                \r"
     ]
    }
   ],
   "source": [
    "print(citations.count())"
   ]
  },
  {
   "cell_type": "code",
   "execution_count": 29,
   "id": "8861f0b9-6649-4cac-a935-31f31a4dbbf5",
   "metadata": {},
   "outputs": [],
   "source": [
    "intersect = citations.join(cancerDOIS, citations.doi==cancerDOIS.doi, \"inner\")"
   ]
  },
  {
   "cell_type": "code",
   "execution_count": 30,
   "id": "e6fef51d-51c8-4934-ac8f-ba276118ec40",
   "metadata": {},
   "outputs": [
    {
     "name": "stderr",
     "output_type": "stream",
     "text": [
      "                                                                                \r"
     ]
    },
    {
     "data": {
      "text/plain": [
       "175054"
      ]
     },
     "execution_count": 30,
     "metadata": {},
     "output_type": "execute_result"
    }
   ],
   "source": [
    "intersect.count()"
   ]
  },
  {
   "cell_type": "code",
   "execution_count": 31,
   "id": "a9a95d72-cef2-4375-a5df-12a443a1a4e4",
   "metadata": {},
   "outputs": [
    {
     "name": "stderr",
     "output_type": "stream",
     "text": [
      "                                                                                \r"
     ]
    },
    {
     "data": {
      "text/plain": [
       "84540"
      ]
     },
     "execution_count": 31,
     "metadata": {},
     "output_type": "execute_result"
    }
   ],
   "source": [
    "patents_PMID = intersect.select(\"appln_id\").distinct()\n",
    "patents_PMID.count()"
   ]
  },
  {
   "cell_type": "code",
   "execution_count": 35,
   "id": "d52c2245-f719-4b27-aaf3-da64fbd4e6e0",
   "metadata": {},
   "outputs": [
    {
     "name": "stderr",
     "output_type": "stream",
     "text": [
      "                                                                                ]\r"
     ]
    },
    {
     "data": {
      "text/plain": [
       "29281"
      ]
     },
     "execution_count": 35,
     "metadata": {},
     "output_type": "execute_result"
    }
   ],
   "source": [
    "patents_PMID.join(Cancer_patents, patents_PMID.appln_id==Cancer_patents.appln_id, \"inner\").count()"
   ]
  },
  {
   "cell_type": "markdown",
   "id": "6508a9ef-4699-4a10-9fd5-c3e86c973fee",
   "metadata": {},
   "source": [
    "## AI dataset"
   ]
  },
  {
   "cell_type": "markdown",
   "id": "6222c365-7fa7-4dd7-8b59-680dd36b8c5a",
   "metadata": {},
   "source": [
    "### Filter according to keywords matching"
   ]
  },
  {
   "cell_type": "code",
   "execution_count": 32,
   "id": "d6f495e5-1a59-42a2-87b9-839f7b572e7d",
   "metadata": {},
   "outputs": [
    {
     "name": "stdout",
     "output_type": "stream",
     "text": [
      "Number of keywords: 266\n"
     ]
    }
   ],
   "source": [
    "with open(\"/export/clusterdata/jarenas/Datasets/semanticscholar/20230418/IA_keywords_SEAD_REV_JAG_JCS.txt\", \"r\") as fin:\n",
    "    AI_kwds = [el.strip() for el in fin.readlines()]\n",
    "print('Number of keywords:', len(AI_kwds))"
   ]
  },
  {
   "cell_type": "code",
   "execution_count": 33,
   "id": "0ac27cef-3ea1-4ffe-9208-d0781ad783d5",
   "metadata": {},
   "outputs": [
    {
     "name": "stderr",
     "output_type": "stream",
     "text": [
      "[Stage 213:====================================================>(399 + 1) / 400]\r"
     ]
    },
    {
     "name": "stdout",
     "output_type": "stream",
     "text": [
      "Number of documents in AI dataset: 493269\n",
      "-RECORD 0----------------------------------------------------------------------------------------------------------------------------------------\n",
      " appln_id             | 10512667                                                                                                                 \n",
      " docdb_family_id      | 5523418                                                                                                                  \n",
      " appln_title          | Metal foreign body detection for steel reinforced conveyor belt - compares properties of belt before and after delive... \n",
      " appln_title_lg       | en                                                                                                                       \n",
      " appln_abstract       | The detection of metal foreign bodies within material deposited on a steel wire reinforced conveyor belt is effected ... \n",
      " appln_abstract_lg    | en                                                                                                                       \n",
      " appln_filing_year    | 1980                                                                                                                     \n",
      " earliest_filing_year | 1980                                                                                                                     \n",
      " granted              | N                                                                                                                        \n",
      " appln_auth           | DE                                                                                                                       \n",
      " receiving_office     |                                                                                                                          \n",
      " ipr_type             | PI                                                                                                                       \n",
      " raw_text             | Metal foreign body detection for steel reinforced conveyor belt - compares properties of belt before and after delive... \n",
      " Kwd_count            | 1                                                                                                                        \n",
      "-RECORD 1----------------------------------------------------------------------------------------------------------------------------------------\n",
      " appln_id             | 11219486                                                                                                                 \n",
      " docdb_family_id      | 13134425                                                                                                                 \n",
      " appln_title          | Learning process for neural network - comparing sample signals and categorising for use in backward learning process     \n",
      " appln_title_lg       | en                                                                                                                       \n",
      " appln_abstract       | The learning process is used with a neural network that has an input layer (1) of 7 frames together with a further tw... \n",
      " appln_abstract_lg    | en                                                                                                                       \n",
      " appln_filing_year    | 1992                                                                                                                     \n",
      " earliest_filing_year | 1991                                                                                                                     \n",
      " granted              | Y                                                                                                                        \n",
      " appln_auth           | DE                                                                                                                       \n",
      " receiving_office     |                                                                                                                          \n",
      " ipr_type             | PI                                                                                                                       \n",
      " raw_text             | Learning process for neural network - comparing sample signals and categorising for use in backward learning process ... \n",
      " Kwd_count            | 2                                                                                                                        \n",
      "only showing top 2 rows\n",
      "\n"
     ]
    },
    {
     "name": "stderr",
     "output_type": "stream",
     "text": [
      "                                                                                \r"
     ]
    }
   ],
   "source": [
    "def count_kwds(x):\n",
    "    try:\n",
    "        reps = [x.lower().count(k) for k in AI_kwds]\n",
    "        return sum(reps)\n",
    "    except:\n",
    "        return 0\n",
    "\n",
    "count_kwds_UDF = F.udf(count_kwds, IntegerType())\n",
    "\n",
    "AI_patents = df_patents.withColumn('raw_text', \n",
    "                    F.concat(F.col('appln_title'),F.lit(' '), F.col('appln_abstract')))\n",
    "\n",
    "AI_patents = AI_patents.withColumn(\"Kwd_count\", count_kwds_UDF(F.col(\"raw_text\")))\n",
    "AI_patents = AI_patents.filter(AI_patents.Kwd_count > 0).cache()\n",
    "\n",
    "print('Number of documents in AI dataset:', AI_patents.count())\n",
    "AI_patents.show(n=2, truncate=120, vertical=True)"
   ]
  },
  {
   "cell_type": "code",
   "execution_count": 34,
   "id": "e614b537-21da-4968-827b-4c70994a4632",
   "metadata": {},
   "outputs": [],
   "source": [
    "counts = sorted([el[0] for el in AI_patents.select(\"Kwd_count\").collect()])"
   ]
  },
  {
   "cell_type": "code",
   "execution_count": 35,
   "id": "bdcce912-608d-40a9-af60-0aa32fb42416",
   "metadata": {},
   "outputs": [
    {
     "data": {
      "image/png": "[encoded data removed]",
      "text/plain": [
       "<Figure size 600x400 with 1 Axes>"
      ]
     },
     "metadata": {},
     "output_type": "display_data"
    }
   ],
   "source": [
    "from matplotlib import pyplot as plt\n",
    "import numpy as np\n",
    "\n",
    "plt.figure(figsize=(6,4))\n",
    "plt.semilogy(np.linspace(0,100, len(counts)), counts)\n",
    "plt.xlabel(\"Number of patents\")\n",
    "plt.ylabel(\"Number of keywords\")\n",
    "plt.legend([\"All patents with keywords\", \"CPC-selected patents with keywords\"])\n",
    "plt.show()"
   ]
  },
  {
   "cell_type": "code",
   "execution_count": 36,
   "id": "68294d88-f591-412e-b895-94600f5856aa",
   "metadata": {},
   "outputs": [
    {
     "name": "stderr",
     "output_type": "stream",
     "text": [
      "                                                                                \r"
     ]
    }
   ],
   "source": [
    "AI_patents.drop(\"raw_text\").repartition(40).write.parquet(\n",
    "    dir_parquet.joinpath(f\"patents_AI_Kwds.parquet\").as_posix(),\n",
    "    mode=\"overwrite\",\n",
    ")"
   ]
  },
  {
   "cell_type": "code",
   "execution_count": 45,
   "id": "fed659d2-4c03-4cb7-9e78-1c08986f4be9",
   "metadata": {},
   "outputs": [
    {
     "name": "stdout",
     "output_type": "stream",
     "text": [
      "Total Rows in patstat_appln: 2056\n"
     ]
    }
   ],
   "source": [
    "df_201 = spark.read.parquet(dir_parquet.joinpath(f\"tls904.parquet\").as_posix())\n",
    "total_rows = df_201.count()\n",
    "print(\"Total Rows in patstat_appln:\", total_rows)"
   ]
  }
 ],
 "metadata": {
  "kernelspec": {
   "display_name": "Python 3 (ipykernel)",
   "language": "python",
   "name": "python3"
  },
  "language_info": {
   "codemirror_mode": {
    "name": "ipython",
    "version": 3
   },
   "file_extension": ".py",
   "mimetype": "text/x-python",
   "name": "python",
   "nbconvert_exporter": "python",
   "pygments_lexer": "ipython3",
   "version": "3.10.13"
  },
  "vscode": {
   "interpreter": {
    "hash": "7c166760bc9517b789c32d5e4045207aa3c23cd3b35b3de2e2f89ee000e58fd0"
   }
  }
 },
 "nbformat": 4,
 "nbformat_minor": 5
}
