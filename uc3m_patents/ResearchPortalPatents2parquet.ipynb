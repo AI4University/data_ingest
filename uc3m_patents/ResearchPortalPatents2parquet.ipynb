{
 "cells": [
  {
   "cell_type": "markdown",
   "id": "c4d75386",
   "metadata": {},
   "source": [
    "# 1. Import libraries and dependencies"
   ]
  },
  {
   "cell_type": "code",
   "execution_count": 1,
   "id": "b3da59e2",
   "metadata": {
    "tags": []
   },
   "outputs": [],
   "source": [
    "import time\n",
    "import pandas as pd\n",
    "import json  \n",
    "from pathlib import Path\n",
    "import numpy as np\n",
    "import time\n",
    "import pyarrow.parquet as pq\n",
    "from bs4 import BeautifulSoup\n",
    "from tqdm import tqdm"
   ]
  },
  {
   "cell_type": "markdown",
   "id": "175319ef",
   "metadata": {},
   "source": [
    "# 2. Define input and output directories"
   ]
  },
  {
   "cell_type": "code",
   "execution_count": 2,
   "id": "8c5c5f90",
   "metadata": {
    "tags": []
   },
   "outputs": [],
   "source": [
    "raw_data = Path(\"/export/data_ml4ds/AI4U/Datasets/ResearchPortal/20231005/rawdata/researchportal.uc3m.es/display\")\n",
    "parquet_data = Path(\"/export/data_ml4ds/AI4U/Datasets/ResearchPortal/20231005/parquet\")\n",
    "\n",
    "parquet_data.mkdir(parents=True, exist_ok=True)"
   ]
  },
  {
   "cell_type": "code",
   "execution_count": 12,
   "id": "1f162c8f-d9f2-4a18-97ef-64c42377ce97",
   "metadata": {
    "tags": []
   },
   "outputs": [
    {
     "name": "stderr",
     "output_type": "stream",
     "text": [
      "100%|██████████| 1393/1393 [01:31<00:00, 15.28it/s]\n"
     ]
    }
   ],
   "source": [
    "all_researchers_files = list(raw_data.glob(\"inv*\"))\n",
    "all_researchers = []\n",
    "\n",
    "for file_path in tqdm(all_researchers_files):\n",
    "    if file_path.is_file():\n",
    "        with file_path.open(\"r\") as fin:\n",
    "            content = fin.read()\n",
    "\n",
    "            # Crear un objeto BeautifulSoup\n",
    "            soup = BeautifulSoup(content, \"html.parser\")\n",
    "\n",
    "            element = soup.find(class_=\"categoriainv\")\n",
    "\n",
    "            # Nombre\n",
    "            try:\n",
    "                element = soup.find('span', {'itemprop': 'name'})\n",
    "                name = element.get_text().strip().title()\n",
    "            except:\n",
    "                name = None\n",
    "            \n",
    "            # Categoría del Investigador\n",
    "            try:\n",
    "                element = soup.find(class_=\"categoriainv\")\n",
    "                cat = element.get_text().split(': ')[1].strip()\n",
    "            except:\n",
    "                cat = None\n",
    "\n",
    "            # ORCID\n",
    "            try:\n",
    "                element = soup.find(class_='individual-orcid')\n",
    "                # Buscar dentro de este elemento el primer enlace y obtener su 'href'\n",
    "                enlace = element.find('a')\n",
    "                if enlace and 'href' in enlace.attrs:\n",
    "                    orcid = enlace['href'].split('/')[-1].strip()\n",
    "            except:\n",
    "                orcid = None\n",
    "\n",
    "            # Scopus\n",
    "            try:\n",
    "                element = soup.find(id='scopusId-noRangeClass-List')\n",
    "                if element:\n",
    "                    enlace = element.find('a')\n",
    "                    if enlace:\n",
    "                        scopus = enlace.get_text().strip()\n",
    "            except:\n",
    "                scopus = None\n",
    "\n",
    "            # Positions\n",
    "            try:\n",
    "                element = soup.find_all(class_='currentPosition')\n",
    "                for el in element:\n",
    "                    if \"Academic Department\" in el.get_text():\n",
    "                        dep = el.find('span', itemprop='name').get_text().strip()\n",
    "                    if \"Research Group\" in el.get_text():\n",
    "                        res_group = el.find('span', itemprop='name').get_text().strip()\n",
    "            except:\n",
    "                dep = None\n",
    "                res_group = None\n",
    "\n",
    "            # Research Areas\n",
    "            try:\n",
    "                element = soup.find('ul', {'id': 'individual-hasResearchArea'})\n",
    "                subject = []\n",
    "                # Si se encuentra el elemento ul, extraer los textos de los elementos li\n",
    "                list_items = element.find_all('li', role=\"listitem\")\n",
    "                for item in list_items:\n",
    "                    subject.append(item.get_text(strip=True))\n",
    "            except:\n",
    "                subject = None\n",
    "\n",
    "            # email\n",
    "            try:\n",
    "                element = soup.find(class_='individual-emails')\n",
    "                email = element.find('a').get_text().strip()\n",
    "            except:\n",
    "                email = None\n",
    "\n",
    "            # Number of publications\n",
    "            try:\n",
    "                element = soup.find(id='publicationsGroup').find_all('a')\n",
    "                element = [el for el in element if el.get('title') == \"resource name\"]\n",
    "                n_publis = len(element)\n",
    "            except:\n",
    "                n_publis = 0\n",
    "\n",
    "            # Projects_IP\n",
    "            try:\n",
    "                element = soup.find(id='RO_0000053-PrincipalInvestigatorRole-List').find_all('a')\n",
    "                element = [el for el in element if el.get('title') == \"activity name\"]\n",
    "                n_IP = len(element)\n",
    "            except:\n",
    "                n_IP = 0\n",
    "\n",
    "            # Projects_noIP\n",
    "            try:\n",
    "                element = soup.find(id='RO_0000053-InvestigatorRole-List').find_all('a')\n",
    "                element = [el for el in element if el.get('title') == \"activity name\"]\n",
    "                n_noIP = len(element)\n",
    "            except:\n",
    "                n_noIP = 0\n",
    "\n",
    "        all_researchers.append([file_path.stem, name, email, cat, orcid, dep, res_group, subject, n_publis, n_IP, n_noIP])\n",
    "\n",
    "columns = ['invID', 'Name', 'Email', 'Category', 'ORCID', 'Department', 'Research Group', 'Subjects', 'no Publis', 'Projects IP', 'Projects no IP']\n",
    "df = pd.DataFrame(all_researchers, columns=columns)"
   ]
  },
  {
   "cell_type": "code",
   "execution_count": 15,
   "id": "8fd62326-7127-4eac-91ab-866bc177b0e8",
   "metadata": {
    "tags": []
   },
   "outputs": [
    {
     "name": "stdout",
     "output_type": "stream",
     "text": [
      "Number of Researchers 1393\n"
     ]
    },
    {
     "data": {
      "text/html": [
       "<div>\n",
       "<style scoped>\n",
       "    .dataframe tbody tr th:only-of-type {\n",
       "        vertical-align: middle;\n",
       "    }\n",
       "\n",
       "    .dataframe tbody tr th {\n",
       "        vertical-align: top;\n",
       "    }\n",
       "\n",
       "    .dataframe thead th {\n",
       "        text-align: right;\n",
       "    }\n",
       "</style>\n",
       "<table border=\"1\" class=\"dataframe\">\n",
       "  <thead>\n",
       "    <tr style=\"text-align: right;\">\n",
       "      <th></th>\n",
       "      <th>invID</th>\n",
       "      <th>Name</th>\n",
       "      <th>Email</th>\n",
       "      <th>Category</th>\n",
       "      <th>ORCID</th>\n",
       "      <th>Department</th>\n",
       "      <th>Research Group</th>\n",
       "      <th>Subjects</th>\n",
       "      <th>no Publis</th>\n",
       "      <th>Projects IP</th>\n",
       "      <th>Projects no IP</th>\n",
       "    </tr>\n",
       "  </thead>\n",
       "  <tbody>\n",
       "    <tr>\n",
       "      <th>0</th>\n",
       "      <td>inv17981</td>\n",
       "      <td>Gonzalez-Cuellar Serrano, Maria Luisa</td>\n",
       "      <td>mlgonzal@der-pu.uc3m.es</td>\n",
       "      <td>Full Professor</td>\n",
       "      <td>0000-0002-0999-7711</td>\n",
       "      <td>Public State Law</td>\n",
       "      <td>Research Group on Financial and Tax Law</td>\n",
       "      <td>[Law]</td>\n",
       "      <td>41</td>\n",
       "      <td>7</td>\n",
       "      <td>5</td>\n",
       "    </tr>\n",
       "    <tr>\n",
       "      <th>1</th>\n",
       "      <td>inv35577</td>\n",
       "      <td>Quintana Montero, David</td>\n",
       "      <td>dquintan@inf.uc3m.es</td>\n",
       "      <td>Associate Professor</td>\n",
       "      <td>0000-0003-0320-1695</td>\n",
       "      <td>Computer Science and Engineering</td>\n",
       "      <td>Evolutionary Computation and Neural Networks (...</td>\n",
       "      <td>[Computer Science, Economics, Robotics and Ind...</td>\n",
       "      <td>37</td>\n",
       "      <td>7</td>\n",
       "      <td>8</td>\n",
       "    </tr>\n",
       "    <tr>\n",
       "      <th>2</th>\n",
       "      <td>inv48535</td>\n",
       "      <td>Varela Garcia, Nicolas</td>\n",
       "      <td>nvarela@pa.uc3m.es</td>\n",
       "      <td>PhD Candidate</td>\n",
       "      <td>0000-0002-9135-5338</td>\n",
       "      <td>Social Sciences</td>\n",
       "      <td>Histories of Global Latin Capitalisms (H-GLACIAL)</td>\n",
       "      <td>None</td>\n",
       "      <td>0</td>\n",
       "      <td>0</td>\n",
       "      <td>0</td>\n",
       "    </tr>\n",
       "    <tr>\n",
       "      <th>3</th>\n",
       "      <td>inv40978</td>\n",
       "      <td>Gutierrez Fernandez, Eric</td>\n",
       "      <td>egutie1@ing.uc3m.es</td>\n",
       "      <td>Assistant Professor</td>\n",
       "      <td>0000-0002-2901-441X</td>\n",
       "      <td>Electronic Technology</td>\n",
       "      <td>Histories of Global Latin Capitalisms (H-GLACIAL)</td>\n",
       "      <td>[Education, Electronics, Telecommunications]</td>\n",
       "      <td>27</td>\n",
       "      <td>4</td>\n",
       "      <td>7</td>\n",
       "    </tr>\n",
       "    <tr>\n",
       "      <th>4</th>\n",
       "      <td>inv35940</td>\n",
       "      <td>Gonzalez Rodriguez, Pedro</td>\n",
       "      <td>pgonzale@ing.uc3m.es</td>\n",
       "      <td>Associate Professor</td>\n",
       "      <td>0000-0002-1378-273X</td>\n",
       "      <td>Mathematics</td>\n",
       "      <td>Grupo de Métodos Numéricos y Aplicaciones</td>\n",
       "      <td>[Biology and Biomedicine, Fission, Mathematics...</td>\n",
       "      <td>26</td>\n",
       "      <td>1</td>\n",
       "      <td>6</td>\n",
       "    </tr>\n",
       "  </tbody>\n",
       "</table>\n",
       "</div>"
      ],
      "text/plain": [
       "      invID                                   Name                    Email  \\\n",
       "0  inv17981  Gonzalez-Cuellar Serrano, Maria Luisa  mlgonzal@der-pu.uc3m.es   \n",
       "1  inv35577                Quintana Montero, David     dquintan@inf.uc3m.es   \n",
       "2  inv48535                 Varela Garcia, Nicolas       nvarela@pa.uc3m.es   \n",
       "3  inv40978              Gutierrez Fernandez, Eric      egutie1@ing.uc3m.es   \n",
       "4  inv35940              Gonzalez Rodriguez, Pedro     pgonzale@ing.uc3m.es   \n",
       "\n",
       "              Category                ORCID                        Department  \\\n",
       "0       Full Professor  0000-0002-0999-7711                  Public State Law   \n",
       "1  Associate Professor  0000-0003-0320-1695  Computer Science and Engineering   \n",
       "2        PhD Candidate  0000-0002-9135-5338                   Social Sciences   \n",
       "3  Assistant Professor  0000-0002-2901-441X             Electronic Technology   \n",
       "4  Associate Professor  0000-0002-1378-273X                       Mathematics   \n",
       "\n",
       "                                      Research Group  \\\n",
       "0            Research Group on Financial and Tax Law   \n",
       "1  Evolutionary Computation and Neural Networks (...   \n",
       "2  Histories of Global Latin Capitalisms (H-GLACIAL)   \n",
       "3  Histories of Global Latin Capitalisms (H-GLACIAL)   \n",
       "4          Grupo de Métodos Numéricos y Aplicaciones   \n",
       "\n",
       "                                            Subjects  no Publis  Projects IP  \\\n",
       "0                                              [Law]         41            7   \n",
       "1  [Computer Science, Economics, Robotics and Ind...         37            7   \n",
       "2                                               None          0            0   \n",
       "3       [Education, Electronics, Telecommunications]         27            4   \n",
       "4  [Biology and Biomedicine, Fission, Mathematics...         26            1   \n",
       "\n",
       "   Projects no IP  \n",
       "0               5  \n",
       "1               8  \n",
       "2               0  \n",
       "3               7  \n",
       "4               6  "
      ]
     },
     "execution_count": 15,
     "metadata": {},
     "output_type": "execute_result"
    }
   ],
   "source": [
    "print(\"Number of Researchers\", len(df))\n",
    "df.head()"
   ]
  },
  {
   "cell_type": "code",
   "execution_count": 5,
   "id": "bf160540-6b13-4f57-b8c8-9550aae5cf33",
   "metadata": {
    "tags": []
   },
   "outputs": [
    {
     "name": "stdout",
     "output_type": "stream",
     "text": [
      "<class 'pandas.core.frame.DataFrame'>\n",
      "RangeIndex: 1393 entries, 0 to 1392\n",
      "Data columns (total 11 columns):\n",
      " #   Column          Non-Null Count  Dtype \n",
      "---  ------          --------------  ----- \n",
      " 0   invID           1393 non-null   object\n",
      " 1   Name            1393 non-null   object\n",
      " 2   Email           1278 non-null   object\n",
      " 3   Category        1380 non-null   object\n",
      " 4   ORCID           1150 non-null   object\n",
      " 5   Department      1393 non-null   object\n",
      " 6   Research Group  1393 non-null   object\n",
      " 7   Subjects        1113 non-null   object\n",
      " 8   no Publis       1393 non-null   int64 \n",
      " 9   Projects IP     1393 non-null   int64 \n",
      " 10  Projects no IP  1393 non-null   int64 \n",
      "dtypes: int64(3), object(8)\n",
      "memory usage: 119.8+ KB\n"
     ]
    }
   ],
   "source": [
    "df.info()"
   ]
  },
  {
   "cell_type": "code",
   "execution_count": 6,
   "id": "a824b59d-d09d-470b-af08-5034c3e5a8e3",
   "metadata": {
    "tags": []
   },
   "outputs": [],
   "source": [
    "df.to_parquet(parquet_data.joinpath('researchers.parquet'))"
   ]
  },
  {
   "cell_type": "markdown",
   "id": "d0056f75",
   "metadata": {},
   "source": [
    "# 3. Tables `Patents` and `researchers_patents`"
   ]
  },
  {
   "cell_type": "code",
   "execution_count": 41,
   "id": "6ffcec74-386e-4914-8a22-afa5c4b110ac",
   "metadata": {
    "tags": []
   },
   "outputs": [
    {
     "name": "stderr",
     "output_type": "stream",
     "text": [
      "100%|██████████| 53063/53063 [07:49<00:00, 113.11it/s]\n"
     ]
    }
   ],
   "source": [
    "all_activities = list(raw_data.glob(\"act*\"))\n",
    "\n",
    "all_patents = []\n",
    "res_patents = []\n",
    "\n",
    "nact = 0\n",
    "\n",
    "for file_path in tqdm(all_activities):\n",
    "    if file_path.is_file():\n",
    "        with file_path.open(\"r\") as fin:\n",
    "            content = fin.read()\n",
    "\n",
    "            # Crear un objeto BeautifulSoup\n",
    "            soup = BeautifulSoup(content, \"html.parser\")\n",
    "            activity_type = soup.find(class_=\"display-title\").get_text().strip()\n",
    "            if activity_type in ['Patents']:\n",
    "                \n",
    "                # Título\n",
    "                try: \n",
    "                    title = soup.title.get_text()\n",
    "                except:\n",
    "                    title = None\n",
    "                    \n",
    "                # ID\n",
    "                try:\n",
    "                    ID = soup.find('ul', {'id': 'patentNumber-noRangeClass-List'}).find('li').text.strip()\n",
    "                except:\n",
    "                    ID = None \n",
    "                \n",
    "                \n",
    "                # Date field\n",
    "                try:\n",
    "                    date_field = soup.find('ul', {'id': 'dateFiled-DateTimeValue-List'}).find('li').text.strip()\n",
    "                except:\n",
    "                    date_field = None\n",
    "                    \n",
    "                # Date issued\n",
    "                try:\n",
    "                    date_issued = soup.find('ul', {'id': 'dateIssued-DateTimeValue-List'}).find('li').text.strip()\n",
    "                except:\n",
    "                    date_issued = None\n",
    "                \n",
    "                # List of authors\n",
    "                try:\n",
    "                    authors = soup.find('ul', id=\"relatedBy-UC3MParticipation-List\").find_all('li', role=\"listitem\")\n",
    "                    for idx,el in enumerate(authors):\n",
    "                        if el.find('a'):\n",
    "                            res_patents.append([file_path.stem, el.find('a')['href'].strip().split('.html')[0], idx+1])\n",
    "                except:\n",
    "                    pass\n",
    "                \n",
    "                all_patents.append([file_path.stem, title, ID, date_field, date_issued])\n",
    "\n",
    "                \n",
    "columns = ['actID', 'PatentTitle', 'PatentID', 'DateField', 'DateIssued']\n",
    "df_patents= pd.DataFrame(all_patents, columns=columns)\n",
    "\n",
    "columns = ['actID', 'invID', 'Order']\n",
    "df_res_patents = pd.DataFrame(res_patents, columns=columns)\n"
   ]
  },
  {
   "cell_type": "code",
   "execution_count": 39,
   "id": "35fd842f-3ffe-4f4f-84f3-a181014e8dd1",
   "metadata": {
    "tags": []
   },
   "outputs": [
    {
     "name": "stdout",
     "output_type": "stream",
     "text": [
      "Number of Patents 114\n"
     ]
    },
    {
     "data": {
      "text/html": [
       "<div>\n",
       "<style scoped>\n",
       "    .dataframe tbody tr th:only-of-type {\n",
       "        vertical-align: middle;\n",
       "    }\n",
       "\n",
       "    .dataframe tbody tr th {\n",
       "        vertical-align: top;\n",
       "    }\n",
       "\n",
       "    .dataframe thead th {\n",
       "        text-align: right;\n",
       "    }\n",
       "</style>\n",
       "<table border=\"1\" class=\"dataframe\">\n",
       "  <thead>\n",
       "    <tr style=\"text-align: right;\">\n",
       "      <th></th>\n",
       "      <th>actID</th>\n",
       "      <th>PatentTitle</th>\n",
       "      <th>PatentID</th>\n",
       "      <th>DateField</th>\n",
       "      <th>DateIssued</th>\n",
       "    </tr>\n",
       "  </thead>\n",
       "  <tbody>\n",
       "    <tr>\n",
       "      <th>0</th>\n",
       "      <td>act445698</td>\n",
       "      <td>Dispositivo de sujeción de muestras para micro...</td>\n",
       "      <td>ES2634913</td>\n",
       "      <td>March 29, 2016</td>\n",
       "      <td>May 31, 2018</td>\n",
       "    </tr>\n",
       "    <tr>\n",
       "      <th>1</th>\n",
       "      <td>act487538</td>\n",
       "      <td>Dispositivo de elección aleatoria</td>\n",
       "      <td>ES1213405</td>\n",
       "      <td>April 26, 2018</td>\n",
       "      <td>August 16, 2018</td>\n",
       "    </tr>\n",
       "    <tr>\n",
       "      <th>2</th>\n",
       "      <td>act427723</td>\n",
       "      <td>Procedimiento y dispositivo para sincronizar s...</td>\n",
       "      <td>ES2370218</td>\n",
       "      <td>May 20, 2010</td>\n",
       "      <td>October 5, 2012</td>\n",
       "    </tr>\n",
       "    <tr>\n",
       "      <th>3</th>\n",
       "      <td>act445147</td>\n",
       "      <td>Procedimiento de diagnóstico de transformadore...</td>\n",
       "      <td>ES2452936</td>\n",
       "      <td>January 5, 2012</td>\n",
       "      <td>March 20, 2015</td>\n",
       "    </tr>\n",
       "    <tr>\n",
       "      <th>4</th>\n",
       "      <td>act347446</td>\n",
       "      <td>Sistema de captación sonora</td>\n",
       "      <td>ES2365475</td>\n",
       "      <td>March 24, 2010</td>\n",
       "      <td>August 23, 2012</td>\n",
       "    </tr>\n",
       "  </tbody>\n",
       "</table>\n",
       "</div>"
      ],
      "text/plain": [
       "       actID                                        PatentTitle   PatentID  \\\n",
       "0  act445698  Dispositivo de sujeción de muestras para micro...  ES2634913   \n",
       "1  act487538                  Dispositivo de elección aleatoria  ES1213405   \n",
       "2  act427723  Procedimiento y dispositivo para sincronizar s...  ES2370218   \n",
       "3  act445147  Procedimiento de diagnóstico de transformadore...  ES2452936   \n",
       "4  act347446                        Sistema de captación sonora  ES2365475   \n",
       "\n",
       "         DateField       DateIssued  \n",
       "0   March 29, 2016     May 31, 2018  \n",
       "1   April 26, 2018  August 16, 2018  \n",
       "2     May 20, 2010  October 5, 2012  \n",
       "3  January 5, 2012   March 20, 2015  \n",
       "4   March 24, 2010  August 23, 2012  "
      ]
     },
     "execution_count": 39,
     "metadata": {},
     "output_type": "execute_result"
    }
   ],
   "source": [
    "print(\"Number of Patents\", len(df_patents))\n",
    "df_patents.head()"
   ]
  },
  {
   "cell_type": "code",
   "execution_count": 42,
   "id": "086f744f-9e88-450c-a1e4-e211c9c8bcb3",
   "metadata": {
    "tags": []
   },
   "outputs": [
    {
     "name": "stdout",
     "output_type": "stream",
     "text": [
      "<class 'pandas.core.frame.DataFrame'>\n",
      "RangeIndex: 114 entries, 0 to 113\n",
      "Data columns (total 5 columns):\n",
      " #   Column       Non-Null Count  Dtype \n",
      "---  ------       --------------  ----- \n",
      " 0   actID        114 non-null    object\n",
      " 1   PatentTitle  114 non-null    object\n",
      " 2   PatentID     108 non-null    object\n",
      " 3   DateField    114 non-null    object\n",
      " 4   DateIssued   114 non-null    object\n",
      "dtypes: object(5)\n",
      "memory usage: 4.6+ KB\n"
     ]
    }
   ],
   "source": [
    "df_patents.info()"
   ]
  },
  {
   "cell_type": "code",
   "execution_count": 49,
   "id": "56089a54-37c0-4a1e-a84b-d87ad3000896",
   "metadata": {
    "tags": []
   },
   "outputs": [],
   "source": [
    "df_res_patents = pd.merge(df_res_patents, df_patents[['actID', 'PatentID']], on='actID', how='left')"
   ]
  },
  {
   "cell_type": "code",
   "execution_count": 50,
   "id": "755e4afe-6c96-4994-a08e-8be77b502f41",
   "metadata": {
    "tags": []
   },
   "outputs": [
    {
     "data": {
      "text/html": [
       "<div>\n",
       "<style scoped>\n",
       "    .dataframe tbody tr th:only-of-type {\n",
       "        vertical-align: middle;\n",
       "    }\n",
       "\n",
       "    .dataframe tbody tr th {\n",
       "        vertical-align: top;\n",
       "    }\n",
       "\n",
       "    .dataframe thead th {\n",
       "        text-align: right;\n",
       "    }\n",
       "</style>\n",
       "<table border=\"1\" class=\"dataframe\">\n",
       "  <thead>\n",
       "    <tr style=\"text-align: right;\">\n",
       "      <th></th>\n",
       "      <th>actID</th>\n",
       "      <th>invID</th>\n",
       "      <th>Order</th>\n",
       "      <th>PatentID</th>\n",
       "    </tr>\n",
       "  </thead>\n",
       "  <tbody>\n",
       "    <tr>\n",
       "      <th>0</th>\n",
       "      <td>act445698</td>\n",
       "      <td>inv41933</td>\n",
       "      <td>1</td>\n",
       "      <td>ES2634913</td>\n",
       "    </tr>\n",
       "    <tr>\n",
       "      <th>1</th>\n",
       "      <td>act487538</td>\n",
       "      <td>inv40172</td>\n",
       "      <td>1</td>\n",
       "      <td>ES1213405</td>\n",
       "    </tr>\n",
       "    <tr>\n",
       "      <th>2</th>\n",
       "      <td>act487538</td>\n",
       "      <td>inv37197</td>\n",
       "      <td>2</td>\n",
       "      <td>ES1213405</td>\n",
       "    </tr>\n",
       "    <tr>\n",
       "      <th>3</th>\n",
       "      <td>act427723</td>\n",
       "      <td>inv17929</td>\n",
       "      <td>3</td>\n",
       "      <td>ES2370218</td>\n",
       "    </tr>\n",
       "    <tr>\n",
       "      <th>4</th>\n",
       "      <td>act445147</td>\n",
       "      <td>inv16997</td>\n",
       "      <td>1</td>\n",
       "      <td>ES2452936</td>\n",
       "    </tr>\n",
       "    <tr>\n",
       "      <th>5</th>\n",
       "      <td>act347446</td>\n",
       "      <td>inv35658</td>\n",
       "      <td>1</td>\n",
       "      <td>ES2365475</td>\n",
       "    </tr>\n",
       "    <tr>\n",
       "      <th>6</th>\n",
       "      <td>act495429</td>\n",
       "      <td>inv41531</td>\n",
       "      <td>1</td>\n",
       "      <td>None</td>\n",
       "    </tr>\n",
       "    <tr>\n",
       "      <th>7</th>\n",
       "      <td>act495429</td>\n",
       "      <td>inv41528</td>\n",
       "      <td>2</td>\n",
       "      <td>None</td>\n",
       "    </tr>\n",
       "  </tbody>\n",
       "</table>\n",
       "</div>"
      ],
      "text/plain": [
       "       actID     invID  Order   PatentID\n",
       "0  act445698  inv41933      1  ES2634913\n",
       "1  act487538  inv40172      1  ES1213405\n",
       "2  act487538  inv37197      2  ES1213405\n",
       "3  act427723  inv17929      3  ES2370218\n",
       "4  act445147  inv16997      1  ES2452936\n",
       "5  act347446  inv35658      1  ES2365475\n",
       "6  act495429  inv41531      1       None\n",
       "7  act495429  inv41528      2       None"
      ]
     },
     "execution_count": 50,
     "metadata": {},
     "output_type": "execute_result"
    }
   ],
   "source": [
    "df_res_patents.head(8)"
   ]
  },
  {
   "cell_type": "code",
   "execution_count": 43,
   "id": "5f77a975-2e63-4fc7-a7dc-7d12bc801aef",
   "metadata": {
    "tags": []
   },
   "outputs": [
    {
     "name": "stdout",
     "output_type": "stream",
     "text": [
      "<class 'pandas.core.frame.DataFrame'>\n",
      "RangeIndex: 232 entries, 0 to 231\n",
      "Data columns (total 3 columns):\n",
      " #   Column  Non-Null Count  Dtype \n",
      "---  ------  --------------  ----- \n",
      " 0   actID   232 non-null    object\n",
      " 1   invID   232 non-null    object\n",
      " 2   Order   232 non-null    int64 \n",
      "dtypes: int64(1), object(2)\n",
      "memory usage: 5.6+ KB\n"
     ]
    }
   ],
   "source": [
    "df_res_patents.info()"
   ]
  },
  {
   "cell_type": "code",
   "execution_count": 60,
   "id": "fa9cf98f-7ee7-48ba-a224-3fb1b0308d21",
   "metadata": {
    "tags": []
   },
   "outputs": [
    {
     "ename": "PermissionError",
     "evalue": "[Errno 13] Permission denied: '/export/data_ml4ds/AI4U/Datasets/ResearchPortal/20231005/parquet/researchers_patents.parquet'",
     "output_type": "error",
     "traceback": [
      "\u001b[0;31m---------------------------------------------------------------------------\u001b[0m",
      "\u001b[0;31mPermissionError\u001b[0m                           Traceback (most recent call last)",
      "Cell \u001b[0;32mIn[60], line 1\u001b[0m\n\u001b[0;32m----> 1\u001b[0m \u001b[43mdf_res_patents\u001b[49m\u001b[38;5;241;43m.\u001b[39;49m\u001b[43mto_parquet\u001b[49m\u001b[43m(\u001b[49m\u001b[43mparquet_data\u001b[49m\u001b[38;5;241;43m.\u001b[39;49m\u001b[43mjoinpath\u001b[49m\u001b[43m(\u001b[49m\u001b[38;5;124;43m'\u001b[39;49m\u001b[38;5;124;43mresearchers_patents.parquet\u001b[39;49m\u001b[38;5;124;43m'\u001b[39;49m\u001b[43m)\u001b[49m\u001b[43m)\u001b[49m\n\u001b[1;32m      2\u001b[0m df_patents\u001b[38;5;241m.\u001b[39mto_parquet(parquet_data\u001b[38;5;241m.\u001b[39mjoinpath(\u001b[38;5;124m'\u001b[39m\u001b[38;5;124mpatents.parquet\u001b[39m\u001b[38;5;124m'\u001b[39m))\n",
      "File \u001b[0;32m/Server/python/anaconda3/lib/python3.10/site-packages/pandas/core/frame.py:2889\u001b[0m, in \u001b[0;36mDataFrame.to_parquet\u001b[0;34m(self, path, engine, compression, index, partition_cols, storage_options, **kwargs)\u001b[0m\n\u001b[1;32m   2802\u001b[0m \u001b[38;5;250m\u001b[39m\u001b[38;5;124;03m\"\"\"\u001b[39;00m\n\u001b[1;32m   2803\u001b[0m \u001b[38;5;124;03mWrite a DataFrame to the binary parquet format.\u001b[39;00m\n\u001b[1;32m   2804\u001b[0m \n\u001b[0;32m   (...)\u001b[0m\n\u001b[1;32m   2885\u001b[0m \u001b[38;5;124;03m>>> content = f.read()\u001b[39;00m\n\u001b[1;32m   2886\u001b[0m \u001b[38;5;124;03m\"\"\"\u001b[39;00m\n\u001b[1;32m   2887\u001b[0m \u001b[38;5;28;01mfrom\u001b[39;00m \u001b[38;5;21;01mpandas\u001b[39;00m\u001b[38;5;21;01m.\u001b[39;00m\u001b[38;5;21;01mio\u001b[39;00m\u001b[38;5;21;01m.\u001b[39;00m\u001b[38;5;21;01mparquet\u001b[39;00m \u001b[38;5;28;01mimport\u001b[39;00m to_parquet\n\u001b[0;32m-> 2889\u001b[0m \u001b[38;5;28;01mreturn\u001b[39;00m \u001b[43mto_parquet\u001b[49m\u001b[43m(\u001b[49m\n\u001b[1;32m   2890\u001b[0m \u001b[43m    \u001b[49m\u001b[38;5;28;43mself\u001b[39;49m\u001b[43m,\u001b[49m\n\u001b[1;32m   2891\u001b[0m \u001b[43m    \u001b[49m\u001b[43mpath\u001b[49m\u001b[43m,\u001b[49m\n\u001b[1;32m   2892\u001b[0m \u001b[43m    \u001b[49m\u001b[43mengine\u001b[49m\u001b[43m,\u001b[49m\n\u001b[1;32m   2893\u001b[0m \u001b[43m    \u001b[49m\u001b[43mcompression\u001b[49m\u001b[38;5;241;43m=\u001b[39;49m\u001b[43mcompression\u001b[49m\u001b[43m,\u001b[49m\n\u001b[1;32m   2894\u001b[0m \u001b[43m    \u001b[49m\u001b[43mindex\u001b[49m\u001b[38;5;241;43m=\u001b[39;49m\u001b[43mindex\u001b[49m\u001b[43m,\u001b[49m\n\u001b[1;32m   2895\u001b[0m \u001b[43m    \u001b[49m\u001b[43mpartition_cols\u001b[49m\u001b[38;5;241;43m=\u001b[39;49m\u001b[43mpartition_cols\u001b[49m\u001b[43m,\u001b[49m\n\u001b[1;32m   2896\u001b[0m \u001b[43m    \u001b[49m\u001b[43mstorage_options\u001b[49m\u001b[38;5;241;43m=\u001b[39;49m\u001b[43mstorage_options\u001b[49m\u001b[43m,\u001b[49m\n\u001b[1;32m   2897\u001b[0m \u001b[43m    \u001b[49m\u001b[38;5;241;43m*\u001b[39;49m\u001b[38;5;241;43m*\u001b[39;49m\u001b[43mkwargs\u001b[49m\u001b[43m,\u001b[49m\n\u001b[1;32m   2898\u001b[0m \u001b[43m\u001b[49m\u001b[43m)\u001b[49m\n",
      "File \u001b[0;32m/Server/python/anaconda3/lib/python3.10/site-packages/pandas/io/parquet.py:411\u001b[0m, in \u001b[0;36mto_parquet\u001b[0;34m(df, path, engine, compression, index, storage_options, partition_cols, **kwargs)\u001b[0m\n\u001b[1;32m    407\u001b[0m impl \u001b[38;5;241m=\u001b[39m get_engine(engine)\n\u001b[1;32m    409\u001b[0m path_or_buf: FilePath \u001b[38;5;241m|\u001b[39m WriteBuffer[\u001b[38;5;28mbytes\u001b[39m] \u001b[38;5;241m=\u001b[39m io\u001b[38;5;241m.\u001b[39mBytesIO() \u001b[38;5;28;01mif\u001b[39;00m path \u001b[38;5;129;01mis\u001b[39;00m \u001b[38;5;28;01mNone\u001b[39;00m \u001b[38;5;28;01melse\u001b[39;00m path\n\u001b[0;32m--> 411\u001b[0m \u001b[43mimpl\u001b[49m\u001b[38;5;241;43m.\u001b[39;49m\u001b[43mwrite\u001b[49m\u001b[43m(\u001b[49m\n\u001b[1;32m    412\u001b[0m \u001b[43m    \u001b[49m\u001b[43mdf\u001b[49m\u001b[43m,\u001b[49m\n\u001b[1;32m    413\u001b[0m \u001b[43m    \u001b[49m\u001b[43mpath_or_buf\u001b[49m\u001b[43m,\u001b[49m\n\u001b[1;32m    414\u001b[0m \u001b[43m    \u001b[49m\u001b[43mcompression\u001b[49m\u001b[38;5;241;43m=\u001b[39;49m\u001b[43mcompression\u001b[49m\u001b[43m,\u001b[49m\n\u001b[1;32m    415\u001b[0m \u001b[43m    \u001b[49m\u001b[43mindex\u001b[49m\u001b[38;5;241;43m=\u001b[39;49m\u001b[43mindex\u001b[49m\u001b[43m,\u001b[49m\n\u001b[1;32m    416\u001b[0m \u001b[43m    \u001b[49m\u001b[43mpartition_cols\u001b[49m\u001b[38;5;241;43m=\u001b[39;49m\u001b[43mpartition_cols\u001b[49m\u001b[43m,\u001b[49m\n\u001b[1;32m    417\u001b[0m \u001b[43m    \u001b[49m\u001b[43mstorage_options\u001b[49m\u001b[38;5;241;43m=\u001b[39;49m\u001b[43mstorage_options\u001b[49m\u001b[43m,\u001b[49m\n\u001b[1;32m    418\u001b[0m \u001b[43m    \u001b[49m\u001b[38;5;241;43m*\u001b[39;49m\u001b[38;5;241;43m*\u001b[39;49m\u001b[43mkwargs\u001b[49m\u001b[43m,\u001b[49m\n\u001b[1;32m    419\u001b[0m \u001b[43m\u001b[49m\u001b[43m)\u001b[49m\n\u001b[1;32m    421\u001b[0m \u001b[38;5;28;01mif\u001b[39;00m path \u001b[38;5;129;01mis\u001b[39;00m \u001b[38;5;28;01mNone\u001b[39;00m:\n\u001b[1;32m    422\u001b[0m     \u001b[38;5;28;01massert\u001b[39;00m \u001b[38;5;28misinstance\u001b[39m(path_or_buf, io\u001b[38;5;241m.\u001b[39mBytesIO)\n",
      "File \u001b[0;32m/Server/python/anaconda3/lib/python3.10/site-packages/pandas/io/parquet.py:161\u001b[0m, in \u001b[0;36mPyArrowImpl.write\u001b[0;34m(self, df, path, compression, index, storage_options, partition_cols, **kwargs)\u001b[0m\n\u001b[1;32m    157\u001b[0m     from_pandas_kwargs[\u001b[38;5;124m\"\u001b[39m\u001b[38;5;124mpreserve_index\u001b[39m\u001b[38;5;124m\"\u001b[39m] \u001b[38;5;241m=\u001b[39m index\n\u001b[1;32m    159\u001b[0m table \u001b[38;5;241m=\u001b[39m \u001b[38;5;28mself\u001b[39m\u001b[38;5;241m.\u001b[39mapi\u001b[38;5;241m.\u001b[39mTable\u001b[38;5;241m.\u001b[39mfrom_pandas(df, \u001b[38;5;241m*\u001b[39m\u001b[38;5;241m*\u001b[39mfrom_pandas_kwargs)\n\u001b[0;32m--> 161\u001b[0m path_or_handle, handles, kwargs[\u001b[38;5;124m\"\u001b[39m\u001b[38;5;124mfilesystem\u001b[39m\u001b[38;5;124m\"\u001b[39m] \u001b[38;5;241m=\u001b[39m \u001b[43m_get_path_or_handle\u001b[49m\u001b[43m(\u001b[49m\n\u001b[1;32m    162\u001b[0m \u001b[43m    \u001b[49m\u001b[43mpath\u001b[49m\u001b[43m,\u001b[49m\n\u001b[1;32m    163\u001b[0m \u001b[43m    \u001b[49m\u001b[43mkwargs\u001b[49m\u001b[38;5;241;43m.\u001b[39;49m\u001b[43mpop\u001b[49m\u001b[43m(\u001b[49m\u001b[38;5;124;43m\"\u001b[39;49m\u001b[38;5;124;43mfilesystem\u001b[39;49m\u001b[38;5;124;43m\"\u001b[39;49m\u001b[43m,\u001b[49m\u001b[43m \u001b[49m\u001b[38;5;28;43;01mNone\u001b[39;49;00m\u001b[43m)\u001b[49m\u001b[43m,\u001b[49m\n\u001b[1;32m    164\u001b[0m \u001b[43m    \u001b[49m\u001b[43mstorage_options\u001b[49m\u001b[38;5;241;43m=\u001b[39;49m\u001b[43mstorage_options\u001b[49m\u001b[43m,\u001b[49m\n\u001b[1;32m    165\u001b[0m \u001b[43m    \u001b[49m\u001b[43mmode\u001b[49m\u001b[38;5;241;43m=\u001b[39;49m\u001b[38;5;124;43m\"\u001b[39;49m\u001b[38;5;124;43mwb\u001b[39;49m\u001b[38;5;124;43m\"\u001b[39;49m\u001b[43m,\u001b[49m\n\u001b[1;32m    166\u001b[0m \u001b[43m    \u001b[49m\u001b[43mis_dir\u001b[49m\u001b[38;5;241;43m=\u001b[39;49m\u001b[43mpartition_cols\u001b[49m\u001b[43m \u001b[49m\u001b[38;5;129;43;01mis\u001b[39;49;00m\u001b[43m \u001b[49m\u001b[38;5;129;43;01mnot\u001b[39;49;00m\u001b[43m \u001b[49m\u001b[38;5;28;43;01mNone\u001b[39;49;00m\u001b[43m,\u001b[49m\n\u001b[1;32m    167\u001b[0m \u001b[43m\u001b[49m\u001b[43m)\u001b[49m\n\u001b[1;32m    168\u001b[0m \u001b[38;5;28;01mif\u001b[39;00m (\n\u001b[1;32m    169\u001b[0m     \u001b[38;5;28misinstance\u001b[39m(path_or_handle, io\u001b[38;5;241m.\u001b[39mBufferedWriter)\n\u001b[1;32m    170\u001b[0m     \u001b[38;5;129;01mand\u001b[39;00m \u001b[38;5;28mhasattr\u001b[39m(path_or_handle, \u001b[38;5;124m\"\u001b[39m\u001b[38;5;124mname\u001b[39m\u001b[38;5;124m\"\u001b[39m)\n\u001b[1;32m    171\u001b[0m     \u001b[38;5;129;01mand\u001b[39;00m \u001b[38;5;28misinstance\u001b[39m(path_or_handle\u001b[38;5;241m.\u001b[39mname, (\u001b[38;5;28mstr\u001b[39m, \u001b[38;5;28mbytes\u001b[39m))\n\u001b[1;32m    172\u001b[0m ):\n\u001b[1;32m    173\u001b[0m     path_or_handle \u001b[38;5;241m=\u001b[39m path_or_handle\u001b[38;5;241m.\u001b[39mname\n",
      "File \u001b[0;32m/Server/python/anaconda3/lib/python3.10/site-packages/pandas/io/parquet.py:110\u001b[0m, in \u001b[0;36m_get_path_or_handle\u001b[0;34m(path, fs, storage_options, mode, is_dir)\u001b[0m\n\u001b[1;32m    100\u001b[0m handles \u001b[38;5;241m=\u001b[39m \u001b[38;5;28;01mNone\u001b[39;00m\n\u001b[1;32m    101\u001b[0m \u001b[38;5;28;01mif\u001b[39;00m (\n\u001b[1;32m    102\u001b[0m     \u001b[38;5;129;01mnot\u001b[39;00m fs\n\u001b[1;32m    103\u001b[0m     \u001b[38;5;129;01mand\u001b[39;00m \u001b[38;5;129;01mnot\u001b[39;00m is_dir\n\u001b[0;32m   (...)\u001b[0m\n\u001b[1;32m    108\u001b[0m     \u001b[38;5;66;03m# fsspec resources can also point to directories\u001b[39;00m\n\u001b[1;32m    109\u001b[0m     \u001b[38;5;66;03m# this branch is used for example when reading from non-fsspec URLs\u001b[39;00m\n\u001b[0;32m--> 110\u001b[0m     handles \u001b[38;5;241m=\u001b[39m \u001b[43mget_handle\u001b[49m\u001b[43m(\u001b[49m\n\u001b[1;32m    111\u001b[0m \u001b[43m        \u001b[49m\u001b[43mpath_or_handle\u001b[49m\u001b[43m,\u001b[49m\u001b[43m \u001b[49m\u001b[43mmode\u001b[49m\u001b[43m,\u001b[49m\u001b[43m \u001b[49m\u001b[43mis_text\u001b[49m\u001b[38;5;241;43m=\u001b[39;49m\u001b[38;5;28;43;01mFalse\u001b[39;49;00m\u001b[43m,\u001b[49m\u001b[43m \u001b[49m\u001b[43mstorage_options\u001b[49m\u001b[38;5;241;43m=\u001b[39;49m\u001b[43mstorage_options\u001b[49m\n\u001b[1;32m    112\u001b[0m \u001b[43m    \u001b[49m\u001b[43m)\u001b[49m\n\u001b[1;32m    113\u001b[0m     fs \u001b[38;5;241m=\u001b[39m \u001b[38;5;28;01mNone\u001b[39;00m\n\u001b[1;32m    114\u001b[0m     path_or_handle \u001b[38;5;241m=\u001b[39m handles\u001b[38;5;241m.\u001b[39mhandle\n",
      "File \u001b[0;32m/Server/python/anaconda3/lib/python3.10/site-packages/pandas/io/common.py:868\u001b[0m, in \u001b[0;36mget_handle\u001b[0;34m(path_or_buf, mode, encoding, compression, memory_map, is_text, errors, storage_options)\u001b[0m\n\u001b[1;32m    859\u001b[0m         handle \u001b[38;5;241m=\u001b[39m \u001b[38;5;28mopen\u001b[39m(\n\u001b[1;32m    860\u001b[0m             handle,\n\u001b[1;32m    861\u001b[0m             ioargs\u001b[38;5;241m.\u001b[39mmode,\n\u001b[0;32m   (...)\u001b[0m\n\u001b[1;32m    864\u001b[0m             newline\u001b[38;5;241m=\u001b[39m\u001b[38;5;124m\"\u001b[39m\u001b[38;5;124m\"\u001b[39m,\n\u001b[1;32m    865\u001b[0m         )\n\u001b[1;32m    866\u001b[0m     \u001b[38;5;28;01melse\u001b[39;00m:\n\u001b[1;32m    867\u001b[0m         \u001b[38;5;66;03m# Binary mode\u001b[39;00m\n\u001b[0;32m--> 868\u001b[0m         handle \u001b[38;5;241m=\u001b[39m \u001b[38;5;28;43mopen\u001b[39;49m\u001b[43m(\u001b[49m\u001b[43mhandle\u001b[49m\u001b[43m,\u001b[49m\u001b[43m \u001b[49m\u001b[43mioargs\u001b[49m\u001b[38;5;241;43m.\u001b[39;49m\u001b[43mmode\u001b[49m\u001b[43m)\u001b[49m\n\u001b[1;32m    869\u001b[0m     handles\u001b[38;5;241m.\u001b[39mappend(handle)\n\u001b[1;32m    871\u001b[0m \u001b[38;5;66;03m# Convert BytesIO or file objects passed with an encoding\u001b[39;00m\n",
      "\u001b[0;31mPermissionError\u001b[0m: [Errno 13] Permission denied: '/export/data_ml4ds/AI4U/Datasets/ResearchPortal/20231005/parquet/researchers_patents.parquet'"
     ]
    }
   ],
   "source": [
    "df_res_patents.to_parquet(parquet_data.joinpath('researchers_patents.parquet'))\n",
    "df_patents.to_parquet(parquet_data.joinpath('patents.parquet'))"
   ]
  },
  {
   "cell_type": "code",
   "execution_count": 61,
   "id": "593ca880-e826-4a27-8a21-c48e3163b3c2",
   "metadata": {
    "tags": []
   },
   "outputs": [],
   "source": [
    "df_res_patents.to_parquet('/export/usuarios_ml4ds/mbalairon/uc3m_patents/researchers_patents.parquet')\n",
    "df_patents.to_parquet('/export/usuarios_ml4ds/mbalairon/uc3m_patents/patents.parquet')"
   ]
  }
 ],
 "metadata": {
  "kernelspec": {
   "display_name": "Python 3 (ipykernel)",
   "language": "python",
   "name": "python3"
  },
  "language_info": {
   "codemirror_mode": {
    "name": "ipython",
    "version": 3
   },
   "file_extension": ".py",
   "mimetype": "text/x-python",
   "name": "python",
   "nbconvert_exporter": "python",
   "pygments_lexer": "ipython3",
   "version": "3.10.11"
  }
 },
 "nbformat": 4,
 "nbformat_minor": 5
}
