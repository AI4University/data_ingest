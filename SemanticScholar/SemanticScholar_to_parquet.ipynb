{
 "cells": [
  {
   "cell_type": "code",
   "execution_count": 1,
   "id": "e420d98e",
   "metadata": {},
   "outputs": [
    {
     "data": {
      "text/plain": [
       "'3.4.0'"
      ]
     },
     "execution_count": 1,
     "metadata": {},
     "output_type": "execute_result"
    }
   ],
   "source": [
    "sc.version"
   ]
  },
  {
   "cell_type": "markdown",
   "id": "47791f9f",
   "metadata": {},
   "source": [
    "## Imports"
   ]
  },
  {
   "cell_type": "code",
   "execution_count": 1,
   "id": "43e00d6f",
   "metadata": {},
   "outputs": [],
   "source": [
    "#from configparser import ConfigParser\n",
    "from pathlib import Path\n",
    "import pyspark.sql.functions as F\n",
    "#import requests\n",
    "from pyspark.sql.types import ArrayType, StringType, BooleanType, IntegerType\n"
   ]
  },
  {
   "cell_type": "markdown",
   "id": "34fbb4ea",
   "metadata": {},
   "source": [
    "## Define directories"
   ]
  },
  {
   "cell_type": "code",
   "execution_count": 2,
   "id": "7c0e75ca",
   "metadata": {},
   "outputs": [],
   "source": [
    "# Define directories\n",
    "#\n",
    "# Relevant directories are read from the config file:\n",
    "# dir_data:    full path to hdfs directory where the raw data .gz files are stored\n",
    "# dir_parquet: full path to hdfs directory where the parquet tables will be stored\n",
    "# version:     Version of Semantic Scholar that is being processed\n",
    "#              for information purposes only\n",
    "\n",
    "# cf = ConfigParser()\n",
    "# cf.read(\"../config.cf\")\n",
    "\n",
    "# dir_data = Path(cf.get(\"spark\", \"dir_data\"))\n",
    "# dir_parquet = Path(cf.get(\"spark\", \"dir_parquet\"))\n",
    "# version = cf.get(\"spark\", \"version\")\n",
    "# dir_pdfs = Path(cf.get(\"spark\", \"dir_pdfs\"))\n",
    "\n",
    "dir_data = Path('/export/clusterdata/jarenas/Datasets/semanticscholar/20230418/rawdata')\n",
    "dir_parquet = Path('/export/ml4ds/IntelComp/Datalake/semanticscholar/20230418/parquet')"
   ]
  },
  {
   "cell_type": "markdown",
   "id": "e83cb265-5a32-4433-9d95-bfcadc36a1bb",
   "metadata": {},
   "source": [
    "## Configuration hdfs"
   ]
  },
  {
   "cell_type": "markdown",
   "id": "911c5c63-5006-476f-af87-3d264a219c92",
   "metadata": {},
   "source": [
    "It is not possible to listdir() directly using Path as it is a hdfs"
   ]
  },
  {
   "cell_type": "code",
   "execution_count": 3,
   "id": "4fea5614-5873-46c8-bb95-117a74bf75eb",
   "metadata": {
    "tags": []
   },
   "outputs": [],
   "source": [
    "# Configuration hdfs\n",
    "fs = spark._jvm.org.apache.hadoop.fs.FileSystem.get(spark._jsc.hadoopConfiguration())\n",
    "hdfs_dir_parquet = spark._jvm.org.apache.hadoop.fs.Path(dir_parquet.as_posix())\n",
    "# Create output directories if they do not exist\n",
    "# !hadoop dfs ...\n",
    "# !hadoop dfs -put 20220201 /export/ml4ds/IntelComp/Datalake/SemanticScholar/\n",
    "\n",
    "if not fs.exists(hdfs_dir_parquet):\n",
    "    fs.mkdirs(hdfs_dir_parquet)"
   ]
  },
  {
   "cell_type": "code",
   "execution_count": 5,
   "id": "54362c14-5c9a-4941-a18a-f1137ed2c770",
   "metadata": {},
   "outputs": [
    {
     "data": {
      "text/plain": [
       "'\\n# Configuration hdfs\\nfs = spark._jvm.org.apache.hadoop.fs.FileSystem.get(spark._jsc.hadoopConfiguration())\\nhdfs_dir_data = spark._jvm.org.apache.hadoop.fs.Path(dir_data.as_posix())\\n\\nprint(hdfs_dir_data)\\n\\n# Get selected version\\nreleases = sorted(\\n    [\\n        f.getPath().getName()\\n        for f in fs.listStatus(hdfs_dir_data)\\n        if f.isDirectory() and f.getPath().getName().isdigit()\\n    ]\\n)\\nversion = version.replace(\"-\", \"\")\\nif version == \"last\":\\n    version = releases[-1]\\nif version not in releases:\\n    print(f\"Version {version} not found\")\\n    print(f\"Available versions: {releases}\")\\n\\nhdfs_dir_data_files = spark._jvm.org.apache.hadoop.fs.Path(\\n    dir_data.joinpath(version).as_posix()\\n)\\nhdfs_dir_parquet = spark._jvm.org.apache.hadoop.fs.Path(dir_parquet.as_posix())\\nhdfs_dir_version = spark._jvm.org.apache.hadoop.fs.Path(\\n    dir_parquet.joinpath(version).as_posix()\\n)\\n\\n# Create output directories if they do not exist\\n# !hadoop dfs ...\\n# !hadoop dfs -put 20220201 /export/ml4ds/IntelComp/Datalake/SemanticScholar/\\n\\nif not fs.exists(hdfs_dir_parquet):\\n    fs.mkdirs(hdfs_dir_parquet)\\n\\nif not fs.exists(hdfs_dir_version):\\n    fs.mkdirs(hdfs_dir_version)\\n'"
      ]
     },
     "execution_count": 5,
     "metadata": {},
     "output_type": "execute_result"
    }
   ],
   "source": [
    "\"\"\"\n",
    "# Configuration hdfs\n",
    "fs = spark._jvm.org.apache.hadoop.fs.FileSystem.get(spark._jsc.hadoopConfiguration())\n",
    "hdfs_dir_data = spark._jvm.org.apache.hadoop.fs.Path(dir_data.as_posix())\n",
    "\n",
    "print(hdfs_dir_data)\n",
    "\n",
    "# Get selected version\n",
    "releases = sorted(\n",
    "    [\n",
    "        f.getPath().getName()\n",
    "        for f in fs.listStatus(hdfs_dir_data)\n",
    "        if f.isDirectory() and f.getPath().getName().isdigit()\n",
    "    ]\n",
    ")\n",
    "version = version.replace(\"-\", \"\")\n",
    "if version == \"last\":\n",
    "    version = releases[-1]\n",
    "if version not in releases:\n",
    "    print(f\"Version {version} not found\")\n",
    "    print(f\"Available versions: {releases}\")\n",
    "\n",
    "hdfs_dir_data_files = spark._jvm.org.apache.hadoop.fs.Path(\n",
    "    dir_data.joinpath(version).as_posix()\n",
    ")\n",
    "hdfs_dir_parquet = spark._jvm.org.apache.hadoop.fs.Path(dir_parquet.as_posix())\n",
    "hdfs_dir_version = spark._jvm.org.apache.hadoop.fs.Path(\n",
    "    dir_parquet.joinpath(version).as_posix()\n",
    ")\n",
    "\n",
    "# Create output directories if they do not exist\n",
    "# !hadoop dfs ...\n",
    "# !hadoop dfs -put 20220201 /export/ml4ds/IntelComp/Datalake/SemanticScholar/\n",
    "\n",
    "if not fs.exists(hdfs_dir_parquet):\n",
    "    fs.mkdirs(hdfs_dir_parquet)\n",
    "\n",
    "if not fs.exists(hdfs_dir_version):\n",
    "    fs.mkdirs(hdfs_dir_version)\n",
    "\"\"\""
   ]
  },
  {
   "cell_type": "markdown",
   "id": "5676408f-f207-4a07-b3d9-a75dfae64ee7",
   "metadata": {},
   "source": [
    "## Generate data for the IMT Training Data sets"
   ]
  },
  {
   "cell_type": "code",
   "execution_count": 6,
   "id": "abf1ccb1-42de-464e-9415-0cc2b021ccf6",
   "metadata": {
    "tags": []
   },
   "outputs": [
    {
     "name": "stderr",
     "output_type": "stream",
     "text": [
      "                                                                                \r"
     ]
    },
    {
     "name": "stdout",
     "output_type": "stream",
     "text": [
      "Number of papers available: 211633059\n",
      "root\n",
      " |-- corpusid: long (nullable = true)\n",
      " |-- externalids: struct (nullable = true)\n",
      " |    |-- ACL: string (nullable = true)\n",
      " |    |-- ArXiv: string (nullable = true)\n",
      " |    |-- CorpusId: string (nullable = true)\n",
      " |    |-- DBLP: string (nullable = true)\n",
      " |    |-- DOI: string (nullable = true)\n",
      " |    |-- MAG: string (nullable = true)\n",
      " |    |-- PubMed: string (nullable = true)\n",
      " |    |-- PubMedCentral: string (nullable = true)\n",
      " |-- title: string (nullable = true)\n",
      " |-- year: long (nullable = true)\n",
      " |-- referencecount: long (nullable = true)\n",
      " |-- citationcount: long (nullable = true)\n",
      " |-- influentialcitationcount: long (nullable = true)\n",
      " |-- S2fieldsofstudy: array (nullable = true)\n",
      " |    |-- element: struct (containsNull = true)\n",
      " |    |    |-- category: string (nullable = true)\n",
      " |    |    |-- source: string (nullable = true)\n",
      "\n",
      "-RECORD 0-------------------------------------------------------------------------------------------------------------------------------------------------------------------------\n",
      " corpusid                 | 189035839                                                                                                                                             \n",
      " externalids              | {null, null, 189035839, null, null, 2907264494, null, null}                                                                                           \n",
      " title                    | نقش شبکههای اجتماعی مجازی در راهبردهای یادگیری خودتنظیمی و رشد توانایی آیندهپژوهی دانشجویان                                                           \n",
      " year                     | 2018                                                                                                                                                  \n",
      " referencecount           | 0                                                                                                                                                     \n",
      " citationcount            | 0                                                                                                                                                     \n",
      " influentialcitationcount | 0                                                                                                                                                     \n",
      " S2fieldsofstudy          | null                                                                                                                                                  \n",
      "-RECORD 1-------------------------------------------------------------------------------------------------------------------------------------------------------------------------\n",
      " corpusid                 | 175627287                                                                                                                                             \n",
      " externalids              | {null, null, 175627287, null, null, 410522659, null, null}                                                                                            \n",
      " title                    | H-30 空調用水搬送システムの効率的な運用方法に関する研究 : (その6)冷却水ポンプの水搬送系シミュレーションの構築およびモデルビルにおける省エネ余地の検討 \n",
      " year                     | 2010                                                                                                                                                  \n",
      " referencecount           | 0                                                                                                                                                     \n",
      " citationcount            | 0                                                                                                                                                     \n",
      " influentialcitationcount | 0                                                                                                                                                     \n",
      " S2fieldsofstudy          | null                                                                                                                                                  \n",
      "only showing top 2 rows\n",
      "\n"
     ]
    }
   ],
   "source": [
    "dir_papers = dir_data.joinpath('papers')\n",
    "df_papers = spark.read.json('file:///' + dir_papers.as_posix()).select('corpusid', 'externalids', 'title', 'year', 'referencecount', 'citationcount', 'influentialcitationcount', 'S2fieldsofstudy')\n",
    "\n",
    "print('Number of papers available:', df_papers.count())\n",
    "df_papers.printSchema()\n",
    "df_papers.show(n=2, truncate=120, vertical=True)"
   ]
  },
  {
   "cell_type": "code",
   "execution_count": 7,
   "id": "3b1479a0-06fa-454a-a66b-ef195f07a06f",
   "metadata": {
    "tags": []
   },
   "outputs": [
    {
     "name": "stderr",
     "output_type": "stream",
     "text": [
      "                                                                                \r"
     ]
    },
    {
     "name": "stdout",
     "output_type": "stream",
     "text": [
      "Number of abstracts available: 100048872\n",
      "root\n",
      " |-- abstract: string (nullable = true)\n",
      " |-- corpusid: long (nullable = true)\n",
      " |-- openaccessinfo: struct (nullable = true)\n",
      " |    |-- externalids: struct (nullable = true)\n",
      " |    |    |-- ACL: string (nullable = true)\n",
      " |    |    |-- ArXiv: string (nullable = true)\n",
      " |    |    |-- DOI: string (nullable = true)\n",
      " |    |    |-- MAG: string (nullable = true)\n",
      " |    |    |-- PubMedCentral: string (nullable = true)\n",
      " |    |-- license: string (nullable = true)\n",
      " |    |-- status: string (nullable = true)\n",
      " |    |-- url: string (nullable = true)\n",
      "\n"
     ]
    },
    {
     "name": "stderr",
     "output_type": "stream",
     "text": [
      "[Stage 9:>                                                          (0 + 1) / 1]\r"
     ]
    },
    {
     "name": "stdout",
     "output_type": "stream",
     "text": [
      "-RECORD 0----------------------------------------------------------------------------------------------------------------------------------------------------------------------------------------------------------------------------------------------\n",
      " abstract       | Wspomnienie generala broni Tadeusza Buka, ktory zginąl w katastrofie pod Smolenskiem 10 kwietnia 2010 roku.                                                                                                                          \n",
      " corpusid       | 164091528                                                                                                                                                                                                                            \n",
      " openaccessinfo | {{null, null, null, 2338212559, null}, null, null, null}                                                                                                                                                                             \n",
      "-RECORD 1----------------------------------------------------------------------------------------------------------------------------------------------------------------------------------------------------------------------------------------------\n",
      " abstract       | 评论家刘绪源将《妖怪山》的成功归结于一是制作超越了国内图画书的草率和速成,呈现精品化的创作;二是故事和画面的幻想性引人入胜。2015年初,原创图画书《妖怪山》刷爆朋友圈。\"徘徊在人与妖之间\"的著名儿童幻想小说作家彭懿一直致力于图画书研... \n",
      " corpusid       | 218146333                                                                                                                                                                                                                            \n",
      " openaccessinfo | {{null, null, null, 2497456668, null}, null, null, null}                                                                                                                                                                             \n",
      "only showing top 2 rows\n",
      "\n"
     ]
    },
    {
     "name": "stderr",
     "output_type": "stream",
     "text": [
      "                                                                                \r"
     ]
    }
   ],
   "source": [
    "dir_abstracts = dir_data.joinpath('abstracts')\n",
    "df_abstracts = spark.read.json('file:///' + dir_abstracts.as_posix()).drop('updated')\n",
    "\n",
    "#We drop corrupt records\n",
    "df_abstracts = df_abstracts.cache()\n",
    "df_abstracts = df_abstracts.where(F.col(\"_corrupt_record\").isNull()).drop(\"_corrupt_record\")\n",
    "\n",
    "print('Number of abstracts available:', df_abstracts.count())\n",
    "df_abstracts.printSchema()\n",
    "df_abstracts.show(n=2, truncate=120, vertical=True)"
   ]
  },
  {
   "cell_type": "markdown",
   "id": "e7f373a0-9972-4f0f-8f86-c1c7a9a05026",
   "metadata": {},
   "source": [
    "### Filter according to Field of Science"
   ]
  },
  {
   "cell_type": "code",
   "execution_count": 8,
   "id": "8c55ddb8-6343-4b16-aa40-0d2d9549372c",
   "metadata": {
    "tags": []
   },
   "outputs": [
    {
     "name": "stderr",
     "output_type": "stream",
     "text": [
      "                                                                                \r"
     ]
    },
    {
     "name": "stdout",
     "output_type": "stream",
     "text": [
      "Number of papers with Field of Science: 130489921\n",
      "-RECORD 0--------------------------------------------------------------------------------------------------------------------------------\n",
      " corpusid                 | 216999911                                                                                                    \n",
      " externalids              | {null, null, 216999911, null, null, 3015114830, null, null}                                                  \n",
      " title                    | A simulation-based assessment of humidity treatment in data centre cooling systems with air-side economisers \n",
      " year                     | 2018                                                                                                         \n",
      " referencecount           | 22                                                                                                           \n",
      " citationcount            | 0                                                                                                            \n",
      " influentialcitationcount | 0                                                                                                            \n",
      " S2fieldsofstudy          | [{Engineering, s2-fos-model}, {Environmental Science, external}]                                             \n",
      "-RECORD 1--------------------------------------------------------------------------------------------------------------------------------\n",
      " corpusid                 | 225996793                                                                                                    \n",
      " externalids              | {null, null, 225996793, null, 10.5194/egusphere-egu2020-22166, 3083936823, null, null}                       \n",
      " title                    | Initial Assessment of Precise Orbit Determination for Combined BDS-2 and BDS-3 Satellites                    \n",
      " year                     | 2020                                                                                                         \n",
      " referencecount           | 0                                                                                                            \n",
      " citationcount            | 0                                                                                                            \n",
      " influentialcitationcount | 0                                                                                                            \n",
      " S2fieldsofstudy          | [{Physics, s2-fos-model}, {Environmental Science, s2-fos-model}, {Physics, external}]                        \n",
      "only showing top 2 rows\n",
      "\n"
     ]
    }
   ],
   "source": [
    "df_FOS = df_papers.where(F.col(\"S2fieldsofstudy\").isNotNull())\n",
    "\n",
    "print('Number of papers with Field of Science:', df_FOS.count())\n",
    "df_FOS.show(n=2, truncate=120, vertical=True)"
   ]
  },
  {
   "cell_type": "code",
   "execution_count": 9,
   "id": "0fb1cfc2-d827-44ee-a9eb-0ca84c5de33b",
   "metadata": {
    "tags": []
   },
   "outputs": [],
   "source": [
    "###########################################################################\n",
    "# Select Field of Science that will be kept\n",
    "# Selection will be made based on the FOS infered by Semantic Scholar model\n",
    "###########################################################################\n",
    "selectedFOS = \"Medicine\"\n",
    "\n",
    "\n",
    "extractFOS_UDF = F.udf(lambda x: selectedFOS in [el['category'] for el in x if el['source'] == \"s2-fos-model\"], BooleanType())\n",
    "\n",
    "# df_FOS.withColumn(\"FOS_source\", myUDF(F.col(\"S2fieldsofstudy\"))) \\\n",
    "#   .show(n=2, truncate=120, vertical=True)\n",
    "\n",
    "selectedDF = df_FOS.withColumn(\"FOS_source\", extractFOS_UDF(F.col(\"S2fieldsofstudy\"))).filter(\"FOS_source\").drop(\"FOS_source\", \"S2fieldsofstudy\")\n"
   ]
  },
  {
   "cell_type": "code",
   "execution_count": 11,
   "id": "55c97809-396c-4434-bc16-fc40a213dbbb",
   "metadata": {
    "tags": []
   },
   "outputs": [
    {
     "name": "stderr",
     "output_type": "stream",
     "text": [
      "23/05/16 11:53:09 WARN CacheManager: Asked to cache already cached data.\n",
      "                                                                                \r"
     ]
    },
    {
     "name": "stdout",
     "output_type": "stream",
     "text": [
      "Number of documents in dataset: 17164037\n"
     ]
    },
    {
     "name": "stderr",
     "output_type": "stream",
     "text": [
      "                                                                                \r"
     ]
    }
   ],
   "source": [
    "dataset = (df_abstracts.join(selectedDF, df_abstracts.corpusid ==  selectedDF.corpusid, \"inner\")\n",
    "                      .drop(selectedDF.corpusid)\n",
    "                ).cache()\n",
    "\n",
    "print('Number of documents in dataset:', dataset.count())\n",
    "\n",
    "dataset.coalesce(1000).write.parquet(\n",
    "    dir_parquet.joinpath(f\"papers_\" + selectedFOS.replace(' ', '_') + \".parquet\").as_posix(),\n",
    "    mode=\"overwrite\",\n",
    ")"
   ]
  },
  {
   "cell_type": "markdown",
   "id": "777aff83-4efa-41ea-aaf1-8e12f41da0ee",
   "metadata": {},
   "source": [
    "### Select according to a list of predefined PubMed IDs (CANCER)"
   ]
  },
  {
   "cell_type": "code",
   "execution_count": 8,
   "id": "8ae18f35-6aa1-4912-a9ad-d3f2d8a8aebb",
   "metadata": {
    "tags": []
   },
   "outputs": [
    {
     "name": "stdout",
     "output_type": "stream",
     "text": [
      "Number of papers in corpus: 2438253\n",
      "root\n",
      " |-- PMID: string (nullable = true)\n",
      "\n",
      "-RECORD 0--------\n",
      " PMID | 10725091 \n",
      "-RECORD 1--------\n",
      " PMID | 10725105 \n",
      "only showing top 2 rows\n",
      "\n"
     ]
    },
    {
     "name": "stderr",
     "output_type": "stream",
     "text": [
      "                                                                                \r"
     ]
    }
   ],
   "source": [
    "cancer_df = spark.read.parquet('file:///export/clusterdata/jarenas/Datasets/semanticscholar/20230418/PMID_Cancer.parquet')\n",
    "cancer_df = cancer_df.withColumn(\"PMID\", cancer_df.PMID.cast('string'))\n",
    "\n",
    "print('Number of papers in corpus:', cancer_df.count())\n",
    "cancer_df.printSchema()\n",
    "cancer_df.show(n=2, truncate=120, vertical=True)"
   ]
  },
  {
   "cell_type": "code",
   "execution_count": 9,
   "id": "c07c414f-dda7-4019-a77f-44330ce34101",
   "metadata": {
    "tags": []
   },
   "outputs": [],
   "source": [
    "def extractPUBMED_UDF(x):\n",
    "    try:\n",
    "        return x['PubMed']\n",
    "    except:\n",
    "        return 0\n",
    "\n",
    "extractPUBMED_UDF = F.udf(extractPUBMED_UDF, StringType())\n",
    "    \n",
    "df_PUBMED = df_papers.withColumn(\"PubMed\", extractPUBMED_UDF(F.col(\"externalids\"))) \\\n",
    "  .where(F.col(\"PubMed\").isNotNull()) \\\n",
    "  .cache()"
   ]
  },
  {
   "cell_type": "code",
   "execution_count": 10,
   "id": "6d3a795d-8a5c-43a5-b57c-c225eb6fef8d",
   "metadata": {
    "tags": []
   },
   "outputs": [
    {
     "name": "stderr",
     "output_type": "stream",
     "text": [
      "[Stage 18:====================================================> (196 + 4) / 200]\r"
     ]
    },
    {
     "name": "stdout",
     "output_type": "stream",
     "text": [
      "Number of papers matched: 2436965\n",
      "root\n",
      " |-- PMID: string (nullable = true)\n",
      " |-- corpusid: long (nullable = true)\n",
      " |-- externalids: struct (nullable = true)\n",
      " |    |-- ACL: string (nullable = true)\n",
      " |    |-- ArXiv: string (nullable = true)\n",
      " |    |-- CorpusId: string (nullable = true)\n",
      " |    |-- DBLP: string (nullable = true)\n",
      " |    |-- DOI: string (nullable = true)\n",
      " |    |-- MAG: string (nullable = true)\n",
      " |    |-- PubMed: string (nullable = true)\n",
      " |    |-- PubMedCentral: string (nullable = true)\n",
      " |-- title: string (nullable = true)\n",
      " |-- year: long (nullable = true)\n",
      " |-- referencecount: long (nullable = true)\n",
      " |-- citationcount: long (nullable = true)\n",
      " |-- influentialcitationcount: long (nullable = true)\n",
      " |-- S2fieldsofstudy: array (nullable = true)\n",
      " |    |-- element: struct (containsNull = true)\n",
      " |    |    |-- category: string (nullable = true)\n",
      " |    |    |-- source: string (nullable = true)\n",
      "\n",
      "-RECORD 0--------------------------------------------------------------------------------------------------------------------------------------------\n",
      " PMID                     | 10587588                                                                                                                 \n",
      " corpusid                 | 25349463                                                                                                                 \n",
      " externalids              | {null, null, 25349463, null, 10.1093/HMG/9.1.133, 2108421300, 10587588, null}                                            \n",
      " title                    | Motoneuronal cell death is not correlated with aggregate formation of androgen receptors containing an elongated poly... \n",
      " year                     | 2000                                                                                                                     \n",
      " referencecount           | 76                                                                                                                       \n",
      " citationcount            | 127                                                                                                                      \n",
      " influentialcitationcount | 2                                                                                                                        \n",
      " S2fieldsofstudy          | [{Biology, s2-fos-model}, {Biology, external}, {Medicine, external}]                                                     \n",
      "-RECORD 1--------------------------------------------------------------------------------------------------------------------------------------------\n",
      " PMID                     | 10618119                                                                                                                 \n",
      " corpusid                 | 6102436                                                                                                                  \n",
      " externalids              | {null, null, 6102436, null, 10.1128/JCM.38.1.375-381.2000, 2169753995, 10618119, null}                                   \n",
      " title                    | Pulmonary Infection Caused by Gymnascella hyalinospora in a Patient with Acute Myelogenous Leukemia                      \n",
      " year                     | 2000                                                                                                                     \n",
      " referencecount           | 45                                                                                                                       \n",
      " citationcount            | 31                                                                                                                       \n",
      " influentialcitationcount | 0                                                                                                                        \n",
      " S2fieldsofstudy          | [{Medicine, s2-fos-model}, {Biology, s2-fos-model}, {Biology, external}, {Medicine, external}]                           \n",
      "only showing top 2 rows\n",
      "\n"
     ]
    },
    {
     "name": "stderr",
     "output_type": "stream",
     "text": [
      "                                                                                \r"
     ]
    }
   ],
   "source": [
    "cancer_df = (cancer_df.join(df_PUBMED, cancer_df.PMID == df_PUBMED.PubMed, \"inner\")\n",
    "                      .drop(df_PUBMED.PubMed)\n",
    "                ).cache()\n",
    "\n",
    "print('Number of papers matched:', cancer_df.count())\n",
    "cancer_df.printSchema()\n",
    "cancer_df.show(n=2, truncate=120, vertical=True)"
   ]
  },
  {
   "cell_type": "code",
   "execution_count": 12,
   "id": "ee3fad22-2609-4652-b901-b55b075bea29",
   "metadata": {
    "tags": []
   },
   "outputs": [
    {
     "name": "stderr",
     "output_type": "stream",
     "text": [
      "23/05/17 22:40:24 WARN CacheManager: Asked to cache already cached data.\n",
      "                                                                                \r"
     ]
    },
    {
     "name": "stdout",
     "output_type": "stream",
     "text": [
      "Number of documents in dataset: 1522138\n"
     ]
    },
    {
     "name": "stderr",
     "output_type": "stream",
     "text": [
      "                                                                                \r"
     ]
    }
   ],
   "source": [
    "dataset = (df_abstracts.join(cancer_df, df_abstracts.corpusid ==  cancer_df.corpusid, \"inner\")\n",
    "                      .drop(cancer_df.corpusid)\n",
    "                ).cache()\n",
    "\n",
    "print('Number of documents in dataset:', dataset.count())\n",
    "\n",
    "dataset.repartition(40).write.parquet(\n",
    "    dir_parquet.joinpath(f\"papers_Cancer.parquet\").as_posix(),\n",
    "    mode=\"overwrite\",\n",
    ")"
   ]
  },
  {
   "cell_type": "code",
   "execution_count": 9,
   "id": "aa1dfc39-6a11-4c0d-9008-2606e2cd0b34",
   "metadata": {
    "tags": []
   },
   "outputs": [],
   "source": [
    "# To test lemmatization using Dask / Pandas with different number of partitions\n",
    "\"\"\"\n",
    "dataset = spark.read.parquet(\"/export/ml4ds/IntelComp/Datalake/semanticscholar/20230418/parquet/papers_Cancer.parquet\")\n",
    "dataset = dataset.sample(fraction=0.3).cache()\n",
    "dataset.repartition(1).write.parquet(\n",
    "    dir_parquet.joinpath(f\"papers_Cancer_small.parquet\").as_posix(),\n",
    "    mode=\"overwrite\",\n",
    ")\n",
    "\"\"\""
   ]
  },
  {
   "cell_type": "code",
   "execution_count": 25,
   "id": "1f157dfc-7f97-4e31-bad7-1fa26b3c7bed",
   "metadata": {
    "tags": []
   },
   "outputs": [],
   "source": [
    "year_total = cancer_df.select(\"year\").collect()\n",
    "year_abstract = dataset.select(\"year\").collect()"
   ]
  },
  {
   "cell_type": "code",
   "execution_count": 26,
   "id": "40230281-fbbe-42bf-afd1-5778d10fb897",
   "metadata": {
    "tags": []
   },
   "outputs": [],
   "source": [
    "year_total = [el[0] for el in year_total if el[0]>2000]\n",
    "year_abstract = [el[0] for el in year_abstract if el[0]>2000]"
   ]
  },
  {
   "cell_type": "code",
   "execution_count": 34,
   "id": "87cb0a03-714c-4247-bf13-e70e9c31ab57",
   "metadata": {
    "tags": []
   },
   "outputs": [
    {
     "data": {
      "image/png": "[encoded data removed]",
      "text/plain": [
       "<Figure size 600x400 with 1 Axes>"
      ]
     },
     "metadata": {},
     "output_type": "display_data"
    }
   ],
   "source": [
    "from matplotlib import pyplot as plt\n",
    "\n",
    "plt.figure(figsize=(6,4))\n",
    "plt.hist(year_total, 23, ec='red', fc='none', lw=1.5, label='Total matches')\n",
    "plt.hist(year_abstract, 23, ec='green', fc='none', lw=1.5, label='With abstract')\n",
    "plt.legend(loc='upper left')\n",
    "plt.title(\"Number of articles per year in the Cancer dataset\")\n",
    "plt.xlabel(\"Year\")\n",
    "plt.ylabel(\"Number of papers\")\n",
    "plt.show()"
   ]
  },
  {
   "cell_type": "markdown",
   "id": "7a632aff-4a2c-45e7-9a83-72c503cd0efc",
   "metadata": {},
   "source": [
    "### Select according to list of keywords"
   ]
  },
  {
   "cell_type": "code",
   "execution_count": 43,
   "id": "417b3365-3d6b-48bc-8c04-4be4501bac5e",
   "metadata": {
    "tags": []
   },
   "outputs": [
    {
     "name": "stdout",
     "output_type": "stream",
     "text": [
      "Number of keywords: 266\n"
     ]
    }
   ],
   "source": [
    "with open(\"/export/clusterdata/jarenas/Datasets/semanticscholar/20230418/IA_keywords_SEAD_REV_JAG_JCS.txt\", \"r\") as fin:\n",
    "    AI_kwds = [el.strip() for el in fin.readlines()]\n",
    "print('Number of keywords:', len(AI_kwds))"
   ]
  },
  {
   "cell_type": "code",
   "execution_count": null,
   "id": "16728001-ec6b-4df3-9999-a5c816ae82ec",
   "metadata": {
    "tags": []
   },
   "outputs": [],
   "source": [
    "dataset = (df_abstracts.join(df_papers, df_abstracts.corpusid ==  df_papers.corpusid, \"inner\")\n",
    "                      .drop(df_papers.corpusid)\n",
    "                ).cache()\n",
    "\n",
    "print('Number of documents in dataset:', dataset.count())\n",
    "dataset.printSchema()\n",
    "dataset.show(n=2, truncate=120, vertical=True)"
   ]
  },
  {
   "cell_type": "code",
   "execution_count": null,
   "id": "2f56d25e-b034-43ce-8e1f-5dada602b173",
   "metadata": {
    "tags": []
   },
   "outputs": [],
   "source": [
    "def count_kwds(x):\n",
    "    reps = [x.count(k) for k in AI_kwds]\n",
    "    return sum(reps)\n",
    "\n",
    "count_kwds_UDF = F.udf(count_kwds, IntegerType())\n",
    "\n",
    "dataset = dataset.withColumn('raw_text', \n",
    "                    F.concat(F.col('title'),F.lit(' '), F.col('abstract')))\n",
    "\n",
    "dataset = dataset.withColumn(\"Kwd_count\", count_kwds_UDF(F.col(\"raw_text\")))\n",
    "dataset = dataset.filter(dataset.Kwd_count > 0).cache()\n",
    "\n",
    "print('Number of documents in dataset:', dataset.count())\n",
    "dataset.printSchema()\n",
    "dataset.show(n=2, truncate=120, vertical=True)"
   ]
  },
  {
   "cell_type": "code",
   "execution_count": null,
   "id": "8d7c6e75-03cf-4815-9afc-cd1add0d8948",
   "metadata": {
    "tags": []
   },
   "outputs": [],
   "source": [
    "dataset.drop(\"raw_text\").repartition(40).write.parquet(\n",
    "    dir_parquet.joinpath(f\"papers_AI_Kwds.parquet\").as_posix(),\n",
    "    mode=\"overwrite\",\n",
    ")"
   ]
  },
  {
   "cell_type": "code",
   "execution_count": null,
   "id": "3e4ff2b0-ca1e-423b-9da4-8cce5152bc15",
   "metadata": {
    "tags": []
   },
   "outputs": [],
   "source": [
    "year_AI = dataset.select(\"year\").collect()"
   ]
  },
  {
   "cell_type": "code",
   "execution_count": 51,
   "id": "2f980183-ce6e-4105-a707-df39ca655011",
   "metadata": {
    "tags": []
   },
   "outputs": [],
   "source": [
    "year_AI = [el[0] for el in year_AI if el[0]]\n",
    "year_AI = [el for el in year_AI if el>2000]"
   ]
  },
  {
   "cell_type": "code",
   "execution_count": 52,
   "id": "9f048d0a-772c-4591-9901-9b10c2feda5c",
   "metadata": {
    "tags": []
   },
   "outputs": [
    {
     "data": {
      "image/png": "[encoded data removed]",
      "text/plain": [
       "<Figure size 600x400 with 1 Axes>"
      ]
     },
     "metadata": {},
     "output_type": "display_data"
    }
   ],
   "source": [
    "plt.figure(figsize=(6,4))\n",
    "plt.hist(year_AI, 23, ec='red', fc='none', lw=1.5)\n",
    "plt.title(\"Number of articles per year in the AI dataset\")\n",
    "plt.xlabel(\"Year\")\n",
    "plt.ylabel(\"Number of papers\")\n",
    "plt.show()"
   ]
  },
  {
   "cell_type": "markdown",
   "id": "b67ddd7c-5f60-4f06-b41e-746c2b21eaed",
   "metadata": {},
   "source": [
    "## Import the whole Semantic Scholar database for the IntelComp Data Catalogue"
   ]
  },
  {
   "cell_type": "markdown",
   "id": "e957624d-9793-4900-ba01-9397f58434d1",
   "metadata": {},
   "source": [
    "### Table **`papers`**"
   ]
  },
  {
   "cell_type": "code",
   "execution_count": 5,
   "id": "1a4989a1-4c1e-4570-b21b-30c841d8391c",
   "metadata": {
    "tags": []
   },
   "outputs": [
    {
     "name": "stderr",
     "output_type": "stream",
     "text": [
      "                                                                                \r"
     ]
    },
    {
     "name": "stdout",
     "output_type": "stream",
     "text": [
      "Number of papers available: 211633022\n",
      "root\n",
      " |-- authors: array (nullable = true)\n",
      " |    |-- element: struct (containsNull = true)\n",
      " |    |    |-- authorId: string (nullable = true)\n",
      " |    |    |-- name: string (nullable = true)\n",
      " |-- citationcount: long (nullable = true)\n",
      " |-- corpusid: long (nullable = true)\n",
      " |-- externalids: struct (nullable = true)\n",
      " |    |-- ACL: string (nullable = true)\n",
      " |    |-- ArXiv: string (nullable = true)\n",
      " |    |-- CorpusId: string (nullable = true)\n",
      " |    |-- DBLP: string (nullable = true)\n",
      " |    |-- DOI: string (nullable = true)\n",
      " |    |-- MAG: string (nullable = true)\n",
      " |    |-- PubMed: string (nullable = true)\n",
      " |    |-- PubMedCentral: string (nullable = true)\n",
      " |-- influentialcitationcount: long (nullable = true)\n",
      " |-- isopenaccess: boolean (nullable = true)\n",
      " |-- journal: struct (nullable = true)\n",
      " |    |-- name: string (nullable = true)\n",
      " |    |-- pages: string (nullable = true)\n",
      " |    |-- volume: string (nullable = true)\n",
      " |-- publicationdate: string (nullable = true)\n",
      " |-- publicationtypes: array (nullable = true)\n",
      " |    |-- element: string (containsNull = true)\n",
      " |-- publicationvenueid: string (nullable = true)\n",
      " |-- referencecount: long (nullable = true)\n",
      " |-- s2fieldsofstudy: array (nullable = true)\n",
      " |    |-- element: struct (containsNull = true)\n",
      " |    |    |-- category: string (nullable = true)\n",
      " |    |    |-- source: string (nullable = true)\n",
      " |-- title: string (nullable = true)\n",
      " |-- updated: string (nullable = true)\n",
      " |-- url: string (nullable = true)\n",
      " |-- venue: string (nullable = true)\n",
      " |-- year: long (nullable = true)\n",
      "\n",
      "-RECORD 0-------------------------------------------------------------------------------------------------------------------------------------------------------------------------\n",
      " authors                  | [{148733431, سمیه بخشی پریخانی}, {101427776, صادق حامدی نسب}, {112904210, هادی پورشافعی}]                                                             \n",
      " citationcount            | 0                                                                                                                                                     \n",
      " corpusid                 | 189035839                                                                                                                                             \n",
      " externalids              | {null, null, 189035839, null, null, 2907264494, null, null}                                                                                           \n",
      " influentialcitationcount | 0                                                                                                                                                     \n",
      " isopenaccess             | false                                                                                                                                                 \n",
      " journal                  | {, 1-15, 29}                                                                                                                                          \n",
      " publicationdate          | 2018-11-22                                                                                                                                            \n",
      " publicationtypes         | null                                                                                                                                                  \n",
      " publicationvenueid       | null                                                                                                                                                  \n",
      " referencecount           | 0                                                                                                                                                     \n",
      " s2fieldsofstudy          | null                                                                                                                                                  \n",
      " title                    | نقش شبکههای اجتماعی مجازی در راهبردهای یادگیری خودتنظیمی و رشد توانایی آیندهپژوهی دانشجویان                                                           \n",
      " updated                  | 2022-01-24T17:54:05.889Z                                                                                                                              \n",
      " url                      | https://www.semanticscholar.org/paper/83f019e59aeb6fefe9d7d7490b3d72b125e8bda0                                                                        \n",
      " venue                    |                                                                                                                                                       \n",
      " year                     | 2018                                                                                                                                                  \n",
      "-RECORD 1-------------------------------------------------------------------------------------------------------------------------------------------------------------------------\n",
      " authors                  | [{135686171, 小嶋 正虎}, {88743001, 長井 達夫}, {84226000, 三浦 克弘}, {101338270, 三原 邦彰}, {135751370, 岩倉 慶成}]                                \n",
      " citationcount            | 0                                                                                                                                                     \n",
      " corpusid                 | 175627287                                                                                                                                             \n",
      " externalids              | {null, null, 175627287, null, null, 410522659, null, null}                                                                                            \n",
      " influentialcitationcount | 0                                                                                                                                                     \n",
      " isopenaccess             | false                                                                                                                                                 \n",
      " journal                  | {, 1539-1542, 22}                                                                                                                                     \n",
      " publicationdate          | 2010-08-12                                                                                                                                            \n",
      " publicationtypes         | null                                                                                                                                                  \n",
      " publicationvenueid       | null                                                                                                                                                  \n",
      " referencecount           | 0                                                                                                                                                     \n",
      " s2fieldsofstudy          | null                                                                                                                                                  \n",
      " title                    | H-30 空調用水搬送システムの効率的な運用方法に関する研究 : (その6)冷却水ポンプの水搬送系シミュレーションの構築およびモデルビルにおける省エネ余地の検討 \n",
      " updated                  | 2022-01-24T18:08:53.575Z                                                                                                                              \n",
      " url                      | https://www.semanticscholar.org/paper/4580667e72fd94c722f19860bd5caeade5612069                                                                        \n",
      " venue                    |                                                                                                                                                       \n",
      " year                     | 2010                                                                                                                                                  \n",
      "only showing top 2 rows\n",
      "\n",
      "CPU times: user 242 ms, sys: 60.6 ms, total: 303 ms\n",
      "Wall time: 9min 4s\n"
     ]
    }
   ],
   "source": [
    "%%time\n",
    "dir_papers = dir_data.joinpath('papers')\n",
    "df_papers = spark.read.json('file:///' + dir_papers.as_posix())\n",
    "\n",
    "#We drop corrupt records\n",
    "df_papers = df_papers.cache()\n",
    "df_papers = df_papers.where(F.col(\"_corrupt_record\").isNull()).drop(\"_corrupt_record\")\n",
    "\n",
    "print('Number of papers available:', df_papers.count())\n",
    "df_papers.printSchema()\n",
    "df_papers.show(n=2, truncate=120, vertical=True)"
   ]
  },
  {
   "cell_type": "markdown",
   "id": "ec055d31-5395-4bf2-866c-b3e79ddb9599",
   "metadata": {},
   "source": [
    "<span style=\"background-color:yellow;\">The following code is used to count how many papers of each type are there in the dataset. It is very inefficient probably, but it works nevertheless.</span>"
   ]
  },
  {
   "cell_type": "code",
   "execution_count": 22,
   "id": "b15b3939-0e97-49b0-aff8-8f749bd0fe0f",
   "metadata": {
    "tags": []
   },
   "outputs": [
    {
     "name": "stderr",
     "output_type": "stream",
     "text": [
      "                                                                                \r"
     ]
    },
    {
     "name": "stdout",
     "output_type": "stream",
     "text": [
      "Counter({'JournalArticle': 40043054, 'Review': 14740426, 'Conference': 3892498, 'Study': 2341448, 'CaseReport': 2183428, 'LettersAndComments': 1544547, 'Editorial': 665251, 'ClinicalTrial': 582213, 'Book': 280889, 'News': 239700, 'MetaAnalysis': 103700, 'Dataset': 727})\n"
     ]
    }
   ],
   "source": [
    "tipos = df_papers.where(F.col(\"publicationtypes\").isNotNull()).select('publicationtypes').collect()\n",
    "tipos = [el[0] for el in tipos]\n",
    "tipos = [item for sublist in tipos for item in sublist]\n",
    "\n",
    "from collections import Counter\n",
    "counts = Counter(tipos)\n",
    "print(counts)"
   ]
  },
  {
   "cell_type": "code",
   "execution_count": 6,
   "id": "1e35bca6-2741-40f8-b492-af3a4f1a5afa",
   "metadata": {
    "tags": []
   },
   "outputs": [
    {
     "name": "stdout",
     "output_type": "stream",
     "text": [
      "root\n",
      " |-- id: long (nullable = true)\n",
      " |-- title: string (nullable = true)\n",
      " |-- S2Url: string (nullable = true)\n",
      " |-- year: integer (nullable = true)\n",
      " |-- doi: string (nullable = true)\n",
      " |-- pmid: string (nullable = true)\n",
      " |-- magId: string (nullable = true)\n",
      " |-- externalids: struct (nullable = true)\n",
      " |    |-- ACL: string (nullable = true)\n",
      " |    |-- ArXiv: string (nullable = true)\n",
      " |    |-- CorpusId: string (nullable = true)\n",
      " |    |-- DBLP: string (nullable = true)\n",
      " |    |-- DOI: string (nullable = true)\n",
      " |    |-- MAG: string (nullable = true)\n",
      " |    |-- PubMed: string (nullable = true)\n",
      " |    |-- PubMedCentral: string (nullable = true)\n",
      " |-- fieldsOfStudy: array (nullable = true)\n",
      " |    |-- element: string (containsNull = true)\n",
      " |-- publicationtypes: array (nullable = true)\n",
      " |    |-- element: string (containsNull = true)\n",
      " |-- publicationdate: string (nullable = true)\n",
      " |-- journalName: string (nullable = true)\n",
      " |-- journalPages: string (nullable = true)\n",
      " |-- journalVolume: string (nullable = true)\n",
      " |-- venue: string (nullable = true)\n",
      " |-- publicationvenueid: string (nullable = true)\n",
      " |-- isopenaccess: boolean (nullable = true)\n",
      " |-- referencecount: integer (nullable = true)\n",
      " |-- citationcount: integer (nullable = true)\n",
      " |-- influentialcitationcount: integer (nullable = true)\n",
      "\n"
     ]
    },
    {
     "name": "stderr",
     "output_type": "stream",
     "text": [
      "[Stage 5:>                                                          (0 + 1) / 1]\r"
     ]
    },
    {
     "name": "stdout",
     "output_type": "stream",
     "text": [
      "-RECORD 0-------------------------------------------------------------------------------------------------------------------------------------------------------------------------\n",
      " id                       | 189035839                                                                                                                                             \n",
      " title                    | نقش شبکههای اجتماعی مجازی در راهبردهای یادگیری خودتنظیمی و رشد توانایی آیندهپژوهی دانشجویان                                                           \n",
      " S2Url                    | https://www.semanticscholar.org/paper/83f019e59aeb6fefe9d7d7490b3d72b125e8bda0                                                                        \n",
      " year                     | 2018                                                                                                                                                  \n",
      " doi                      | null                                                                                                                                                  \n",
      " pmid                     | null                                                                                                                                                  \n",
      " magId                    | 2907264494                                                                                                                                            \n",
      " externalids              | {null, null, 189035839, null, null, 2907264494, null, null}                                                                                           \n",
      " fieldsOfStudy            | null                                                                                                                                                  \n",
      " publicationtypes         | null                                                                                                                                                  \n",
      " publicationdate          | 2018-11-22                                                                                                                                            \n",
      " journalName              |                                                                                                                                                       \n",
      " journalPages             | 1-15                                                                                                                                                  \n",
      " journalVolume            | 29                                                                                                                                                    \n",
      " venue                    |                                                                                                                                                       \n",
      " publicationvenueid       | null                                                                                                                                                  \n",
      " isopenaccess             | false                                                                                                                                                 \n",
      " referencecount           | 0                                                                                                                                                     \n",
      " citationcount            | 0                                                                                                                                                     \n",
      " influentialcitationcount | 0                                                                                                                                                     \n",
      "-RECORD 1-------------------------------------------------------------------------------------------------------------------------------------------------------------------------\n",
      " id                       | 175627287                                                                                                                                             \n",
      " title                    | H-30 空調用水搬送システムの効率的な運用方法に関する研究 : (その6)冷却水ポンプの水搬送系シミュレーションの構築およびモデルビルにおける省エネ余地の検討 \n",
      " S2Url                    | https://www.semanticscholar.org/paper/4580667e72fd94c722f19860bd5caeade5612069                                                                        \n",
      " year                     | 2010                                                                                                                                                  \n",
      " doi                      | null                                                                                                                                                  \n",
      " pmid                     | null                                                                                                                                                  \n",
      " magId                    | 410522659                                                                                                                                             \n",
      " externalids              | {null, null, 175627287, null, null, 410522659, null, null}                                                                                            \n",
      " fieldsOfStudy            | null                                                                                                                                                  \n",
      " publicationtypes         | null                                                                                                                                                  \n",
      " publicationdate          | 2010-08-12                                                                                                                                            \n",
      " journalName              |                                                                                                                                                       \n",
      " journalPages             | 1539-1542                                                                                                                                             \n",
      " journalVolume            | 22                                                                                                                                                    \n",
      " venue                    |                                                                                                                                                       \n",
      " publicationvenueid       | null                                                                                                                                                  \n",
      " isopenaccess             | false                                                                                                                                                 \n",
      " referencecount           | 0                                                                                                                                                     \n",
      " citationcount            | 0                                                                                                                                                     \n",
      " influentialcitationcount | 0                                                                                                                                                     \n",
      "only showing top 2 rows\n",
      "\n",
      "CPU times: user 37.5 ms, sys: 10.6 ms, total: 48.1 ms\n",
      "Wall time: 8.8 s\n"
     ]
    },
    {
     "name": "stderr",
     "output_type": "stream",
     "text": [
      "                                                                                \r"
     ]
    }
   ],
   "source": [
    "%%time\n",
    "\n",
    "# This function will be used for extracting only the Semantic Scholar FOS in string format\n",
    "# Semantic Scholar uses several models, but we keep only FOS from s2-fos-model\n",
    "def extractFOS(x):\n",
    "    try:\n",
    "        return [el['category'] for el in x\n",
    "            if el['source'] == \"s2-fos-model\"]\n",
    "    except:\n",
    "        return None\n",
    "    \n",
    "extractFOS_UDF = F.udf(extractFOS, ArrayType(StringType()))\n",
    "\n",
    "# Adapt columns names and formats for backwards compatibility\n",
    "dataset = df_papers.select(F.col('corpusid').alias('id'), \\\n",
    "                           'title', \\\n",
    "                           F.col('url').alias('S2Url'), \\\n",
    "                           F.col('year').cast(IntegerType()), \\\n",
    "                           F.col('externalids.DOI').alias('doi'), \\\n",
    "                           F.col('externalids.PubMed').alias('pmid'), \\\n",
    "                           F.col('externalids.MAG').alias('magId'), \\\n",
    "                           'externalids', \\\n",
    "                           extractFOS_UDF(F.col('s2fieldsofstudy')).alias(\"fieldsOfStudy\"), \\\n",
    "                           'publicationtypes', \\\n",
    "                           'publicationdate', \\\n",
    "                           F.col('journal.name').alias('journalName'), \\\n",
    "                           F.col('journal.pages').alias('journalPages'), \\\n",
    "                           F.col('journal.volume').alias('journalVolume'), \\\n",
    "                           'venue', \\\n",
    "                           'publicationvenueid', \\\n",
    "                           'isopenaccess', \\\n",
    "                           F.col('referencecount').cast(IntegerType()), \\\n",
    "                           F.col('citationcount').cast(IntegerType()), \\\n",
    "                           F.col('influentialcitationcount').cast(IntegerType()) \\\n",
    "                          )\n",
    "dataset.printSchema()\n",
    "dataset.show(n=2, truncate=120, vertical=True)"
   ]
  },
  {
   "cell_type": "code",
   "execution_count": 7,
   "id": "e8a822df-6309-4f24-a8aa-a0416b2a74b8",
   "metadata": {
    "tags": []
   },
   "outputs": [
    {
     "name": "stderr",
     "output_type": "stream",
     "text": [
      "                                                                                \r"
     ]
    },
    {
     "name": "stdout",
     "output_type": "stream",
     "text": [
      "Number of abstracts available: 100048872\n",
      "root\n",
      " |-- abstract: string (nullable = true)\n",
      " |-- corpusid: long (nullable = true)\n",
      " |-- openaccessinfo: struct (nullable = true)\n",
      " |    |-- externalids: struct (nullable = true)\n",
      " |    |    |-- ACL: string (nullable = true)\n",
      " |    |    |-- ArXiv: string (nullable = true)\n",
      " |    |    |-- DOI: string (nullable = true)\n",
      " |    |    |-- MAG: string (nullable = true)\n",
      " |    |    |-- PubMedCentral: string (nullable = true)\n",
      " |    |-- license: string (nullable = true)\n",
      " |    |-- status: string (nullable = true)\n",
      " |    |-- url: string (nullable = true)\n",
      " |-- updated: string (nullable = true)\n",
      "\n"
     ]
    },
    {
     "name": "stderr",
     "output_type": "stream",
     "text": [
      "[Stage 10:>                                                         (0 + 1) / 1]\r"
     ]
    },
    {
     "name": "stdout",
     "output_type": "stream",
     "text": [
      "-RECORD 0----------------------------------------------------------------------------------------------------------------------------------------------------------------------------------------------------------------------------------------------\n",
      " abstract       | Wspomnienie generala broni Tadeusza Buka, ktory zginąl w katastrofie pod Smolenskiem 10 kwietnia 2010 roku.                                                                                                                          \n",
      " corpusid       | 164091528                                                                                                                                                                                                                            \n",
      " openaccessinfo | {{null, null, null, 2338212559, null}, null, null, null}                                                                                                                                                                             \n",
      " updated        | 2022-01-27T17:59:51.748Z                                                                                                                                                                                                             \n",
      "-RECORD 1----------------------------------------------------------------------------------------------------------------------------------------------------------------------------------------------------------------------------------------------\n",
      " abstract       | 评论家刘绪源将《妖怪山》的成功归结于一是制作超越了国内图画书的草率和速成,呈现精品化的创作;二是故事和画面的幻想性引人入胜。2015年初,原创图画书《妖怪山》刷爆朋友圈。\"徘徊在人与妖之间\"的著名儿童幻想小说作家彭懿一直致力于图画书研... \n",
      " corpusid       | 218146333                                                                                                                                                                                                                            \n",
      " openaccessinfo | {{null, null, null, 2497456668, null}, null, null, null}                                                                                                                                                                             \n",
      " updated        | 2022-01-27T18:31:31.260Z                                                                                                                                                                                                             \n",
      "only showing top 2 rows\n",
      "\n",
      "CPU times: user 220 ms, sys: 36.5 ms, total: 257 ms\n",
      "Wall time: 9min 42s\n"
     ]
    },
    {
     "name": "stderr",
     "output_type": "stream",
     "text": [
      "                                                                                \r"
     ]
    }
   ],
   "source": [
    "%%time\n",
    "\n",
    "dir_abstracts = dir_data.joinpath('abstracts')\n",
    "df_abstracts = spark.read.json('file:///' + dir_abstracts.as_posix())\n",
    "\n",
    "#We drop corrupt records\n",
    "df_abstracts = df_abstracts.cache()\n",
    "df_abstracts = df_abstracts.where(F.col(\"_corrupt_record\").isNull()).drop(\"_corrupt_record\")\n",
    "\n",
    "print('Number of abstracts available:', df_abstracts.count())\n",
    "df_abstracts.printSchema()\n",
    "df_abstracts.show(n=2, truncate=120, vertical=True)"
   ]
  },
  {
   "cell_type": "code",
   "execution_count": 8,
   "id": "8e98b70b-5d4c-461e-a33c-4d2fa5ed4272",
   "metadata": {
    "tags": []
   },
   "outputs": [
    {
     "name": "stdout",
     "output_type": "stream",
     "text": [
      "root\n",
      " |-- id: long (nullable = true)\n",
      " |-- paperAbstract: string (nullable = true)\n",
      " |-- openaccessinfo: struct (nullable = true)\n",
      " |    |-- externalids: struct (nullable = true)\n",
      " |    |    |-- ACL: string (nullable = true)\n",
      " |    |    |-- ArXiv: string (nullable = true)\n",
      " |    |    |-- DOI: string (nullable = true)\n",
      " |    |    |-- MAG: string (nullable = true)\n",
      " |    |    |-- PubMedCentral: string (nullable = true)\n",
      " |    |-- license: string (nullable = true)\n",
      " |    |-- status: string (nullable = true)\n",
      " |    |-- url: string (nullable = true)\n",
      "\n"
     ]
    },
    {
     "name": "stderr",
     "output_type": "stream",
     "text": [
      "[Stage 11:>                                                         (0 + 1) / 1]\r"
     ]
    },
    {
     "name": "stdout",
     "output_type": "stream",
     "text": [
      "-RECORD 0----------------------------------------------------------------------------------------------------------------------------------------------------------------------------------------------------------------------------------------------\n",
      " id             | 164091528                                                                                                                                                                                                                            \n",
      " paperAbstract  | Wspomnienie generala broni Tadeusza Buka, ktory zginąl w katastrofie pod Smolenskiem 10 kwietnia 2010 roku.                                                                                                                          \n",
      " openaccessinfo | {{null, null, null, 2338212559, null}, null, null, null}                                                                                                                                                                             \n",
      "-RECORD 1----------------------------------------------------------------------------------------------------------------------------------------------------------------------------------------------------------------------------------------------\n",
      " id             | 218146333                                                                                                                                                                                                                            \n",
      " paperAbstract  | 评论家刘绪源将《妖怪山》的成功归结于一是制作超越了国内图画书的草率和速成,呈现精品化的创作;二是故事和画面的幻想性引人入胜。2015年初,原创图画书《妖怪山》刷爆朋友圈。\"徘徊在人与妖之间\"的著名儿童幻想小说作家彭懿一直致力于图画书研... \n",
      " openaccessinfo | {{null, null, null, 2497456668, null}, null, null, null}                                                                                                                                                                             \n",
      "only showing top 2 rows\n",
      "\n",
      "CPU times: user 15.7 ms, sys: 42 µs, total: 15.7 ms\n",
      "Wall time: 9.5 s\n"
     ]
    },
    {
     "name": "stderr",
     "output_type": "stream",
     "text": [
      "                                                                                \r"
     ]
    }
   ],
   "source": [
    "%%time\n",
    "\n",
    "# Adapt columns names and formats for backwards compatibility\n",
    "df_abstracts = df_abstracts.select(F.col('corpusid').alias('id'), \\\n",
    "                           F.col('abstract').alias('paperAbstract'), \\\n",
    "                           'openaccessinfo' \\\n",
    "                          )\n",
    "df_abstracts.printSchema()\n",
    "df_abstracts.show(n=2, truncate=120, vertical=True)"
   ]
  },
  {
   "cell_type": "code",
   "execution_count": 9,
   "id": "9cd51877-ccb4-4fea-a59a-2e9c9efa67e2",
   "metadata": {
    "tags": []
   },
   "outputs": [
    {
     "name": "stderr",
     "output_type": "stream",
     "text": [
      "23/05/20 18:46:56 ERROR TaskSchedulerImpl: Lost executor 3 on node70.cluster.tsc.uc3m.es: Remote RPC client disassociated. Likely due to containers exceeding thresholds, or network issues. Check driver logs for WARN messages.\n",
      "23/05/20 18:46:56 WARN TaskSetManager: Lost task 61.0 in stage 14.0 (TID 253) (node70.cluster.tsc.uc3m.es executor 3): ExecutorLostFailure (executor 3 exited caused by one of the running tasks) Reason: Remote RPC client disassociated. Likely due to containers exceeding thresholds, or network issues. Check driver logs for WARN messages.\n",
      "23/05/20 18:46:56 WARN TaskSetManager: Lost task 58.0 in stage 14.0 (TID 250) (node70.cluster.tsc.uc3m.es executor 3): ExecutorLostFailure (executor 3 exited caused by one of the running tasks) Reason: Remote RPC client disassociated. Likely due to containers exceeding thresholds, or network issues. Check driver logs for WARN messages.\n",
      "23/05/20 18:46:56 WARN TaskSetManager: Lost task 63.0 in stage 14.0 (TID 255) (node70.cluster.tsc.uc3m.es executor 3): ExecutorLostFailure (executor 3 exited caused by one of the running tasks) Reason: Remote RPC client disassociated. Likely due to containers exceeding thresholds, or network issues. Check driver logs for WARN messages.\n",
      "23/05/20 18:46:56 WARN TaskSetManager: Lost task 59.0 in stage 14.0 (TID 251) (node70.cluster.tsc.uc3m.es executor 3): ExecutorLostFailure (executor 3 exited caused by one of the running tasks) Reason: Remote RPC client disassociated. Likely due to containers exceeding thresholds, or network issues. Check driver logs for WARN messages.\n",
      "23/05/20 18:46:56 WARN BlockManagerMasterEndpoint: No more replicas available for rdd_36_1 !\n",
      "23/05/20 18:46:56 WARN BlockManagerMasterEndpoint: No more replicas available for rdd_36_11 !\n",
      "23/05/20 18:46:56 WARN BlockManagerMasterEndpoint: No more replicas available for rdd_75_34 !\n",
      "23/05/20 18:46:56 WARN BlockManagerMasterEndpoint: No more replicas available for rdd_7_29 !\n",
      "23/05/20 18:46:56 WARN BlockManagerMasterEndpoint: No more replicas available for rdd_75_4 !\n",
      "23/05/20 18:46:56 WARN BlockManagerMasterEndpoint: No more replicas available for rdd_36_21 !\n",
      "23/05/20 18:46:56 WARN BlockManagerMasterEndpoint: No more replicas available for rdd_75_14 !\n",
      "23/05/20 18:46:56 WARN BlockManagerMasterEndpoint: No more replicas available for rdd_7_9 !\n",
      "23/05/20 18:46:56 WARN BlockManagerMasterEndpoint: No more replicas available for rdd_7_19 !\n",
      "23/05/20 18:46:56 WARN BlockManagerMasterEndpoint: No more replicas available for rdd_75_24 !\n",
      "23/05/20 18:47:07 ERROR TaskSchedulerImpl: Lost executor 4 on node30.cluster.tsc.uc3m.es: Remote RPC client disassociated. Likely due to containers exceeding thresholds, or network issues. Check driver logs for WARN messages.\n",
      "23/05/20 18:47:07 WARN TaskSetManager: Lost task 72.0 in stage 14.0 (TID 268) (node30.cluster.tsc.uc3m.es executor 4): ExecutorLostFailure (executor 4 exited caused by one of the running tasks) Reason: Remote RPC client disassociated. Likely due to containers exceeding thresholds, or network issues. Check driver logs for WARN messages.\n",
      "23/05/20 18:47:07 WARN TaskSetManager: Lost task 69.0 in stage 14.0 (TID 261) (node30.cluster.tsc.uc3m.es executor 4): ExecutorLostFailure (executor 4 exited caused by one of the running tasks) Reason: Remote RPC client disassociated. Likely due to containers exceeding thresholds, or network issues. Check driver logs for WARN messages.\n",
      "23/05/20 18:47:07 WARN TaskSetManager: Lost task 61.1 in stage 14.0 (TID 266) (node30.cluster.tsc.uc3m.es executor 4): ExecutorLostFailure (executor 4 exited caused by one of the running tasks) Reason: Remote RPC client disassociated. Likely due to containers exceeding thresholds, or network issues. Check driver logs for WARN messages.\n",
      "23/05/20 18:47:07 WARN TaskSetManager: Lost task 73.0 in stage 14.0 (TID 269) (node30.cluster.tsc.uc3m.es executor 4): ExecutorLostFailure (executor 4 exited caused by one of the running tasks) Reason: Remote RPC client disassociated. Likely due to containers exceeding thresholds, or network issues. Check driver logs for WARN messages.\n",
      "23/05/20 18:47:07 WARN BlockManagerMasterEndpoint: No more replicas available for rdd_75_37 !\n",
      "23/05/20 18:47:07 WARN BlockManagerMasterEndpoint: No more replicas available for rdd_75_17 !\n",
      "23/05/20 18:47:07 WARN BlockManagerMasterEndpoint: No more replicas available for rdd_36_18 !\n",
      "23/05/20 18:47:07 WARN BlockManagerMasterEndpoint: No more replicas available for rdd_7_15 !\n",
      "23/05/20 18:47:07 WARN BlockManagerMasterEndpoint: No more replicas available for rdd_7_5 !\n",
      "23/05/20 18:47:07 WARN BlockManagerMasterEndpoint: No more replicas available for rdd_75_27 !\n",
      "23/05/20 18:47:07 WARN BlockManagerMasterEndpoint: No more replicas available for rdd_36_28 !\n",
      "23/05/20 18:47:07 WARN BlockManagerMasterEndpoint: No more replicas available for rdd_7_25 !\n",
      "23/05/20 18:47:07 WARN BlockManagerMasterEndpoint: No more replicas available for rdd_36_8 !\n",
      "23/05/20 18:47:07 WARN BlockManagerMasterEndpoint: No more replicas available for rdd_75_7 !\n",
      "23/05/20 18:47:25 ERROR TaskSchedulerImpl: Lost executor 8 on node00.cluster.tsc.uc3m.es: Remote RPC client disassociated. Likely due to containers exceeding thresholds, or network issues. Check driver logs for WARN messages.\n",
      "23/05/20 18:47:25 WARN TaskSetManager: Lost task 72.1 in stage 14.0 (TID 274) (node00.cluster.tsc.uc3m.es executor 8): ExecutorLostFailure (executor 8 exited caused by one of the running tasks) Reason: Remote RPC client disassociated. Likely due to containers exceeding thresholds, or network issues. Check driver logs for WARN messages.\n",
      "23/05/20 18:47:25 WARN TaskSetManager: Lost task 69.1 in stage 14.0 (TID 273) (node00.cluster.tsc.uc3m.es executor 8): ExecutorLostFailure (executor 8 exited caused by one of the running tasks) Reason: Remote RPC client disassociated. Likely due to containers exceeding thresholds, or network issues. Check driver logs for WARN messages.\n",
      "23/05/20 18:47:25 WARN TaskSetManager: Lost task 61.2 in stage 14.0 (TID 272) (node00.cluster.tsc.uc3m.es executor 8): ExecutorLostFailure (executor 8 exited caused by one of the running tasks) Reason: Remote RPC client disassociated. Likely due to containers exceeding thresholds, or network issues. Check driver logs for WARN messages.\n",
      "23/05/20 18:47:25 WARN TaskSetManager: Lost task 75.0 in stage 14.0 (TID 275) (node00.cluster.tsc.uc3m.es executor 8): ExecutorLostFailure (executor 8 exited caused by one of the running tasks) Reason: Remote RPC client disassociated. Likely due to containers exceeding thresholds, or network issues. Check driver logs for WARN messages.\n",
      "23/05/20 18:47:25 WARN BlockManagerMasterEndpoint: No more replicas available for rdd_36_3 !\n",
      "23/05/20 18:47:25 WARN BlockManagerMasterEndpoint: No more replicas available for rdd_36_23 !\n",
      "23/05/20 18:47:25 WARN BlockManagerMasterEndpoint: No more replicas available for rdd_7_18 !\n",
      "23/05/20 18:47:25 WARN BlockManagerMasterEndpoint: No more replicas available for rdd_75_36 !\n",
      "23/05/20 18:47:25 WARN BlockManagerMasterEndpoint: No more replicas available for rdd_75_16 !\n",
      "23/05/20 18:47:25 WARN BlockManagerMasterEndpoint: No more replicas available for rdd_7_8 !\n",
      "23/05/20 18:47:25 WARN BlockManagerMasterEndpoint: No more replicas available for rdd_7_28 !\n",
      "23/05/20 18:47:25 WARN BlockManagerMasterEndpoint: No more replicas available for rdd_36_13 !\n",
      "23/05/20 18:47:25 WARN BlockManagerMasterEndpoint: No more replicas available for rdd_75_6 !\n",
      "23/05/20 18:47:25 WARN BlockManagerMasterEndpoint: No more replicas available for rdd_75_26 !\n",
      "23/05/20 18:47:40 ERROR TaskSchedulerImpl: Lost executor 6 on node86.cluster.tsc.uc3m.es: Remote RPC client disassociated. Likely due to containers exceeding thresholds, or network issues. Check driver logs for WARN messages.\n",
      "23/05/20 18:47:40 WARN TaskSetManager: Lost task 79.0 in stage 14.0 (TID 283) (node86.cluster.tsc.uc3m.es executor 6): ExecutorLostFailure (executor 6 exited caused by one of the running tasks) Reason: Remote RPC client disassociated. Likely due to containers exceeding thresholds, or network issues. Check driver logs for WARN messages.\n",
      "23/05/20 18:47:40 WARN TaskSetManager: Lost task 74.0 in stage 14.0 (TID 270) (node86.cluster.tsc.uc3m.es executor 6): ExecutorLostFailure (executor 6 exited caused by one of the running tasks) Reason: Remote RPC client disassociated. Likely due to containers exceeding thresholds, or network issues. Check driver logs for WARN messages.\n",
      "23/05/20 18:47:40 WARN TaskSetManager: Lost task 86.0 in stage 14.0 (TID 290) (node86.cluster.tsc.uc3m.es executor 6): ExecutorLostFailure (executor 6 exited caused by one of the running tasks) Reason: Remote RPC client disassociated. Likely due to containers exceeding thresholds, or network issues. Check driver logs for WARN messages.\n",
      "23/05/20 18:47:40 WARN TaskSetManager: Lost task 80.0 in stage 14.0 (TID 284) (node86.cluster.tsc.uc3m.es executor 6): ExecutorLostFailure (executor 6 exited caused by one of the running tasks) Reason: Remote RPC client disassociated. Likely due to containers exceeding thresholds, or network issues. Check driver logs for WARN messages.\n",
      "23/05/20 18:47:40 WARN BlockManagerMasterEndpoint: No more replicas available for rdd_36_7 !\n",
      "23/05/20 18:47:40 WARN BlockManagerMasterEndpoint: No more replicas available for rdd_36_17 !\n",
      "23/05/20 18:47:40 WARN BlockManagerMasterEndpoint: No more replicas available for rdd_75_3 !\n",
      "23/05/20 18:47:40 WARN BlockManagerMasterEndpoint: No more replicas available for rdd_75_47 !\n",
      "23/05/20 18:47:40 WARN BlockManagerMasterEndpoint: No more replicas available for rdd_75_51 !\n",
      "23/05/20 18:47:40 WARN BlockManagerMasterEndpoint: No more replicas available for rdd_75_13 !\n",
      "23/05/20 18:47:40 WARN BlockManagerMasterEndpoint: No more replicas available for rdd_75_23 !\n",
      "23/05/20 18:47:40 WARN BlockManagerMasterEndpoint: No more replicas available for rdd_75_55 !\n",
      "23/05/20 18:47:40 WARN BlockManagerMasterEndpoint: No more replicas available for rdd_7_2 !\n",
      "23/05/20 18:47:40 WARN BlockManagerMasterEndpoint: No more replicas available for rdd_7_22 !\n",
      "23/05/20 18:47:40 WARN BlockManagerMasterEndpoint: No more replicas available for rdd_75_33 !\n",
      "23/05/20 18:47:40 WARN BlockManagerMasterEndpoint: No more replicas available for rdd_7_12 !\n",
      "23/05/20 18:47:40 WARN BlockManagerMasterEndpoint: No more replicas available for rdd_36_27 !\n",
      "23/05/20 18:47:40 WARN BlockManagerMasterEndpoint: No more replicas available for rdd_75_43 !\n",
      "23/05/20 18:47:43 ERROR TaskSchedulerImpl: Lost executor 9 on node37.cluster.tsc.uc3m.es: Remote RPC client disassociated. Likely due to containers exceeding thresholds, or network issues. Check driver logs for WARN messages.\n",
      "23/05/20 18:47:43 WARN TaskSetManager: Lost task 85.0 in stage 14.0 (TID 289) (node37.cluster.tsc.uc3m.es executor 9): ExecutorLostFailure (executor 9 exited caused by one of the running tasks) Reason: Remote RPC client disassociated. Likely due to containers exceeding thresholds, or network issues. Check driver logs for WARN messages.\n",
      "23/05/20 18:47:43 WARN TaskSetManager: Lost task 75.1 in stage 14.0 (TID 277) (node37.cluster.tsc.uc3m.es executor 9): ExecutorLostFailure (executor 9 exited caused by one of the running tasks) Reason: Remote RPC client disassociated. Likely due to containers exceeding thresholds, or network issues. Check driver logs for WARN messages.\n",
      "23/05/20 18:47:43 WARN TaskSetManager: Lost task 87.0 in stage 14.0 (TID 291) (node37.cluster.tsc.uc3m.es executor 9): ExecutorLostFailure (executor 9 exited caused by one of the running tasks) Reason: Remote RPC client disassociated. Likely due to containers exceeding thresholds, or network issues. Check driver logs for WARN messages.\n",
      "23/05/20 18:47:43 WARN TaskSetManager: Lost task 89.0 in stage 14.0 (TID 293) (node37.cluster.tsc.uc3m.es executor 9): ExecutorLostFailure (executor 9 exited caused by one of the running tasks) Reason: Remote RPC client disassociated. Likely due to containers exceeding thresholds, or network issues. Check driver logs for WARN messages.\n",
      "23/05/20 18:47:43 WARN BlockManagerMasterEndpoint: No more replicas available for rdd_7_13 !\n",
      "23/05/20 18:47:43 WARN BlockManagerMasterEndpoint: No more replicas available for rdd_75_46 !\n",
      "23/05/20 18:47:43 WARN BlockManagerMasterEndpoint: No more replicas available for rdd_75_19 !\n",
      "23/05/20 18:47:43 WARN BlockManagerMasterEndpoint: No more replicas available for rdd_75_29 !\n",
      "23/05/20 18:47:43 WARN BlockManagerMasterEndpoint: No more replicas available for rdd_75_45 !\n",
      "23/05/20 18:47:43 WARN BlockManagerMasterEndpoint: No more replicas available for rdd_36_16 !\n",
      "23/05/20 18:47:43 WARN BlockManagerMasterEndpoint: No more replicas available for rdd_7_23 !\n",
      "23/05/20 18:47:43 WARN BlockManagerMasterEndpoint: No more replicas available for rdd_75_52 !\n",
      "23/05/20 18:47:43 WARN BlockManagerMasterEndpoint: No more replicas available for rdd_36_26 !\n",
      "23/05/20 18:47:43 WARN BlockManagerMasterEndpoint: No more replicas available for rdd_36_6 !\n",
      "23/05/20 18:47:43 WARN BlockManagerMasterEndpoint: No more replicas available for rdd_75_49 !\n",
      "23/05/20 18:47:43 WARN BlockManagerMasterEndpoint: No more replicas available for rdd_7_3 !\n",
      "23/05/20 18:47:43 WARN BlockManagerMasterEndpoint: No more replicas available for rdd_75_39 !\n",
      "23/05/20 18:47:43 WARN BlockManagerMasterEndpoint: No more replicas available for rdd_75_9 !\n",
      "23/05/20 18:48:07 ERROR TaskSchedulerImpl: Lost executor 7 on node09.cluster.tsc.uc3m.es: Remote RPC client disassociated. Likely due to containers exceeding thresholds, or network issues. Check driver logs for WARN messages.\n",
      "23/05/20 18:48:07 WARN TaskSetManager: Lost task 74.1 in stage 14.0 (TID 301) (node09.cluster.tsc.uc3m.es executor 7): ExecutorLostFailure (executor 7 exited caused by one of the running tasks) Reason: Remote RPC client disassociated. Likely due to containers exceeding thresholds, or network issues. Check driver logs for WARN messages.\n",
      "23/05/20 18:48:07 WARN TaskSetManager: Lost task 86.1 in stage 14.0 (TID 300) (node09.cluster.tsc.uc3m.es executor 7): ExecutorLostFailure (executor 7 exited caused by one of the running tasks) Reason: Remote RPC client disassociated. Likely due to containers exceeding thresholds, or network issues. Check driver logs for WARN messages.\n",
      "23/05/20 18:48:07 WARN TaskSetManager: Lost task 91.0 in stage 14.0 (TID 303) (node09.cluster.tsc.uc3m.es executor 7): ExecutorLostFailure (executor 7 exited caused by one of the running tasks) Reason: Remote RPC client disassociated. Likely due to containers exceeding thresholds, or network issues. Check driver logs for WARN messages.\n",
      "23/05/20 18:48:07 WARN TaskSetManager: Lost task 99.0 in stage 14.0 (TID 311) (node09.cluster.tsc.uc3m.es executor 7): ExecutorLostFailure (executor 7 exited caused by one of the running tasks) Reason: Remote RPC client disassociated. Likely due to containers exceeding thresholds, or network issues. Check driver logs for WARN messages.\n",
      "23/05/20 18:48:07 WARN BlockManagerMasterEndpoint: No more replicas available for rdd_7_26 !\n",
      "23/05/20 18:48:07 WARN BlockManagerMasterEndpoint: No more replicas available for rdd_75_58 !\n",
      "23/05/20 18:48:07 WARN BlockManagerMasterEndpoint: No more replicas available for rdd_75_63 !\n",
      "23/05/20 18:48:07 WARN BlockManagerMasterEndpoint: No more replicas available for rdd_36_10 !\n",
      "23/05/20 18:48:07 WARN BlockManagerMasterEndpoint: No more replicas available for rdd_7_16 !\n",
      "23/05/20 18:48:07 WARN BlockManagerMasterEndpoint: No more replicas available for rdd_36_20 !\n",
      "23/05/20 18:48:07 WARN BlockManagerMasterEndpoint: No more replicas available for rdd_75_32 !\n",
      "23/05/20 18:48:07 WARN BlockManagerMasterEndpoint: No more replicas available for rdd_36_0 !\n",
      "23/05/20 18:48:07 WARN BlockManagerMasterEndpoint: No more replicas available for rdd_75_22 !\n",
      "23/05/20 18:48:07 WARN BlockManagerMasterEndpoint: No more replicas available for rdd_75_2 !\n",
      "23/05/20 18:48:07 WARN BlockManagerMasterEndpoint: No more replicas available for rdd_75_59 !\n",
      "23/05/20 18:48:07 WARN BlockManagerMasterEndpoint: No more replicas available for rdd_36_30 !\n",
      "23/05/20 18:48:07 WARN BlockManagerMasterEndpoint: No more replicas available for rdd_75_12 !\n",
      "23/05/20 18:48:07 WARN BlockManagerMasterEndpoint: No more replicas available for rdd_75_70 !\n",
      "23/05/20 18:48:07 WARN BlockManagerMasterEndpoint: No more replicas available for rdd_7_6 !\n",
      "23/05/20 18:48:28 ERROR TaskSchedulerImpl: Lost executor 5 on node60.cluster.tsc.uc3m.es: Remote RPC client disassociated. Likely due to containers exceeding thresholds, or network issues. Check driver logs for WARN messages.\n",
      "23/05/20 18:48:28 WARN TaskSetManager: Lost task 98.0 in stage 14.0 (TID 310) (node60.cluster.tsc.uc3m.es executor 5): ExecutorLostFailure (executor 5 exited caused by one of the running tasks) Reason: Remote RPC client disassociated. Likely due to containers exceeding thresholds, or network issues. Check driver logs for WARN messages.\n",
      "23/05/20 18:48:28 WARN TaskSetManager: Lost task 97.0 in stage 14.0 (TID 309) (node60.cluster.tsc.uc3m.es executor 5): ExecutorLostFailure (executor 5 exited caused by one of the running tasks) Reason: Remote RPC client disassociated. Likely due to containers exceeding thresholds, or network issues. Check driver logs for WARN messages.\n",
      "23/05/20 18:48:28 WARN TaskSetManager: Lost task 79.1 in stage 14.0 (TID 302) (node60.cluster.tsc.uc3m.es executor 5): ExecutorLostFailure (executor 5 exited caused by one of the running tasks) Reason: Remote RPC client disassociated. Likely due to containers exceeding thresholds, or network issues. Check driver logs for WARN messages.\n",
      "23/05/20 18:48:28 WARN TaskSetManager: Lost task 93.0 in stage 14.0 (TID 305) (node60.cluster.tsc.uc3m.es executor 5): ExecutorLostFailure (executor 5 exited caused by one of the running tasks) Reason: Remote RPC client disassociated. Likely due to containers exceeding thresholds, or network issues. Check driver logs for WARN messages.\n",
      "23/05/20 18:48:28 WARN BlockManagerMasterEndpoint: No more replicas available for rdd_75_66 !\n",
      "23/05/20 18:48:28 WARN BlockManagerMasterEndpoint: No more replicas available for rdd_36_2 !\n",
      "23/05/20 18:48:28 WARN BlockManagerMasterEndpoint: No more replicas available for rdd_36_22 !\n",
      "23/05/20 18:48:28 WARN BlockManagerMasterEndpoint: No more replicas available for rdd_75_28 !\n",
      "23/05/20 18:48:28 WARN BlockManagerMasterEndpoint: No more replicas available for rdd_75_8 !\n",
      "23/05/20 18:48:28 WARN BlockManagerMasterEndpoint: No more replicas available for rdd_7_21 !\n",
      "23/05/20 18:48:28 WARN BlockManagerMasterEndpoint: No more replicas available for rdd_75_18 !\n",
      "23/05/20 18:48:28 WARN BlockManagerMasterEndpoint: No more replicas available for rdd_75_65 !\n",
      "23/05/20 18:48:28 WARN BlockManagerMasterEndpoint: No more replicas available for rdd_36_12 !\n",
      "23/05/20 18:48:28 WARN BlockManagerMasterEndpoint: No more replicas available for rdd_75_57 !\n",
      "23/05/20 18:48:28 WARN BlockManagerMasterEndpoint: No more replicas available for rdd_75_38 !\n",
      "23/05/20 18:48:28 WARN BlockManagerMasterEndpoint: No more replicas available for rdd_75_67 !\n",
      "23/05/20 18:48:28 WARN BlockManagerMasterEndpoint: No more replicas available for rdd_7_1 !\n",
      "23/05/20 18:48:28 WARN BlockManagerMasterEndpoint: No more replicas available for rdd_7_11 !\n",
      "23/05/20 18:49:00 ERROR TaskSchedulerImpl: Lost executor 0 on node19.cluster.tsc.uc3m.es: Remote RPC client disassociated. Likely due to containers exceeding thresholds, or network issues. Check driver logs for WARN messages.\n",
      "23/05/20 18:49:00 WARN TaskSetManager: Lost task 108.0 in stage 14.0 (TID 328) (node19.cluster.tsc.uc3m.es executor 0): ExecutorLostFailure (executor 0 exited caused by one of the running tasks) Reason: Remote RPC client disassociated. Likely due to containers exceeding thresholds, or network issues. Check driver logs for WARN messages.\n",
      "23/05/20 18:49:00 WARN TaskSetManager: Lost task 107.0 in stage 14.0 (TID 327) (node19.cluster.tsc.uc3m.es executor 0): ExecutorLostFailure (executor 0 exited caused by one of the running tasks) Reason: Remote RPC client disassociated. Likely due to containers exceeding thresholds, or network issues. Check driver logs for WARN messages.\n",
      "23/05/20 18:49:00 WARN TaskSetManager: Lost task 112.0 in stage 14.0 (TID 332) (node19.cluster.tsc.uc3m.es executor 0): ExecutorLostFailure (executor 0 exited caused by one of the running tasks) Reason: Remote RPC client disassociated. Likely due to containers exceeding thresholds, or network issues. Check driver logs for WARN messages.\n",
      "23/05/20 18:49:00 WARN TaskSetManager: Lost task 106.0 in stage 14.0 (TID 326) (node19.cluster.tsc.uc3m.es executor 0): ExecutorLostFailure (executor 0 exited caused by one of the running tasks) Reason: Remote RPC client disassociated. Likely due to containers exceeding thresholds, or network issues. Check driver logs for WARN messages.\n",
      "23/05/20 18:49:00 WARN BlockManagerMasterEndpoint: No more replicas available for rdd_75_40 !\n",
      "23/05/20 18:49:00 WARN BlockManagerMasterEndpoint: No more replicas available for rdd_7_10 !\n",
      "23/05/20 18:49:00 WARN BlockManagerMasterEndpoint: No more replicas available for rdd_36_24 !\n",
      "23/05/20 18:49:00 WARN BlockManagerMasterEndpoint: No more replicas available for rdd_36_4 !\n",
      "23/05/20 18:49:00 WARN BlockManagerMasterEndpoint: No more replicas available for rdd_75_88 !\n",
      "23/05/20 18:49:00 WARN BlockManagerMasterEndpoint: No more replicas available for rdd_7_20 !\n",
      "23/05/20 18:49:00 WARN BlockManagerMasterEndpoint: No more replicas available for rdd_75_10 !\n",
      "23/05/20 18:49:00 WARN BlockManagerMasterEndpoint: No more replicas available for rdd_75_44 !\n",
      "23/05/20 18:49:00 WARN BlockManagerMasterEndpoint: No more replicas available for rdd_75_0 !\n",
      "23/05/20 18:49:00 WARN BlockManagerMasterEndpoint: No more replicas available for rdd_75_76 !\n",
      "23/05/20 18:49:00 WARN BlockManagerMasterEndpoint: No more replicas available for rdd_75_73 !\n",
      "23/05/20 18:49:00 WARN BlockManagerMasterEndpoint: No more replicas available for rdd_75_92 !\n",
      "23/05/20 18:49:00 WARN BlockManagerMasterEndpoint: No more replicas available for rdd_75_89 !\n",
      "23/05/20 18:49:00 WARN BlockManagerMasterEndpoint: No more replicas available for rdd_75_90 !\n",
      "23/05/20 18:49:00 WARN BlockManagerMasterEndpoint: No more replicas available for rdd_75_42 !\n",
      "23/05/20 18:49:00 WARN BlockManagerMasterEndpoint: No more replicas available for rdd_36_14 !\n",
      "23/05/20 18:49:00 WARN BlockManagerMasterEndpoint: No more replicas available for rdd_75_41 !\n",
      "23/05/20 18:49:00 WARN BlockManagerMasterEndpoint: No more replicas available for rdd_75_71 !\n",
      "23/05/20 18:49:00 WARN BlockManagerMasterEndpoint: No more replicas available for rdd_75_30 !\n",
      "23/05/20 18:49:00 WARN BlockManagerMasterEndpoint: No more replicas available for rdd_7_0 !\n",
      "23/05/20 18:49:00 WARN BlockManagerMasterEndpoint: No more replicas available for rdd_75_50 !\n",
      "23/05/20 18:49:00 WARN BlockManagerMasterEndpoint: No more replicas available for rdd_7_30 !\n",
      "23/05/20 18:49:00 WARN BlockManagerMasterEndpoint: No more replicas available for rdd_75_20 !\n",
      "23/05/20 18:51:05 ERROR TaskSchedulerImpl: Lost executor 10 on node10.cluster.tsc.uc3m.es: Remote RPC client disassociated. Likely due to containers exceeding thresholds, or network issues. Check driver logs for WARN messages.\n",
      "23/05/20 18:51:05 WARN TaskSetManager: Lost task 194.0 in stage 14.0 (TID 418) (node10.cluster.tsc.uc3m.es executor 10): ExecutorLostFailure (executor 10 exited caused by one of the running tasks) Reason: Remote RPC client disassociated. Likely due to containers exceeding thresholds, or network issues. Check driver logs for WARN messages.\n",
      "23/05/20 18:51:05 WARN TaskSetManager: Lost task 184.0 in stage 14.0 (TID 408) (node10.cluster.tsc.uc3m.es executor 10): ExecutorLostFailure (executor 10 exited caused by one of the running tasks) Reason: Remote RPC client disassociated. Likely due to containers exceeding thresholds, or network issues. Check driver logs for WARN messages.\n",
      "23/05/20 18:51:05 WARN TaskSetManager: Lost task 186.0 in stage 14.0 (TID 410) (node10.cluster.tsc.uc3m.es executor 10): ExecutorLostFailure (executor 10 exited caused by one of the running tasks) Reason: Remote RPC client disassociated. Likely due to containers exceeding thresholds, or network issues. Check driver logs for WARN messages.\n",
      "23/05/20 18:51:05 WARN TaskSetManager: Lost task 183.0 in stage 14.0 (TID 407) (node10.cluster.tsc.uc3m.es executor 10): ExecutorLostFailure (executor 10 exited caused by one of the running tasks) Reason: Remote RPC client disassociated. Likely due to containers exceeding thresholds, or network issues. Check driver logs for WARN messages.\n",
      "23/05/20 18:51:05 WARN BlockManagerMasterEndpoint: No more replicas available for rdd_75_143 !\n",
      "23/05/20 18:51:05 WARN BlockManagerMasterEndpoint: No more replicas available for rdd_75_111 !\n",
      "23/05/20 18:51:05 WARN BlockManagerMasterEndpoint: No more replicas available for rdd_75_105 !\n",
      "23/05/20 18:51:05 WARN BlockManagerMasterEndpoint: No more replicas available for rdd_75_81 !\n",
      "23/05/20 18:51:05 WARN BlockManagerMasterEndpoint: No more replicas available for rdd_75_146 !\n",
      "23/05/20 18:51:05 WARN BlockManagerMasterEndpoint: No more replicas available for rdd_75_109 !\n",
      "23/05/20 18:51:05 WARN BlockManagerMasterEndpoint: No more replicas available for rdd_75_148 !\n",
      "23/05/20 18:51:05 WARN BlockManagerMasterEndpoint: No more replicas available for rdd_75_82 !\n",
      "23/05/20 18:51:05 WARN BlockManagerMasterEndpoint: No more replicas available for rdd_75_84 !\n",
      "23/05/20 18:51:05 WARN BlockManagerMasterEndpoint: No more replicas available for rdd_75_83 !\n",
      "23/05/20 18:51:05 WARN BlockManagerMasterEndpoint: No more replicas available for rdd_75_110 !\n",
      "23/05/20 18:51:05 WARN BlockManagerMasterEndpoint: No more replicas available for rdd_75_144 !\n",
      "                                                                                \r"
     ]
    },
    {
     "name": "stdout",
     "output_type": "stream",
     "text": [
      "Number of documents in dataset: 211633102\n",
      "root\n",
      " |-- id: long (nullable = true)\n",
      " |-- title: string (nullable = true)\n",
      " |-- S2Url: string (nullable = true)\n",
      " |-- year: integer (nullable = true)\n",
      " |-- doi: string (nullable = true)\n",
      " |-- pmid: string (nullable = true)\n",
      " |-- magId: string (nullable = true)\n",
      " |-- externalids: struct (nullable = true)\n",
      " |    |-- ACL: string (nullable = true)\n",
      " |    |-- ArXiv: string (nullable = true)\n",
      " |    |-- CorpusId: string (nullable = true)\n",
      " |    |-- DBLP: string (nullable = true)\n",
      " |    |-- DOI: string (nullable = true)\n",
      " |    |-- MAG: string (nullable = true)\n",
      " |    |-- PubMed: string (nullable = true)\n",
      " |    |-- PubMedCentral: string (nullable = true)\n",
      " |-- fieldsOfStudy: array (nullable = true)\n",
      " |    |-- element: string (containsNull = true)\n",
      " |-- publicationtypes: array (nullable = true)\n",
      " |    |-- element: string (containsNull = true)\n",
      " |-- publicationdate: string (nullable = true)\n",
      " |-- journalName: string (nullable = true)\n",
      " |-- journalPages: string (nullable = true)\n",
      " |-- journalVolume: string (nullable = true)\n",
      " |-- venue: string (nullable = true)\n",
      " |-- publicationvenueid: string (nullable = true)\n",
      " |-- isopenaccess: boolean (nullable = true)\n",
      " |-- referencecount: integer (nullable = true)\n",
      " |-- citationcount: integer (nullable = true)\n",
      " |-- influentialcitationcount: integer (nullable = true)\n",
      " |-- paperAbstract: string (nullable = true)\n",
      " |-- openaccessinfo: struct (nullable = true)\n",
      " |    |-- externalids: struct (nullable = true)\n",
      " |    |    |-- ACL: string (nullable = true)\n",
      " |    |    |-- ArXiv: string (nullable = true)\n",
      " |    |    |-- DOI: string (nullable = true)\n",
      " |    |    |-- MAG: string (nullable = true)\n",
      " |    |    |-- PubMedCentral: string (nullable = true)\n",
      " |    |-- license: string (nullable = true)\n",
      " |    |-- status: string (nullable = true)\n",
      " |    |-- url: string (nullable = true)\n",
      "\n"
     ]
    },
    {
     "name": "stderr",
     "output_type": "stream",
     "text": [
      "[Stage 21:>                                                         (0 + 1) / 1]\r"
     ]
    },
    {
     "name": "stdout",
     "output_type": "stream",
     "text": [
      "-RECORD 0--------------------------------------------------------------------------------------------------------------------------------------------\n",
      " id                       | 26                                                                                                                       \n",
      " title                    | FPGA-based design and implementation of an approximate polynomial matrix EVD algorithm                                   \n",
      " S2Url                    | https://www.semanticscholar.org/paper/7011b84b03f1d992962c4a6c87459f7742bc3165                                           \n",
      " year                     | 2012                                                                                                                     \n",
      " doi                      | 10.1109/FPT.2012.6412125                                                                                                 \n",
      " pmid                     | null                                                                                                                     \n",
      " magId                    | 1994418445                                                                                                               \n",
      " externalids              | {null, null, 26, conf/fpt/KasapR12, 10.1109/FPT.2012.6412125, 1994418445, null, null}                                    \n",
      " fieldsOfStudy            | [Computer Science]                                                                                                       \n",
      " publicationtypes         | [JournalArticle, Conference]                                                                                             \n",
      " publicationdate          | 2012-12-01                                                                                                               \n",
      " journalName              | 2012 International Conference on Field-Programmable Technology                                                           \n",
      " journalPages             | 135-140                                                                                                                  \n",
      " journalVolume            | null                                                                                                                     \n",
      " venue                    | International Conference on Field-Programmable Technology                                                                \n",
      " publicationvenueid       | 5ea3b256-b7b3-4ce5-b0cb-a6bee512e027                                                                                     \n",
      " isopenaccess             | false                                                                                                                    \n",
      " referencecount           | 16                                                                                                                       \n",
      " citationcount            | 1                                                                                                                        \n",
      " influentialcitationcount | 0                                                                                                                        \n",
      " paperAbstract            | In this paper, we introduce a field-programmable gate array (FPGA) hardware architecture for the realization of an al... \n",
      " openaccessinfo           | {{null, null, 10.1109/FPT.2012.6412125, 1994418445, null}, null, null, null}                                             \n",
      "-RECORD 1--------------------------------------------------------------------------------------------------------------------------------------------\n",
      " id                       | 29                                                                                                                       \n",
      " title                    | Do people with idiopathic environmental intolerance attributed to electromagnetic fields display physiological effect... \n",
      " S2Url                    | https://www.semanticscholar.org/paper/9e9a8e1fe6bb53c8593a1cfddccf4b109f6292db                                           \n",
      " year                     | 2011                                                                                                                     \n",
      " doi                      | 10.1002/bem.20690                                                                                                        \n",
      " pmid                     | 21769898                                                                                                                 \n",
      " magId                    | 2125395151                                                                                                               \n",
      " externalids              | {null, null, 29, null, 10.1002/bem.20690, 2125395151, 21769898, null}                                                    \n",
      " fieldsOfStudy            | [Psychology]                                                                                                             \n",
      " publicationtypes         | [Review, JournalArticle]                                                                                                 \n",
      " publicationdate          | 2011-12-01                                                                                                               \n",
      " journalName              | Bioelectromagnetics                                                                                                      \n",
      " journalPages             | null                                                                                                                     \n",
      " journalVolume            | 32                                                                                                                       \n",
      " venue                    | Bioelectromagnetics                                                                                                      \n",
      " publicationvenueid       | e41c8545-7b07-466f-9ca8-d4646e191c6b                                                                                     \n",
      " isopenaccess             | false                                                                                                                    \n",
      " referencecount           | 53                                                                                                                       \n",
      " citationcount            | 101                                                                                                                      \n",
      " influentialcitationcount | 3                                                                                                                        \n",
      " paperAbstract            | Idiopathic environmental intolerance attributed to electromagnetic fields (IEI‐EMF) is a controversial illness in whi... \n",
      " openaccessinfo           | {{null, null, 10.1002/bem.20690, 2125395151, null}, null, null, null}                                                    \n",
      "only showing top 2 rows\n",
      "\n",
      "CPU times: user 646 ms, sys: 113 ms, total: 759 ms\n",
      "Wall time: 17min 49s\n"
     ]
    },
    {
     "name": "stderr",
     "output_type": "stream",
     "text": [
      "                                                                                \r"
     ]
    }
   ],
   "source": [
    "%%time\n",
    "\n",
    "dataset = (dataset.join(df_abstracts, dataset.id ==  df_abstracts.id, \"left\")\n",
    "                      .drop(df_abstracts.id)\n",
    "                ).cache()\n",
    "\n",
    "print('Number of documents in dataset:', dataset.count())\n",
    "dataset.printSchema()\n",
    "dataset.show(n=2, truncate=120, vertical=True)"
   ]
  },
  {
   "cell_type": "code",
   "execution_count": 10,
   "id": "d7ab2769-9ce1-4adc-bd9b-04dae52a75ca",
   "metadata": {
    "tags": []
   },
   "outputs": [
    {
     "name": "stderr",
     "output_type": "stream",
     "text": [
      "23/05/20 18:58:10 ERROR TaskSchedulerImpl: Lost executor 1 on node65.cluster.tsc.uc3m.es: Remote RPC client disassociated. Likely due to containers exceeding thresholds, or network issues. Check driver logs for WARN messages.\n",
      "23/05/20 18:58:10 WARN TaskSetManager: Lost task 154.0 in stage 24.0 (TID 568) (node65.cluster.tsc.uc3m.es executor 1): ExecutorLostFailure (executor 1 exited caused by one of the running tasks) Reason: Remote RPC client disassociated. Likely due to containers exceeding thresholds, or network issues. Check driver logs for WARN messages.\n",
      "23/05/20 18:58:10 WARN TaskSetManager: Lost task 50.0 in stage 24.0 (TID 594) (node65.cluster.tsc.uc3m.es executor 1): ExecutorLostFailure (executor 1 exited caused by one of the running tasks) Reason: Remote RPC client disassociated. Likely due to containers exceeding thresholds, or network issues. Check driver logs for WARN messages.\n",
      "23/05/20 18:58:10 WARN TaskSetManager: Lost task 39.0 in stage 24.0 (TID 581) (node65.cluster.tsc.uc3m.es executor 1): ExecutorLostFailure (executor 1 exited caused by one of the running tasks) Reason: Remote RPC client disassociated. Likely due to containers exceeding thresholds, or network issues. Check driver logs for WARN messages.\n",
      "23/05/20 18:58:10 WARN TaskSetManager: Lost task 41.0 in stage 24.0 (TID 584) (node65.cluster.tsc.uc3m.es executor 1): ExecutorLostFailure (executor 1 exited caused by one of the running tasks) Reason: Remote RPC client disassociated. Likely due to containers exceeding thresholds, or network issues. Check driver logs for WARN messages.\n",
      "23/05/20 18:58:10 WARN BlockManagerMasterEndpoint: No more replicas available for rdd_75_136 !\n",
      "23/05/20 18:58:10 WARN BlockManagerMasterEndpoint: No more replicas available for rdd_75_75 !\n",
      "23/05/20 18:58:10 WARN BlockManagerMasterEndpoint: No more replicas available for rdd_75_60 !\n",
      "23/05/20 18:58:10 WARN BlockManagerMasterEndpoint: No more replicas available for rdd_75_31 !\n",
      "23/05/20 18:58:10 WARN BlockManagerMasterEndpoint: No more replicas available for rdd_75_94 !\n",
      "23/05/20 18:58:10 WARN BlockManagerMasterEndpoint: No more replicas available for rdd_75_64 !\n",
      "23/05/20 18:58:10 WARN BlockManagerMasterEndpoint: No more replicas available for rdd_7_24 !\n",
      "23/05/20 18:58:10 WARN BlockManagerMasterEndpoint: No more replicas available for rdd_36_19 !\n",
      "23/05/20 18:58:10 WARN BlockManagerMasterEndpoint: No more replicas available for rdd_36_9 !\n",
      "23/05/20 18:58:10 WARN BlockManagerMasterEndpoint: No more replicas available for rdd_75_11 !\n",
      "23/05/20 18:58:10 WARN BlockManagerMasterEndpoint: No more replicas available for rdd_75_68 !\n",
      "23/05/20 18:58:10 WARN BlockManagerMasterEndpoint: No more replicas available for rdd_75_96 !\n",
      "23/05/20 18:58:10 WARN BlockManagerMasterEndpoint: No more replicas available for rdd_75_21 !\n",
      "23/05/20 18:58:10 WARN BlockManagerMasterEndpoint: No more replicas available for rdd_75_87 !\n",
      "23/05/20 18:58:10 WARN BlockManagerMasterEndpoint: No more replicas available for rdd_75_124 !\n",
      "23/05/20 18:58:10 WARN BlockManagerMasterEndpoint: No more replicas available for rdd_75_191 !\n",
      "23/05/20 18:58:10 WARN BlockManagerMasterEndpoint: No more replicas available for rdd_7_14 !\n",
      "23/05/20 18:58:10 WARN BlockManagerMasterEndpoint: No more replicas available for rdd_7_4 !\n",
      "23/05/20 18:58:10 WARN BlockManagerMasterEndpoint: No more replicas available for rdd_75_154 !\n",
      "23/05/20 18:58:10 WARN BlockManagerMasterEndpoint: No more replicas available for rdd_75_123 !\n",
      "23/05/20 18:58:10 WARN BlockManagerMasterEndpoint: No more replicas available for rdd_75_104 !\n",
      "23/05/20 18:58:10 WARN BlockManagerMasterEndpoint: No more replicas available for rdd_36_29 !\n",
      "23/05/20 18:58:10 WARN BlockManagerMasterEndpoint: No more replicas available for rdd_75_1 !\n",
      "23/05/20 18:58:10 WARN BlockManagerMasterEndpoint: No more replicas available for rdd_75_62 !\n",
      "23/05/20 18:59:26 ERROR TaskSchedulerImpl: Lost executor 2 on node22.cluster.tsc.uc3m.es: Remote RPC client disassociated. Likely due to containers exceeding thresholds, or network issues. Check driver logs for WARN messages.\n",
      "23/05/20 18:59:26 WARN TaskSetManager: Lost task 188.0 in stage 24.0 (TID 609) (node22.cluster.tsc.uc3m.es executor 2): ExecutorLostFailure (executor 2 exited caused by one of the running tasks) Reason: Remote RPC client disassociated. Likely due to containers exceeding thresholds, or network issues. Check driver logs for WARN messages.\n",
      "23/05/20 18:59:26 WARN TaskSetManager: Lost task 109.0 in stage 24.0 (TID 627) (node22.cluster.tsc.uc3m.es executor 2): ExecutorLostFailure (executor 2 exited caused by one of the running tasks) Reason: Remote RPC client disassociated. Likely due to containers exceeding thresholds, or network issues. Check driver logs for WARN messages.\n",
      "23/05/20 18:59:26 WARN TaskSetManager: Lost task 143.0 in stage 24.0 (TID 630) (node22.cluster.tsc.uc3m.es executor 2): ExecutorLostFailure (executor 2 exited caused by one of the running tasks) Reason: Remote RPC client disassociated. Likely due to containers exceeding thresholds, or network issues. Check driver logs for WARN messages.\n",
      "23/05/20 18:59:26 WARN TaskSetManager: Lost task 89.0 in stage 24.0 (TID 623) (node22.cluster.tsc.uc3m.es executor 2): ExecutorLostFailure (executor 2 exited caused by one of the running tasks) Reason: Remote RPC client disassociated. Likely due to containers exceeding thresholds, or network issues. Check driver logs for WARN messages.\n",
      "23/05/20 18:59:26 WARN BlockManagerMasterEndpoint: No more replicas available for rdd_75_95 !\n",
      "23/05/20 18:59:26 WARN BlockManagerMasterEndpoint: No more replicas available for rdd_75_150 !\n",
      "23/05/20 18:59:26 WARN BlockManagerMasterEndpoint: No more replicas available for rdd_7_27 !\n",
      "23/05/20 18:59:26 WARN BlockManagerMasterEndpoint: No more replicas available for rdd_75_56 !\n",
      "23/05/20 18:59:26 WARN BlockManagerMasterEndpoint: No more replicas available for rdd_75_53 !\n",
      "23/05/20 18:59:26 WARN BlockManagerMasterEndpoint: No more replicas available for rdd_75_48 !\n",
      "23/05/20 18:59:26 WARN BlockManagerMasterEndpoint: No more replicas available for rdd_7_17 !\n",
      "23/05/20 18:59:26 WARN BlockManagerMasterEndpoint: No more replicas available for rdd_75_152 !\n",
      "23/05/20 18:59:26 WARN BlockManagerMasterEndpoint: No more replicas available for rdd_75_188 !\n",
      "23/05/20 18:59:26 WARN BlockManagerMasterEndpoint: No more replicas available for rdd_36_15 !\n",
      "23/05/20 18:59:26 WARN BlockManagerMasterEndpoint: No more replicas available for rdd_75_112 !\n",
      "23/05/20 18:59:26 WARN BlockManagerMasterEndpoint: No more replicas available for rdd_75_107 !\n",
      "23/05/20 18:59:26 WARN BlockManagerMasterEndpoint: No more replicas available for rdd_75_80 !\n",
      "23/05/20 18:59:26 WARN BlockManagerMasterEndpoint: No more replicas available for rdd_75_149 !\n",
      "23/05/20 18:59:26 WARN BlockManagerMasterEndpoint: No more replicas available for rdd_75_181 !\n",
      "23/05/20 18:59:26 WARN BlockManagerMasterEndpoint: No more replicas available for rdd_75_25 !\n",
      "23/05/20 18:59:26 WARN BlockManagerMasterEndpoint: No more replicas available for rdd_75_15 !\n",
      "23/05/20 18:59:26 WARN BlockManagerMasterEndpoint: No more replicas available for rdd_75_5 !\n",
      "23/05/20 18:59:26 WARN BlockManagerMasterEndpoint: No more replicas available for rdd_75_118 !\n",
      "23/05/20 18:59:26 WARN BlockManagerMasterEndpoint: No more replicas available for rdd_36_25 !\n",
      "23/05/20 18:59:26 WARN BlockManagerMasterEndpoint: No more replicas available for rdd_75_195 !\n",
      "23/05/20 18:59:26 WARN BlockManagerMasterEndpoint: No more replicas available for rdd_75_78 !\n",
      "23/05/20 18:59:26 WARN BlockManagerMasterEndpoint: No more replicas available for rdd_75_85 !\n",
      "23/05/20 18:59:26 WARN BlockManagerMasterEndpoint: No more replicas available for rdd_36_5 !\n",
      "23/05/20 18:59:26 WARN BlockManagerMasterEndpoint: No more replicas available for rdd_75_151 !\n",
      "23/05/20 18:59:26 WARN BlockManagerMasterEndpoint: No more replicas available for rdd_7_7 !\n",
      "23/05/20 18:59:26 WARN BlockManagerMasterEndpoint: No more replicas available for rdd_75_54 !\n",
      "23/05/20 18:59:26 WARN BlockManagerMasterEndpoint: No more replicas available for rdd_75_35 !\n",
      "23/05/20 18:59:26 WARN BlockManagerMasterEndpoint: No more replicas available for rdd_75_182 !\n",
      "23/05/20 18:59:26 WARN BlockManagerMasterEndpoint: No more replicas available for rdd_75_113 !\n",
      "                                                                                \r"
     ]
    },
    {
     "name": "stdout",
     "output_type": "stream",
     "text": [
      "CPU times: user 421 ms, sys: 89 ms, total: 510 ms\n",
      "Wall time: 8min 9s\n"
     ]
    }
   ],
   "source": [
    "%%time\n",
    "\n",
    "dataset.write.parquet(\n",
    "    dir_parquet.joinpath(f\"papers.parquet\").as_posix(),\n",
    "    mode=\"overwrite\",\n",
    ")"
   ]
  },
  {
   "cell_type": "code",
   "execution_count": 39,
   "id": "1074d96e-94a5-4b31-9545-2c5237f59f3e",
   "metadata": {
    "tags": []
   },
   "outputs": [
    {
     "name": "stderr",
     "output_type": "stream",
     "text": [
      "23/05/21 01:44:16 ERROR TaskSchedulerImpl: Lost executor 19 on node17.cluster.tsc.uc3m.es: Remote RPC client disassociated. Likely due to containers exceeding thresholds, or network issues. Check driver logs for WARN messages.\n",
      "23/05/21 01:44:16 WARN TaskSetManager: Lost task 40.0 in stage 126.0 (TID 2412) (node17.cluster.tsc.uc3m.es executor 19): ExecutorLostFailure (executor 19 exited caused by one of the running tasks) Reason: Remote RPC client disassociated. Likely due to containers exceeding thresholds, or network issues. Check driver logs for WARN messages.\n",
      "23/05/21 01:44:16 WARN TaskSetManager: Lost task 43.0 in stage 126.0 (TID 2415) (node17.cluster.tsc.uc3m.es executor 19): ExecutorLostFailure (executor 19 exited caused by one of the running tasks) Reason: Remote RPC client disassociated. Likely due to containers exceeding thresholds, or network issues. Check driver logs for WARN messages.\n",
      "23/05/21 01:44:16 WARN TaskSetManager: Lost task 42.0 in stage 126.0 (TID 2414) (node17.cluster.tsc.uc3m.es executor 19): ExecutorLostFailure (executor 19 exited caused by one of the running tasks) Reason: Remote RPC client disassociated. Likely due to containers exceeding thresholds, or network issues. Check driver logs for WARN messages.\n",
      "23/05/21 01:44:16 WARN TaskSetManager: Lost task 41.0 in stage 126.0 (TID 2413) (node17.cluster.tsc.uc3m.es executor 19): ExecutorLostFailure (executor 19 exited caused by one of the running tasks) Reason: Remote RPC client disassociated. Likely due to containers exceeding thresholds, or network issues. Check driver logs for WARN messages.\n",
      "23/05/21 01:44:16 WARN BlockManagerMasterEndpoint: No more replicas available for rdd_332_5 !\n",
      "23/05/21 01:44:16 WARN BlockManagerMasterEndpoint: No more replicas available for rdd_266_134 !\n",
      "23/05/21 01:44:16 WARN BlockManagerMasterEndpoint: No more replicas available for rdd_266_159 !\n",
      "23/05/21 01:44:16 WARN BlockManagerMasterEndpoint: No more replicas available for rdd_266_173 !\n",
      "23/05/21 01:44:16 WARN BlockManagerMasterEndpoint: No more replicas available for rdd_266_11 !\n",
      "23/05/21 01:44:16 WARN BlockManagerMasterEndpoint: No more replicas available for rdd_266_53 !\n",
      "23/05/21 01:44:16 WARN BlockManagerMasterEndpoint: No more replicas available for rdd_266_121 !\n",
      "23/05/21 01:44:16 WARN BlockManagerMasterEndpoint: No more replicas available for rdd_266_135 !\n",
      "23/05/21 01:44:16 WARN BlockManagerMasterEndpoint: No more replicas available for rdd_266_169 !\n",
      "23/05/21 01:44:16 WARN BlockManagerMasterEndpoint: No more replicas available for rdd_7_23 !\n",
      "23/05/21 01:44:16 WARN BlockManagerMasterEndpoint: No more replicas available for rdd_266_1 !\n",
      "23/05/21 01:44:16 WARN BlockManagerMasterEndpoint: No more replicas available for rdd_266_56 !\n",
      "23/05/21 01:44:16 WARN BlockManagerMasterEndpoint: No more replicas available for rdd_266_164 !\n",
      "23/05/21 01:44:16 WARN BlockManagerMasterEndpoint: No more replicas available for rdd_7_3 !\n",
      "23/05/21 01:44:16 WARN BlockManagerMasterEndpoint: No more replicas available for rdd_111_25 !\n",
      "23/05/21 01:44:16 WARN BlockManagerMasterEndpoint: No more replicas available for rdd_75_76 !\n",
      "23/05/21 01:44:16 WARN BlockManagerMasterEndpoint: No more replicas available for rdd_7_13 !\n",
      "23/05/21 01:44:16 WARN BlockManagerMasterEndpoint: No more replicas available for rdd_75_73 !\n",
      "23/05/21 01:44:16 WARN BlockManagerMasterEndpoint: No more replicas available for rdd_266_31 !\n",
      "23/05/21 01:44:16 WARN BlockManagerMasterEndpoint: No more replicas available for rdd_266_50 !\n",
      "23/05/21 01:44:16 WARN BlockManagerMasterEndpoint: No more replicas available for rdd_111_15 !\n",
      "23/05/21 01:44:16 WARN BlockManagerMasterEndpoint: No more replicas available for rdd_266_21 !\n",
      "23/05/21 01:44:16 WARN BlockManagerMasterEndpoint: No more replicas available for rdd_75_71 !\n",
      "23/05/21 01:44:16 WARN BlockManagerMasterEndpoint: No more replicas available for rdd_266_98 !\n",
      "23/05/21 01:44:16 WARN BlockManagerMasterEndpoint: No more replicas available for rdd_266_94 !\n",
      "23/05/21 01:44:16 WARN BlockManagerMasterEndpoint: No more replicas available for rdd_332_15 !\n",
      "23/05/21 01:44:16 WARN BlockManagerMasterEndpoint: No more replicas available for rdd_111_5 !\n",
      "23/05/21 01:44:16 WARN BlockManagerMasterEndpoint: No more replicas available for rdd_266_88 !\n",
      "23/05/21 01:44:16 WARN BlockManagerMasterEndpoint: No more replicas available for rdd_266_189 !\n",
      "23/05/21 01:44:16 WARN BlockManagerMasterEndpoint: No more replicas available for rdd_266_47 !\n",
      "23/05/21 01:44:16 WARN BlockManagerMasterEndpoint: No more replicas available for rdd_75_70 !\n",
      "23/05/21 01:44:16 WARN BlockManagerMasterEndpoint: No more replicas available for rdd_266_128 !\n",
      "23/05/21 01:44:16 WARN BlockManagerMasterEndpoint: No more replicas available for rdd_332_25 !\n",
      "23/05/21 01:44:16 WARN BlockManagerMasterEndpoint: No more replicas available for rdd_266_89 !\n",
      "23/05/21 01:45:32 ERROR TaskSchedulerImpl: Lost executor 18 on node67.cluster.tsc.uc3m.es: Remote RPC client disassociated. Likely due to containers exceeding thresholds, or network issues. Check driver logs for WARN messages.\n",
      "23/05/21 01:45:32 WARN TaskSetManager: Lost task 82.0 in stage 126.0 (TID 2470) (node67.cluster.tsc.uc3m.es executor 18): ExecutorLostFailure (executor 18 exited caused by one of the running tasks) Reason: Remote RPC client disassociated. Likely due to containers exceeding thresholds, or network issues. Check driver logs for WARN messages.\n",
      "23/05/21 01:45:32 WARN TaskSetManager: Lost task 81.0 in stage 126.0 (TID 2469) (node67.cluster.tsc.uc3m.es executor 18): ExecutorLostFailure (executor 18 exited caused by one of the running tasks) Reason: Remote RPC client disassociated. Likely due to containers exceeding thresholds, or network issues. Check driver logs for WARN messages.\n",
      "23/05/21 01:45:32 WARN TaskSetManager: Lost task 78.0 in stage 126.0 (TID 2466) (node67.cluster.tsc.uc3m.es executor 18): ExecutorLostFailure (executor 18 exited caused by one of the running tasks) Reason: Remote RPC client disassociated. Likely due to containers exceeding thresholds, or network issues. Check driver logs for WARN messages.\n",
      "23/05/21 01:45:32 WARN TaskSetManager: Lost task 85.0 in stage 126.0 (TID 2471) (node67.cluster.tsc.uc3m.es executor 18): ExecutorLostFailure (executor 18 exited caused by one of the running tasks) Reason: Remote RPC client disassociated. Likely due to containers exceeding thresholds, or network issues. Check driver logs for WARN messages.\n",
      "23/05/21 01:45:32 WARN BlockManagerMasterEndpoint: No more replicas available for rdd_75_34 !\n",
      "23/05/21 01:45:32 WARN BlockManagerMasterEndpoint: No more replicas available for rdd_111_2 !\n",
      "23/05/21 01:45:32 WARN BlockManagerMasterEndpoint: No more replicas available for rdd_266_18 !\n",
      "23/05/21 01:45:32 WARN BlockManagerMasterEndpoint: No more replicas available for rdd_266_151 !\n",
      "23/05/21 01:45:32 WARN BlockManagerMasterEndpoint: No more replicas available for rdd_75_4 !\n",
      "23/05/21 01:45:32 WARN BlockManagerMasterEndpoint: No more replicas available for rdd_332_29 !\n",
      "23/05/21 01:45:32 WARN BlockManagerMasterEndpoint: No more replicas available for rdd_111_22 !\n",
      "23/05/21 01:45:32 WARN BlockManagerMasterEndpoint: No more replicas available for rdd_266_105 !\n",
      "23/05/21 01:45:32 WARN BlockManagerMasterEndpoint: No more replicas available for rdd_75_84 !\n",
      "23/05/21 01:45:32 WARN BlockManagerMasterEndpoint: No more replicas available for rdd_266_62 !\n",
      "23/05/21 01:45:32 WARN BlockManagerMasterEndpoint: No more replicas available for rdd_75_0 !\n",
      "23/05/21 01:45:32 WARN BlockManagerMasterEndpoint: No more replicas available for rdd_266_147 !\n",
      "23/05/21 01:45:32 WARN BlockManagerMasterEndpoint: No more replicas available for rdd_266_68 !\n",
      "23/05/21 01:45:32 WARN BlockManagerMasterEndpoint: No more replicas available for rdd_266_141 !\n",
      "23/05/21 01:45:32 WARN BlockManagerMasterEndpoint: No more replicas available for rdd_75_89 !\n",
      "23/05/21 01:45:32 WARN BlockManagerMasterEndpoint: No more replicas available for rdd_266_192 !\n",
      "23/05/21 01:45:32 WARN BlockManagerMasterEndpoint: No more replicas available for rdd_75_7 !\n",
      "23/05/21 01:45:32 WARN BlockManagerMasterEndpoint: No more replicas available for rdd_7_9 !\n",
      "23/05/21 01:45:32 WARN BlockManagerMasterEndpoint: No more replicas available for rdd_7_19 !\n",
      "23/05/21 01:45:32 WARN BlockManagerMasterEndpoint: No more replicas available for rdd_266_69 !\n",
      "23/05/21 01:45:32 WARN BlockManagerMasterEndpoint: No more replicas available for rdd_111_12 !\n",
      "23/05/21 01:45:32 WARN BlockManagerMasterEndpoint: No more replicas available for rdd_75_3 !\n",
      "23/05/21 01:45:32 WARN BlockManagerMasterEndpoint: No more replicas available for rdd_7_29 !\n",
      "23/05/21 01:45:32 WARN BlockManagerMasterEndpoint: No more replicas available for rdd_266_195 !\n",
      "23/05/21 01:45:32 WARN BlockManagerMasterEndpoint: No more replicas available for rdd_332_19 !\n",
      "23/05/21 01:45:32 WARN BlockManagerMasterEndpoint: No more replicas available for rdd_266_28 !\n",
      "23/05/21 01:45:32 WARN BlockManagerMasterEndpoint: No more replicas available for rdd_266_38 !\n",
      "23/05/21 01:45:32 WARN BlockManagerMasterEndpoint: No more replicas available for rdd_75_28 !\n",
      "23/05/21 01:45:32 WARN BlockManagerMasterEndpoint: No more replicas available for rdd_266_64 !\n",
      "23/05/21 01:45:32 WARN BlockManagerMasterEndpoint: No more replicas available for rdd_75_22 !\n",
      "23/05/21 01:45:32 WARN BlockManagerMasterEndpoint: No more replicas available for rdd_75_2 !\n",
      "23/05/21 01:45:32 WARN BlockManagerMasterEndpoint: No more replicas available for rdd_75_27 !\n",
      "23/05/21 01:45:32 WARN BlockManagerMasterEndpoint: No more replicas available for rdd_75_148 !\n",
      "23/05/21 01:45:32 WARN BlockManagerMasterEndpoint: No more replicas available for rdd_332_9 !\n",
      "23/05/21 01:45:32 WARN BlockManagerMasterEndpoint: No more replicas available for rdd_266_111 !\n",
      "23/05/21 01:45:32 WARN BlockManagerMasterEndpoint: No more replicas available for rdd_266_101 !\n",
      "23/05/21 01:45:32 WARN BlockManagerMasterEndpoint: No more replicas available for rdd_75_12 !\n",
      "23/05/21 01:45:32 WARN BlockManagerMasterEndpoint: No more replicas available for rdd_75_6 !\n",
      "23/05/21 01:45:32 WARN BlockManagerMasterEndpoint: No more replicas available for rdd_266_181 !\n",
      "23/05/21 01:45:32 WARN BlockManagerMasterEndpoint: No more replicas available for rdd_75_105 !\n",
      "23/05/21 01:45:32 WARN BlockManagerMasterEndpoint: No more replicas available for rdd_75_8 !\n",
      "23/05/21 01:45:32 WARN BlockManagerMasterEndpoint: No more replicas available for rdd_266_154 !\n",
      "23/05/21 01:45:32 WARN BlockManagerMasterEndpoint: No more replicas available for rdd_266_109 !\n",
      "23/05/21 01:45:32 WARN BlockManagerMasterEndpoint: No more replicas available for rdd_266_8 !\n",
      "23/05/21 01:46:16 ERROR TaskSchedulerImpl: Lost executor 16 on node68.cluster.tsc.uc3m.es: Remote RPC client disassociated. Likely due to containers exceeding thresholds, or network issues. Check driver logs for WARN messages.\n",
      "23/05/21 01:46:16 WARN TaskSetManager: Lost task 93.0 in stage 126.0 (TID 2488) (node68.cluster.tsc.uc3m.es executor 16): ExecutorLostFailure (executor 16 exited caused by one of the running tasks) Reason: Remote RPC client disassociated. Likely due to containers exceeding thresholds, or network issues. Check driver logs for WARN messages.\n",
      "23/05/21 01:46:16 WARN TaskSetManager: Lost task 199.0 in stage 126.0 (TID 2487) (node68.cluster.tsc.uc3m.es executor 16): ExecutorLostFailure (executor 16 exited caused by one of the running tasks) Reason: Remote RPC client disassociated. Likely due to containers exceeding thresholds, or network issues. Check driver logs for WARN messages.\n",
      "23/05/21 01:46:16 WARN TaskSetManager: Lost task 198.0 in stage 126.0 (TID 2481) (node68.cluster.tsc.uc3m.es executor 16): ExecutorLostFailure (executor 16 exited caused by one of the running tasks) Reason: Remote RPC client disassociated. Likely due to containers exceeding thresholds, or network issues. Check driver logs for WARN messages.\n",
      "23/05/21 01:46:16 WARN TaskSetManager: Lost task 104.0 in stage 126.0 (TID 2499) (node68.cluster.tsc.uc3m.es executor 16): ExecutorLostFailure (executor 16 exited caused by one of the running tasks) Reason: Remote RPC client disassociated. Likely due to containers exceeding thresholds, or network issues. Check driver logs for WARN messages.\n",
      "23/05/21 01:46:16 WARN BlockManagerMasterEndpoint: No more replicas available for rdd_266_54 !\n",
      "23/05/21 01:46:16 WARN BlockManagerMasterEndpoint: No more replicas available for rdd_266_99 !\n",
      "23/05/21 01:46:16 WARN BlockManagerMasterEndpoint: No more replicas available for rdd_75_184 !\n",
      "23/05/21 01:46:16 WARN BlockManagerMasterEndpoint: No more replicas available for rdd_75_155 !\n",
      "23/05/21 01:46:16 WARN BlockManagerMasterEndpoint: No more replicas available for rdd_266_3 !\n",
      "23/05/21 01:46:16 WARN BlockManagerMasterEndpoint: No more replicas available for rdd_266_145 !\n",
      "23/05/21 01:46:16 WARN BlockManagerMasterEndpoint: No more replicas available for rdd_266_23 !\n",
      "23/05/21 01:46:16 WARN BlockManagerMasterEndpoint: No more replicas available for rdd_266_180 !\n",
      "23/05/21 01:46:16 WARN BlockManagerMasterEndpoint: No more replicas available for rdd_75_156 !\n",
      "23/05/21 01:46:16 WARN BlockManagerMasterEndpoint: No more replicas available for rdd_75_122 !\n",
      "23/05/21 01:46:16 WARN BlockManagerMasterEndpoint: No more replicas available for rdd_75_192 !\n",
      "23/05/21 01:46:16 WARN BlockManagerMasterEndpoint: No more replicas available for rdd_75_120 !\n",
      "23/05/21 01:46:16 WARN BlockManagerMasterEndpoint: No more replicas available for rdd_266_132 !\n",
      "23/05/21 01:46:16 WARN BlockManagerMasterEndpoint: No more replicas available for rdd_111_28 !\n",
      "23/05/21 01:46:16 WARN BlockManagerMasterEndpoint: No more replicas available for rdd_266_58 !\n",
      "23/05/21 01:46:16 WARN BlockManagerMasterEndpoint: No more replicas available for rdd_111_8 !\n",
      "23/05/21 01:46:16 WARN BlockManagerMasterEndpoint: No more replicas available for rdd_266_67 !\n",
      "23/05/21 01:46:16 WARN BlockManagerMasterEndpoint: No more replicas available for rdd_75_47 !\n",
      "23/05/21 01:46:16 WARN BlockManagerMasterEndpoint: No more replicas available for rdd_75_63 !\n",
      "23/05/21 01:46:16 WARN BlockManagerMasterEndpoint: No more replicas available for rdd_75_90 !\n",
      "23/05/21 01:46:16 WARN BlockManagerMasterEndpoint: No more replicas available for rdd_75_199 !\n",
      "23/05/21 01:46:16 WARN BlockManagerMasterEndpoint: No more replicas available for rdd_266_171 !\n",
      "23/05/21 01:46:16 WARN BlockManagerMasterEndpoint: No more replicas available for rdd_75_20 !\n",
      "23/05/21 01:46:16 WARN BlockManagerMasterEndpoint: No more replicas available for rdd_75_38 !\n",
      "23/05/21 01:46:16 WARN BlockManagerMasterEndpoint: No more replicas available for rdd_266_100 !\n",
      "23/05/21 01:46:16 WARN BlockManagerMasterEndpoint: No more replicas available for rdd_332_20 !\n",
      "23/05/21 01:46:16 WARN BlockManagerMasterEndpoint: No more replicas available for rdd_266_139 !\n",
      "23/05/21 01:46:16 WARN BlockManagerMasterEndpoint: No more replicas available for rdd_266_63 !\n",
      "23/05/21 01:46:16 WARN BlockManagerMasterEndpoint: No more replicas available for rdd_266_104 !\n",
      "23/05/21 01:46:16 WARN BlockManagerMasterEndpoint: No more replicas available for rdd_266_138 !\n",
      "23/05/21 01:46:16 WARN BlockManagerMasterEndpoint: No more replicas available for rdd_7_16 !\n",
      "23/05/21 01:46:16 WARN BlockManagerMasterEndpoint: No more replicas available for rdd_111_18 !\n",
      "23/05/21 01:46:16 WARN BlockManagerMasterEndpoint: No more replicas available for rdd_266_188 !\n",
      "23/05/21 01:46:16 WARN BlockManagerMasterEndpoint: No more replicas available for rdd_332_10 !\n",
      "23/05/21 01:46:16 WARN BlockManagerMasterEndpoint: No more replicas available for rdd_75_153 !\n",
      "23/05/21 01:46:16 WARN BlockManagerMasterEndpoint: No more replicas available for rdd_266_33 !\n",
      "23/05/21 01:46:16 WARN BlockManagerMasterEndpoint: No more replicas available for rdd_75_119 !\n",
      "23/05/21 01:46:16 WARN BlockManagerMasterEndpoint: No more replicas available for rdd_75_110 !\n",
      "23/05/21 01:46:16 WARN BlockManagerMasterEndpoint: No more replicas available for rdd_7_6 !\n",
      "23/05/21 01:46:16 WARN BlockManagerMasterEndpoint: No more replicas available for rdd_7_26 !\n",
      "23/05/21 01:46:16 WARN BlockManagerMasterEndpoint: No more replicas available for rdd_266_178 !\n",
      "23/05/21 01:46:16 WARN BlockManagerMasterEndpoint: No more replicas available for rdd_332_30 !\n",
      "23/05/21 01:46:16 WARN BlockManagerMasterEndpoint: No more replicas available for rdd_75_121 !\n",
      "23/05/21 01:46:16 WARN BlockManagerMasterEndpoint: No more replicas available for rdd_266_91 !\n",
      "23/05/21 01:46:16 WARN BlockManagerMasterEndpoint: No more replicas available for rdd_75_50 !\n",
      "23/05/21 01:46:16 WARN BlockManagerMasterEndpoint: No more replicas available for rdd_266_13 !\n",
      "23/05/21 01:46:16 WARN BlockManagerMasterEndpoint: No more replicas available for rdd_75_198 !\n",
      "23/05/21 01:46:16 WARN BlockManagerMasterEndpoint: No more replicas available for rdd_332_0 !\n",
      "23/05/21 01:46:16 WARN BlockManagerMasterEndpoint: No more replicas available for rdd_75_157 !\n",
      "23/05/21 01:46:16 WARN BlockManagerMasterEndpoint: No more replicas available for rdd_75_26 !\n",
      "23/05/21 01:46:48 ERROR TaskSchedulerImpl: Lost executor 14 on node65.cluster.tsc.uc3m.es: Remote RPC client disassociated. Likely due to containers exceeding thresholds, or network issues. Check driver logs for WARN messages.\n",
      "23/05/21 01:46:48 WARN TaskSetManager: Lost task 127.0 in stage 126.0 (TID 2514) (node65.cluster.tsc.uc3m.es executor 14): ExecutorLostFailure (executor 14 exited caused by one of the running tasks) Reason: Remote RPC client disassociated. Likely due to containers exceeding thresholds, or network issues. Check driver logs for WARN messages.\n",
      "23/05/21 01:46:48 WARN TaskSetManager: Lost task 166.0 in stage 126.0 (TID 2484) (node65.cluster.tsc.uc3m.es executor 14): ExecutorLostFailure (executor 14 exited caused by one of the running tasks) Reason: Remote RPC client disassociated. Likely due to containers exceeding thresholds, or network issues. Check driver logs for WARN messages.\n",
      "23/05/21 01:46:48 WARN TaskSetManager: Lost task 167.0 in stage 126.0 (TID 2486) (node65.cluster.tsc.uc3m.es executor 14): ExecutorLostFailure (executor 14 exited caused by one of the running tasks) Reason: Remote RPC client disassociated. Likely due to containers exceeding thresholds, or network issues. Check driver logs for WARN messages.\n",
      "23/05/21 01:46:48 WARN TaskSetManager: Lost task 125.0 in stage 126.0 (TID 2512) (node65.cluster.tsc.uc3m.es executor 14): ExecutorLostFailure (executor 14 exited caused by one of the running tasks) Reason: Remote RPC client disassociated. Likely due to containers exceeding thresholds, or network issues. Check driver logs for WARN messages.\n",
      "23/05/21 01:46:48 WARN BlockManagerMasterEndpoint: No more replicas available for rdd_266_182 !\n",
      "23/05/21 01:46:48 WARN BlockManagerMasterEndpoint: No more replicas available for rdd_266_199 !\n",
      "23/05/21 01:46:48 WARN BlockManagerMasterEndpoint: No more replicas available for rdd_266_65 !\n",
      "23/05/21 01:46:48 WARN BlockManagerMasterEndpoint: No more replicas available for rdd_7_18 !\n",
      "23/05/21 01:46:48 WARN BlockManagerMasterEndpoint: No more replicas available for rdd_75_116 !\n",
      "23/05/21 01:46:48 WARN BlockManagerMasterEndpoint: No more replicas available for rdd_266_95 !\n",
      "23/05/21 01:46:48 WARN BlockManagerMasterEndpoint: No more replicas available for rdd_266_114 !\n",
      "23/05/21 01:46:48 WARN BlockManagerMasterEndpoint: No more replicas available for rdd_266_144 !\n",
      "23/05/21 01:46:48 WARN BlockManagerMasterEndpoint: No more replicas available for rdd_75_166 !\n",
      "23/05/21 01:46:48 WARN BlockManagerMasterEndpoint: No more replicas available for rdd_75_32 !\n",
      "23/05/21 01:46:48 WARN BlockManagerMasterEndpoint: No more replicas available for rdd_75_55 !\n",
      "23/05/21 01:46:48 WARN BlockManagerMasterEndpoint: No more replicas available for rdd_266_10 !\n",
      "23/05/21 01:46:48 WARN BlockManagerMasterEndpoint: No more replicas available for rdd_7_8 !\n",
      "23/05/21 01:46:48 WARN BlockManagerMasterEndpoint: No more replicas available for rdd_266_59 !\n",
      "23/05/21 01:46:48 WARN BlockManagerMasterEndpoint: No more replicas available for rdd_266_140 !\n",
      "23/05/21 01:46:48 WARN BlockManagerMasterEndpoint: No more replicas available for rdd_266_102 !\n",
      "23/05/21 01:46:48 WARN BlockManagerMasterEndpoint: No more replicas available for rdd_75_167 !\n",
      "23/05/21 01:46:48 WARN BlockManagerMasterEndpoint: No more replicas available for rdd_75_115 !\n",
      "23/05/21 01:46:48 WARN BlockManagerMasterEndpoint: No more replicas available for rdd_7_28 !\n",
      "23/05/21 01:46:48 WARN BlockManagerMasterEndpoint: No more replicas available for rdd_266_20 !\n",
      "23/05/21 01:46:48 WARN BlockManagerMasterEndpoint: No more replicas available for rdd_266_193 !\n",
      "23/05/21 01:46:48 WARN BlockManagerMasterEndpoint: No more replicas available for rdd_75_114 !\n",
      "23/05/21 01:46:48 WARN BlockManagerMasterEndpoint: No more replicas available for rdd_75_164 !\n",
      "23/05/21 01:46:48 WARN BlockManagerMasterEndpoint: No more replicas available for rdd_111_17 !\n",
      "23/05/21 01:46:48 WARN BlockManagerMasterEndpoint: No more replicas available for rdd_266_70 !\n",
      "23/05/21 01:46:48 WARN BlockManagerMasterEndpoint: No more replicas available for rdd_266_152 !\n",
      "23/05/21 01:46:48 WARN BlockManagerMasterEndpoint: No more replicas available for rdd_266_0 !\n",
      "23/05/21 01:46:48 WARN BlockManagerMasterEndpoint: No more replicas available for rdd_266_155 !\n",
      "23/05/21 01:46:48 WARN BlockManagerMasterEndpoint: No more replicas available for rdd_332_28 !\n",
      "23/05/21 01:46:48 WARN BlockManagerMasterEndpoint: No more replicas available for rdd_75_117 !\n",
      "23/05/21 01:46:48 WARN BlockManagerMasterEndpoint: No more replicas available for rdd_111_7 !\n",
      "23/05/21 01:46:48 WARN BlockManagerMasterEndpoint: No more replicas available for rdd_111_27 !\n",
      "23/05/21 01:46:48 WARN BlockManagerMasterEndpoint: No more replicas available for rdd_332_18 !\n",
      "23/05/21 01:46:48 WARN BlockManagerMasterEndpoint: No more replicas available for rdd_266_112 !\n",
      "23/05/21 01:46:48 WARN BlockManagerMasterEndpoint: No more replicas available for rdd_266_30 !\n",
      "23/05/21 01:46:48 WARN BlockManagerMasterEndpoint: No more replicas available for rdd_75_154 !\n",
      "23/05/21 01:46:48 WARN BlockManagerMasterEndpoint: No more replicas available for rdd_266_60 !\n",
      "23/05/21 01:46:48 WARN BlockManagerMasterEndpoint: No more replicas available for rdd_75_49 !\n",
      "23/05/21 01:46:48 WARN BlockManagerMasterEndpoint: No more replicas available for rdd_332_8 !\n",
      "23/05/21 01:46:48 WARN BlockManagerMasterEndpoint: No more replicas available for rdd_75_83 !\n",
      "23/05/21 01:46:48 WARN BlockManagerMasterEndpoint: No more replicas available for rdd_75_165 !\n",
      "23/05/21 01:46:48 WARN BlockManagerMasterEndpoint: No more replicas available for rdd_266_186 !\n",
      "                                                                                \r"
     ]
    },
    {
     "name": "stdout",
     "output_type": "stream",
     "text": [
      "Papers with PMID: 35659274\n"
     ]
    },
    {
     "name": "stderr",
     "output_type": "stream",
     "text": [
      "23/05/21 01:50:24 ERROR TaskSchedulerImpl: Lost executor 23 on node30.cluster.tsc.uc3m.es: Remote RPC client disassociated. Likely due to containers exceeding thresholds, or network issues. Check driver logs for WARN messages.\n",
      "23/05/21 01:50:24 WARN TaskSetManager: Lost task 50.0 in stage 133.0 (TID 2715) (node30.cluster.tsc.uc3m.es executor 23): ExecutorLostFailure (executor 23 exited caused by one of the running tasks) Reason: Remote RPC client disassociated. Likely due to containers exceeding thresholds, or network issues. Check driver logs for WARN messages.\n",
      "23/05/21 01:50:24 WARN TaskSetManager: Lost task 117.0 in stage 133.0 (TID 2750) (node30.cluster.tsc.uc3m.es executor 23): ExecutorLostFailure (executor 23 exited caused by one of the running tasks) Reason: Remote RPC client disassociated. Likely due to containers exceeding thresholds, or network issues. Check driver logs for WARN messages.\n",
      "23/05/21 01:50:24 WARN TaskSetManager: Lost task 63.0 in stage 133.0 (TID 2717) (node30.cluster.tsc.uc3m.es executor 23): ExecutorLostFailure (executor 23 exited caused by one of the running tasks) Reason: Remote RPC client disassociated. Likely due to containers exceeding thresholds, or network issues. Check driver logs for WARN messages.\n",
      "23/05/21 01:50:24 WARN TaskSetManager: Lost task 55.0 in stage 133.0 (TID 2716) (node30.cluster.tsc.uc3m.es executor 23): ExecutorLostFailure (executor 23 exited caused by one of the running tasks) Reason: Remote RPC client disassociated. Likely due to containers exceeding thresholds, or network issues. Check driver logs for WARN messages.\n",
      "23/05/21 01:50:24 WARN BlockManagerMasterEndpoint: No more replicas available for rdd_75_21 !\n",
      "23/05/21 01:50:24 WARN BlockManagerMasterEndpoint: No more replicas available for rdd_75_87 !\n",
      "23/05/21 01:50:24 WARN BlockManagerMasterEndpoint: No more replicas available for rdd_75_97 !\n",
      "23/05/21 01:50:24 WARN BlockManagerMasterEndpoint: No more replicas available for rdd_75_149 !\n",
      "23/05/21 01:50:24 WARN BlockManagerMasterEndpoint: No more replicas available for rdd_75_31 !\n",
      "23/05/21 01:50:24 WARN BlockManagerMasterEndpoint: No more replicas available for rdd_75_158 !\n",
      "23/05/21 01:50:24 WARN BlockManagerMasterEndpoint: No more replicas available for rdd_75_98 !\n",
      "23/05/21 01:50:24 WARN BlockManagerMasterEndpoint: No more replicas available for rdd_75_145 !\n",
      "23/05/21 01:50:24 WARN BlockManagerMasterEndpoint: No more replicas available for rdd_75_56 !\n",
      "23/05/21 01:50:24 WARN BlockManagerMasterEndpoint: No more replicas available for rdd_75_51 !\n",
      "23/05/21 01:50:24 WARN BlockManagerMasterEndpoint: No more replicas available for rdd_75_108 !\n",
      "23/05/21 01:50:24 WARN BlockManagerMasterEndpoint: No more replicas available for rdd_75_14 !\n",
      "23/05/21 01:50:24 WARN BlockManagerMasterEndpoint: No more replicas available for rdd_75_65 !\n",
      "23/05/21 01:50:24 WARN BlockManagerMasterEndpoint: No more replicas available for rdd_332_2 !\n",
      "23/05/21 01:50:24 WARN BlockManagerMasterEndpoint: No more replicas available for rdd_332_12 !\n",
      "23/05/21 01:50:24 WARN BlockManagerMasterEndpoint: No more replicas available for rdd_75_1 !\n",
      "23/05/21 01:50:24 WARN BlockManagerMasterEndpoint: No more replicas available for rdd_75_131 !\n",
      "23/05/21 01:50:24 WARN BlockManagerMasterEndpoint: No more replicas available for rdd_332_22 !\n",
      "23/05/21 01:50:24 WARN BlockManagerMasterEndpoint: No more replicas available for rdd_75_74 !\n",
      "23/05/21 01:50:28 ERROR TaskSchedulerImpl: Lost executor 24 on node35.cluster.tsc.uc3m.es: Remote RPC client disassociated. Likely due to containers exceeding thresholds, or network issues. Check driver logs for WARN messages.\n",
      "23/05/21 01:50:28 WARN TaskSetManager: Lost task 73.0 in stage 133.0 (TID 2730) (node35.cluster.tsc.uc3m.es executor 24): ExecutorLostFailure (executor 24 exited caused by one of the running tasks) Reason: Remote RPC client disassociated. Likely due to containers exceeding thresholds, or network issues. Check driver logs for WARN messages.\n",
      "23/05/21 01:50:28 WARN TaskSetManager: Lost task 38.0 in stage 133.0 (TID 2706) (node35.cluster.tsc.uc3m.es executor 24): ExecutorLostFailure (executor 24 exited caused by one of the running tasks) Reason: Remote RPC client disassociated. Likely due to containers exceeding thresholds, or network issues. Check driver logs for WARN messages.\n",
      "23/05/21 01:50:28 WARN TaskSetManager: Lost task 49.0 in stage 133.0 (TID 2711) (node35.cluster.tsc.uc3m.es executor 24): ExecutorLostFailure (executor 24 exited caused by one of the running tasks) Reason: Remote RPC client disassociated. Likely due to containers exceeding thresholds, or network issues. Check driver logs for WARN messages.\n",
      "23/05/21 01:50:28 WARN TaskSetManager: Lost task 47.0 in stage 133.0 (TID 2709) (node35.cluster.tsc.uc3m.es executor 24): ExecutorLostFailure (executor 24 exited caused by one of the running tasks) Reason: Remote RPC client disassociated. Likely due to containers exceeding thresholds, or network issues. Check driver logs for WARN messages.\n",
      "23/05/21 01:50:28 WARN BlockManagerMasterEndpoint: No more replicas available for rdd_332_11 !\n",
      "23/05/21 01:50:28 WARN BlockManagerMasterEndpoint: No more replicas available for rdd_75_127 !\n",
      "23/05/21 01:50:28 WARN BlockManagerMasterEndpoint: No more replicas available for rdd_75_174 !\n",
      "23/05/21 01:50:28 WARN BlockManagerMasterEndpoint: No more replicas available for rdd_75_93 !\n",
      "23/05/21 01:50:28 WARN BlockManagerMasterEndpoint: No more replicas available for rdd_75_23 !\n",
      "23/05/21 01:50:28 WARN BlockManagerMasterEndpoint: No more replicas available for rdd_332_21 !\n",
      "23/05/21 01:50:28 WARN BlockManagerMasterEndpoint: No more replicas available for rdd_75_171 !\n",
      "23/05/21 01:50:28 WARN BlockManagerMasterEndpoint: No more replicas available for rdd_75_88 !\n",
      "23/05/21 01:50:28 WARN BlockManagerMasterEndpoint: No more replicas available for rdd_75_188 !\n",
      "23/05/21 01:50:28 WARN BlockManagerMasterEndpoint: No more replicas available for rdd_75_167 !\n",
      "23/05/21 01:50:28 WARN BlockManagerMasterEndpoint: No more replicas available for rdd_75_33 !\n",
      "23/05/21 01:50:28 WARN BlockManagerMasterEndpoint: No more replicas available for rdd_75_67 !\n",
      "23/05/21 01:50:28 WARN BlockManagerMasterEndpoint: No more replicas available for rdd_75_86 !\n",
      "23/05/21 01:50:28 WARN BlockManagerMasterEndpoint: No more replicas available for rdd_75_173 !\n",
      "23/05/21 01:50:28 WARN BlockManagerMasterEndpoint: No more replicas available for rdd_75_68 !\n",
      "23/05/21 01:50:28 WARN BlockManagerMasterEndpoint: No more replicas available for rdd_75_147 !\n",
      "23/05/21 01:50:28 WARN BlockManagerMasterEndpoint: No more replicas available for rdd_75_58 !\n",
      "23/05/21 01:50:28 WARN BlockManagerMasterEndpoint: No more replicas available for rdd_75_15 !\n",
      "23/05/21 01:50:28 WARN BlockManagerMasterEndpoint: No more replicas available for rdd_75_129 !\n",
      "23/05/21 01:50:28 WARN BlockManagerMasterEndpoint: No more replicas available for rdd_75_5 !\n",
      "23/05/21 01:50:28 WARN BlockManagerMasterEndpoint: No more replicas available for rdd_75_101 !\n",
      "23/05/21 01:50:28 WARN BlockManagerMasterEndpoint: No more replicas available for rdd_332_1 !\n",
      "23/05/21 01:50:28 WARN BlockManagerMasterEndpoint: No more replicas available for rdd_75_138 !\n",
      "23/05/21 01:50:28 WARN BlockManagerMasterEndpoint: No more replicas available for rdd_75_69 !\n",
      "23/05/21 01:50:34 ERROR TaskSchedulerImpl: Lost executor 21 on node17.cluster.tsc.uc3m.es: Remote RPC client disassociated. Likely due to containers exceeding thresholds, or network issues. Check driver logs for WARN messages.\n",
      "23/05/21 01:50:34 WARN TaskSetManager: Lost task 71.0 in stage 133.0 (TID 2729) (node17.cluster.tsc.uc3m.es executor 21): ExecutorLostFailure (executor 21 exited caused by one of the running tasks) Reason: Remote RPC client disassociated. Likely due to containers exceeding thresholds, or network issues. Check driver logs for WARN messages.\n",
      "23/05/21 01:50:34 WARN TaskSetManager: Lost task 114.0 in stage 133.0 (TID 2747) (node17.cluster.tsc.uc3m.es executor 21): ExecutorLostFailure (executor 21 exited caused by one of the running tasks) Reason: Remote RPC client disassociated. Likely due to containers exceeding thresholds, or network issues. Check driver logs for WARN messages.\n",
      "23/05/21 01:50:34 WARN TaskSetManager: Lost task 70.0 in stage 133.0 (TID 2728) (node17.cluster.tsc.uc3m.es executor 21): ExecutorLostFailure (executor 21 exited caused by one of the running tasks) Reason: Remote RPC client disassociated. Likely due to containers exceeding thresholds, or network issues. Check driver logs for WARN messages.\n",
      "23/05/21 01:50:34 WARN TaskSetManager: Lost task 116.0 in stage 133.0 (TID 2749) (node17.cluster.tsc.uc3m.es executor 21): ExecutorLostFailure (executor 21 exited caused by one of the running tasks) Reason: Remote RPC client disassociated. Likely due to containers exceeding thresholds, or network issues. Check driver logs for WARN messages.\n",
      "23/05/21 01:50:34 WARN BlockManagerMasterEndpoint: No more replicas available for rdd_75_37 !\n",
      "23/05/21 01:50:34 WARN BlockManagerMasterEndpoint: No more replicas available for rdd_75_132 !\n",
      "23/05/21 01:50:34 WARN BlockManagerMasterEndpoint: No more replicas available for rdd_75_29 !\n",
      "23/05/21 01:50:34 WARN BlockManagerMasterEndpoint: No more replicas available for rdd_75_72 !\n",
      "23/05/21 01:50:34 WARN BlockManagerMasterEndpoint: No more replicas available for rdd_75_81 !\n",
      "23/05/21 01:50:34 WARN BlockManagerMasterEndpoint: No more replicas available for rdd_75_133 !\n",
      "23/05/21 01:50:34 WARN BlockManagerMasterEndpoint: No more replicas available for rdd_75_183 !\n",
      "23/05/21 01:50:34 WARN BlockManagerMasterEndpoint: No more replicas available for rdd_75_48 !\n",
      "23/05/21 01:50:34 WARN BlockManagerMasterEndpoint: No more replicas available for rdd_75_11 !\n",
      "23/05/21 01:50:34 WARN BlockManagerMasterEndpoint: No more replicas available for rdd_332_23 !\n",
      "23/05/21 01:50:34 WARN BlockManagerMasterEndpoint: No more replicas available for rdd_75_175 !\n",
      "23/05/21 01:50:34 WARN BlockManagerMasterEndpoint: No more replicas available for rdd_75_176 !\n",
      "23/05/21 01:50:34 WARN BlockManagerMasterEndpoint: No more replicas available for rdd_75_124 !\n",
      "23/05/21 01:50:34 WARN BlockManagerMasterEndpoint: No more replicas available for rdd_75_46 !\n",
      "23/05/21 01:50:34 WARN BlockManagerMasterEndpoint: No more replicas available for rdd_75_42 !\n",
      "23/05/21 01:50:34 WARN BlockManagerMasterEndpoint: No more replicas available for rdd_75_169 !\n",
      "23/05/21 01:50:34 WARN BlockManagerMasterEndpoint: No more replicas available for rdd_75_18 !\n",
      "23/05/21 01:50:34 WARN BlockManagerMasterEndpoint: No more replicas available for rdd_75_99 !\n",
      "23/05/21 01:50:34 WARN BlockManagerMasterEndpoint: No more replicas available for rdd_75_118 !\n",
      "23/05/21 01:50:34 WARN BlockManagerMasterEndpoint: No more replicas available for rdd_75_195 !\n",
      "23/05/21 01:50:34 WARN BlockManagerMasterEndpoint: No more replicas available for rdd_75_78 !\n",
      "23/05/21 01:50:34 WARN BlockManagerMasterEndpoint: No more replicas available for rdd_75_198 !\n",
      "23/05/21 01:50:34 WARN BlockManagerMasterEndpoint: No more replicas available for rdd_332_13 !\n",
      "23/05/21 01:50:34 WARN BlockManagerMasterEndpoint: No more replicas available for rdd_75_54 !\n",
      "23/05/21 01:50:34 WARN BlockManagerMasterEndpoint: No more replicas available for rdd_332_3 !\n",
      "23/05/21 01:50:36 ERROR TaskSchedulerImpl: Lost executor 20 on node06.cluster.tsc.uc3m.es: Remote RPC client disassociated. Likely due to containers exceeding thresholds, or network issues. Check driver logs for WARN messages.\n",
      "23/05/21 01:50:36 WARN TaskSetManager: Lost task 90.0 in stage 133.0 (TID 2744) (node06.cluster.tsc.uc3m.es executor 20): ExecutorLostFailure (executor 20 exited caused by one of the running tasks) Reason: Remote RPC client disassociated. Likely due to containers exceeding thresholds, or network issues. Check driver logs for WARN messages.\n",
      "23/05/21 01:50:36 WARN TaskSetManager: Lost task 110.0 in stage 133.0 (TID 2746) (node06.cluster.tsc.uc3m.es executor 20): ExecutorLostFailure (executor 20 exited caused by one of the running tasks) Reason: Remote RPC client disassociated. Likely due to containers exceeding thresholds, or network issues. Check driver logs for WARN messages.\n",
      "23/05/21 01:50:36 WARN TaskSetManager: Lost task 119.0 in stage 133.0 (TID 2751) (node06.cluster.tsc.uc3m.es executor 20): ExecutorLostFailure (executor 20 exited caused by one of the running tasks) Reason: Remote RPC client disassociated. Likely due to containers exceeding thresholds, or network issues. Check driver logs for WARN messages.\n",
      "23/05/21 01:50:36 WARN TaskSetManager: Lost task 105.0 in stage 133.0 (TID 2745) (node06.cluster.tsc.uc3m.es executor 20): ExecutorLostFailure (executor 20 exited caused by one of the running tasks) Reason: Remote RPC client disassociated. Likely due to containers exceeding thresholds, or network issues. Check driver logs for WARN messages.\n",
      "23/05/21 01:50:36 WARN BlockManagerMasterEndpoint: No more replicas available for rdd_266_35 !\n",
      "23/05/21 01:50:36 WARN BlockManagerMasterEndpoint: No more replicas available for rdd_332_14 !\n",
      "23/05/21 01:50:36 WARN BlockManagerMasterEndpoint: No more replicas available for rdd_75_75 !\n",
      "23/05/21 01:50:36 WARN BlockManagerMasterEndpoint: No more replicas available for rdd_266_119 !\n",
      "23/05/21 01:50:36 WARN BlockManagerMasterEndpoint: No more replicas available for rdd_75_139 !\n",
      "23/05/21 01:50:36 WARN BlockManagerMasterEndpoint: No more replicas available for rdd_111_13 !\n",
      "23/05/21 01:50:36 WARN BlockManagerMasterEndpoint: No more replicas available for rdd_75_190 !\n",
      "23/05/21 01:50:36 WARN BlockManagerMasterEndpoint: No more replicas available for rdd_332_24 !\n",
      "23/05/21 01:50:36 WARN BlockManagerMasterEndpoint: No more replicas available for rdd_266_5 !\n",
      "23/05/21 01:50:36 WARN BlockManagerMasterEndpoint: No more replicas available for rdd_75_44 !\n",
      "23/05/21 01:50:36 WARN BlockManagerMasterEndpoint: No more replicas available for rdd_266_126 !\n",
      "23/05/21 01:50:36 WARN BlockManagerMasterEndpoint: No more replicas available for rdd_111_23 !\n",
      "23/05/21 01:50:36 WARN BlockManagerMasterEndpoint: No more replicas available for rdd_75_125 !\n",
      "23/05/21 01:50:36 WARN BlockManagerMasterEndpoint: No more replicas available for rdd_75_191 !\n",
      "23/05/21 01:50:36 WARN BlockManagerMasterEndpoint: No more replicas available for rdd_332_4 !\n",
      "23/05/21 01:50:36 WARN BlockManagerMasterEndpoint: No more replicas available for rdd_7_2 !\n",
      "23/05/21 01:50:36 WARN BlockManagerMasterEndpoint: No more replicas available for rdd_266_79 !\n",
      "23/05/21 01:50:36 WARN BlockManagerMasterEndpoint: No more replicas available for rdd_75_39 !\n",
      "23/05/21 01:50:36 WARN BlockManagerMasterEndpoint: No more replicas available for rdd_75_43 !\n",
      "23/05/21 01:50:36 WARN BlockManagerMasterEndpoint: No more replicas available for rdd_75_144 !\n",
      "23/05/21 01:50:36 WARN BlockManagerMasterEndpoint: No more replicas available for rdd_266_196 !\n",
      "23/05/21 01:50:36 WARN BlockManagerMasterEndpoint: No more replicas available for rdd_266_122 !\n",
      "23/05/21 01:50:36 WARN BlockManagerMasterEndpoint: No more replicas available for rdd_266_176 !\n",
      "23/05/21 01:50:36 WARN BlockManagerMasterEndpoint: No more replicas available for rdd_75_146 !\n",
      "23/05/21 01:50:36 WARN BlockManagerMasterEndpoint: No more replicas available for rdd_75_185 !\n",
      "23/05/21 01:50:36 WARN BlockManagerMasterEndpoint: No more replicas available for rdd_75_53 !\n",
      "23/05/21 01:50:36 WARN BlockManagerMasterEndpoint: No more replicas available for rdd_266_15 !\n",
      "23/05/21 01:50:36 WARN BlockManagerMasterEndpoint: No more replicas available for rdd_75_13 !\n",
      "23/05/21 01:50:36 WARN BlockManagerMasterEndpoint: No more replicas available for rdd_266_113 !\n",
      "23/05/21 01:50:36 WARN BlockManagerMasterEndpoint: No more replicas available for rdd_75_52 !\n",
      "23/05/21 01:50:36 WARN BlockManagerMasterEndpoint: No more replicas available for rdd_75_103 !\n",
      "23/05/21 01:50:36 WARN BlockManagerMasterEndpoint: No more replicas available for rdd_266_77 !\n",
      "23/05/21 01:50:36 WARN BlockManagerMasterEndpoint: No more replicas available for rdd_7_12 !\n",
      "23/05/21 01:50:36 WARN BlockManagerMasterEndpoint: No more replicas available for rdd_75_91 !\n",
      "23/05/21 01:50:36 WARN BlockManagerMasterEndpoint: No more replicas available for rdd_75_107 !\n",
      "23/05/21 01:50:36 WARN BlockManagerMasterEndpoint: No more replicas available for rdd_111_3 !\n",
      "23/05/21 01:50:36 WARN BlockManagerMasterEndpoint: No more replicas available for rdd_266_153 !\n",
      "23/05/21 01:50:36 WARN BlockManagerMasterEndpoint: No more replicas available for rdd_75_19 !\n",
      "23/05/21 01:50:36 WARN BlockManagerMasterEndpoint: No more replicas available for rdd_75_163 !\n",
      "23/05/21 01:50:36 WARN BlockManagerMasterEndpoint: No more replicas available for rdd_266_25 !\n",
      "23/05/21 01:50:36 WARN BlockManagerMasterEndpoint: No more replicas available for rdd_75_30 !\n",
      "23/05/21 01:50:36 WARN BlockManagerMasterEndpoint: No more replicas available for rdd_7_0 !\n",
      "23/05/21 01:50:36 WARN BlockManagerMasterEndpoint: No more replicas available for rdd_7_22 !\n",
      "23/05/21 01:50:36 WARN BlockManagerMasterEndpoint: No more replicas available for rdd_266_172 !\n",
      "23/05/21 01:50:36 WARN BlockManagerMasterEndpoint: No more replicas available for rdd_266_73 !\n",
      "23/05/21 01:50:36 WARN BlockManagerMasterEndpoint: No more replicas available for rdd_266_78 !\n",
      "23/05/21 01:50:36 WARN BlockManagerMasterEndpoint: No more replicas available for rdd_266_174 !\n",
      "23/05/21 01:50:48 ERROR TaskSchedulerImpl: Lost executor 22 on node71.cluster.tsc.uc3m.es: Remote RPC client disassociated. Likely due to containers exceeding thresholds, or network issues. Check driver logs for WARN messages.\n",
      "23/05/21 01:50:48 WARN TaskSetManager: Lost task 115.0 in stage 133.0 (TID 2748) (node71.cluster.tsc.uc3m.es executor 22): ExecutorLostFailure (executor 22 exited caused by one of the running tasks) Reason: Remote RPC client disassociated. Likely due to containers exceeding thresholds, or network issues. Check driver logs for WARN messages.\n",
      "23/05/21 01:50:48 WARN TaskSetManager: Lost task 83.0 in stage 133.0 (TID 2733) (node71.cluster.tsc.uc3m.es executor 22): ExecutorLostFailure (executor 22 exited caused by one of the running tasks) Reason: Remote RPC client disassociated. Likely due to containers exceeding thresholds, or network issues. Check driver logs for WARN messages.\n",
      "23/05/21 01:50:48 WARN TaskSetManager: Lost task 89.0 in stage 133.0 (TID 2735) (node71.cluster.tsc.uc3m.es executor 22): ExecutorLostFailure (executor 22 exited caused by one of the running tasks) Reason: Remote RPC client disassociated. Likely due to containers exceeding thresholds, or network issues. Check driver logs for WARN messages.\n",
      "23/05/21 01:50:48 WARN TaskSetManager: Lost task 84.0 in stage 133.0 (TID 2734) (node71.cluster.tsc.uc3m.es executor 22): ExecutorLostFailure (executor 22 exited caused by one of the running tasks) Reason: Remote RPC client disassociated. Likely due to containers exceeding thresholds, or network issues. Check driver logs for WARN messages.\n",
      "23/05/21 01:50:48 WARN BlockManagerMasterEndpoint: No more replicas available for rdd_75_95 !\n",
      "23/05/21 01:50:48 WARN BlockManagerMasterEndpoint: No more replicas available for rdd_75_45 !\n",
      "23/05/21 01:50:48 WARN BlockManagerMasterEndpoint: No more replicas available for rdd_75_36 !\n",
      "23/05/21 01:50:48 WARN BlockManagerMasterEndpoint: No more replicas available for rdd_75_94 !\n",
      "23/05/21 01:50:48 WARN BlockManagerMasterEndpoint: No more replicas available for rdd_75_64 !\n",
      "23/05/21 01:50:48 WARN BlockManagerMasterEndpoint: No more replicas available for rdd_75_140 !\n",
      "23/05/21 01:50:48 WARN BlockManagerMasterEndpoint: No more replicas available for rdd_75_162 !\n",
      "23/05/21 01:50:48 WARN BlockManagerMasterEndpoint: No more replicas available for rdd_75_10 !\n",
      "23/05/21 01:50:48 WARN BlockManagerMasterEndpoint: No more replicas available for rdd_75_187 !\n",
      "23/05/21 01:50:48 WARN BlockManagerMasterEndpoint: No more replicas available for rdd_75_80 !\n",
      "23/05/21 01:50:48 WARN BlockManagerMasterEndpoint: No more replicas available for rdd_75_143 !\n",
      "23/05/21 01:50:48 WARN BlockManagerMasterEndpoint: No more replicas available for rdd_75_141 !\n",
      "23/05/21 01:50:48 WARN BlockManagerMasterEndpoint: No more replicas available for rdd_75_17 !\n",
      "23/05/21 01:50:48 WARN BlockManagerMasterEndpoint: No more replicas available for rdd_75_66 !\n",
      "23/05/21 01:50:48 WARN BlockManagerMasterEndpoint: No more replicas available for rdd_75_25 !\n",
      "23/05/21 01:50:48 WARN BlockManagerMasterEndpoint: No more replicas available for rdd_75_41 !\n",
      "23/05/21 01:50:48 WARN BlockManagerMasterEndpoint: No more replicas available for rdd_332_27 !\n",
      "23/05/21 01:50:48 WARN BlockManagerMasterEndpoint: No more replicas available for rdd_75_77 !\n",
      "23/05/21 01:50:48 WARN BlockManagerMasterEndpoint: No more replicas available for rdd_332_17 !\n",
      "23/05/21 01:50:48 WARN BlockManagerMasterEndpoint: No more replicas available for rdd_75_194 !\n",
      "23/05/21 01:50:48 WARN BlockManagerMasterEndpoint: No more replicas available for rdd_332_7 !\n",
      "23/05/21 01:50:48 WARN BlockManagerMasterEndpoint: No more replicas available for rdd_75_104 !\n",
      "23/05/21 01:50:48 WARN BlockManagerMasterEndpoint: No more replicas available for rdd_75_128 !\n",
      "23/05/21 01:50:57 ERROR TaskSchedulerImpl: Lost executor 25 on node13.cluster.tsc.uc3m.es: Remote RPC client disassociated. Likely due to containers exceeding thresholds, or network issues. Check driver logs for WARN messages.\n",
      "23/05/21 01:50:57 WARN TaskSetManager: Lost task 119.1 in stage 133.0 (TID 2768) (node13.cluster.tsc.uc3m.es executor 25): ExecutorLostFailure (executor 25 exited caused by one of the running tasks) Reason: Remote RPC client disassociated. Likely due to containers exceeding thresholds, or network issues. Check driver logs for WARN messages.\n",
      "23/05/21 01:50:57 WARN TaskSetManager: Lost task 105.1 in stage 133.0 (TID 2767) (node13.cluster.tsc.uc3m.es executor 25): ExecutorLostFailure (executor 25 exited caused by one of the running tasks) Reason: Remote RPC client disassociated. Likely due to containers exceeding thresholds, or network issues. Check driver logs for WARN messages.\n",
      "23/05/21 01:50:57 WARN TaskSetManager: Lost task 90.1 in stage 133.0 (TID 2770) (node13.cluster.tsc.uc3m.es executor 25): ExecutorLostFailure (executor 25 exited caused by one of the running tasks) Reason: Remote RPC client disassociated. Likely due to containers exceeding thresholds, or network issues. Check driver logs for WARN messages.\n",
      "23/05/21 01:50:57 WARN TaskSetManager: Lost task 110.1 in stage 133.0 (TID 2769) (node13.cluster.tsc.uc3m.es executor 25): ExecutorLostFailure (executor 25 exited caused by one of the running tasks) Reason: Remote RPC client disassociated. Likely due to containers exceeding thresholds, or network issues. Check driver logs for WARN messages.\n",
      "23/05/21 01:50:57 WARN BlockManagerMasterEndpoint: No more replicas available for rdd_75_126 !\n",
      "23/05/21 01:50:57 WARN BlockManagerMasterEndpoint: No more replicas available for rdd_75_130 !\n",
      "23/05/21 01:50:57 WARN BlockManagerMasterEndpoint: No more replicas available for rdd_75_196 !\n",
      "23/05/21 01:50:57 WARN BlockManagerMasterEndpoint: No more replicas available for rdd_75_150 !\n",
      "23/05/21 01:50:57 WARN BlockManagerMasterEndpoint: No more replicas available for rdd_75_40 !\n",
      "23/05/21 01:50:57 WARN BlockManagerMasterEndpoint: No more replicas available for rdd_75_166 !\n",
      "23/05/21 01:50:57 WARN BlockManagerMasterEndpoint: No more replicas available for rdd_75_79 !\n",
      "23/05/21 01:50:57 WARN BlockManagerMasterEndpoint: No more replicas available for rdd_332_6 !\n",
      "23/05/21 01:50:57 WARN BlockManagerMasterEndpoint: No more replicas available for rdd_75_96 !\n",
      "23/05/21 01:50:57 WARN BlockManagerMasterEndpoint: No more replicas available for rdd_75_159 !\n",
      "23/05/21 01:50:57 WARN BlockManagerMasterEndpoint: No more replicas available for rdd_332_26 !\n",
      "23/05/21 01:50:57 WARN BlockManagerMasterEndpoint: No more replicas available for rdd_75_92 !\n",
      "23/05/21 01:50:57 WARN BlockManagerMasterEndpoint: No more replicas available for rdd_332_16 !\n",
      "23/05/21 01:50:57 WARN BlockManagerMasterEndpoint: No more replicas available for rdd_75_16 !\n",
      "23/05/21 01:50:57 WARN BlockManagerMasterEndpoint: No more replicas available for rdd_75_189 !\n",
      "23/05/21 01:50:57 WARN BlockManagerMasterEndpoint: No more replicas available for rdd_75_57 !\n",
      "23/05/21 01:50:57 WARN BlockManagerMasterEndpoint: No more replicas available for rdd_75_85 !\n",
      "23/05/21 01:50:57 WARN BlockManagerMasterEndpoint: No more replicas available for rdd_75_151 !\n",
      "23/05/21 01:50:57 WARN BlockManagerMasterEndpoint: No more replicas available for rdd_75_24 !\n",
      "23/05/21 01:50:57 WARN BlockManagerMasterEndpoint: No more replicas available for rdd_75_35 !\n",
      "23/05/21 01:50:57 WARN BlockManagerMasterEndpoint: No more replicas available for rdd_75_9 !\n",
      "23/05/21 01:50:57 WARN BlockManagerMasterEndpoint: No more replicas available for rdd_75_160 !\n",
      "23/05/21 01:52:03 ERROR TaskSchedulerImpl: Lost executor 26 on node70.cluster.tsc.uc3m.es: Remote RPC client disassociated. Likely due to containers exceeding thresholds, or network issues. Check driver logs for WARN messages.\n",
      "23/05/21 01:52:03 WARN TaskSetManager: Lost task 184.0 in stage 133.0 (TID 2802) (node70.cluster.tsc.uc3m.es executor 26): ExecutorLostFailure (executor 26 exited caused by one of the running tasks) Reason: Remote RPC client disassociated. Likely due to containers exceeding thresholds, or network issues. Check driver logs for WARN messages.\n",
      "23/05/21 01:52:03 WARN TaskSetManager: Lost task 121.0 in stage 133.0 (TID 2792) (node70.cluster.tsc.uc3m.es executor 26): ExecutorLostFailure (executor 26 exited caused by one of the running tasks) Reason: Remote RPC client disassociated. Likely due to containers exceeding thresholds, or network issues. Check driver logs for WARN messages.\n",
      "23/05/21 01:52:03 WARN TaskSetManager: Lost task 165.0 in stage 133.0 (TID 2801) (node70.cluster.tsc.uc3m.es executor 26): ExecutorLostFailure (executor 26 exited caused by one of the running tasks) Reason: Remote RPC client disassociated. Likely due to containers exceeding thresholds, or network issues. Check driver logs for WARN messages.\n",
      "23/05/21 01:52:03 WARN TaskSetManager: Lost task 153.0 in stage 133.0 (TID 2795) (node70.cluster.tsc.uc3m.es executor 26): ExecutorLostFailure (executor 26 exited caused by one of the running tasks) Reason: Remote RPC client disassociated. Likely due to containers exceeding thresholds, or network issues. Check driver logs for WARN messages.\n",
      "23/05/21 01:52:03 WARN BlockManagerMasterEndpoint: No more replicas available for rdd_75_76 !\n",
      "23/05/21 01:52:03 WARN BlockManagerMasterEndpoint: No more replicas available for rdd_75_60 !\n",
      "23/05/21 01:52:03 WARN BlockManagerMasterEndpoint: No more replicas available for rdd_75_102 !\n",
      "23/05/21 01:52:03 WARN BlockManagerMasterEndpoint: No more replicas available for rdd_75_34 !\n",
      "23/05/21 01:52:03 WARN BlockManagerMasterEndpoint: No more replicas available for rdd_75_106 !\n",
      "23/05/21 01:52:03 WARN BlockManagerMasterEndpoint: No more replicas available for rdd_75_142 !\n",
      "23/05/21 01:52:03 WARN BlockManagerMasterEndpoint: No more replicas available for rdd_75_186 !\n",
      "23/05/21 01:52:03 WARN BlockManagerMasterEndpoint: No more replicas available for rdd_75_28 !\n",
      "23/05/21 01:52:03 WARN BlockManagerMasterEndpoint: No more replicas available for rdd_75_100 !\n",
      "23/05/21 01:52:03 WARN BlockManagerMasterEndpoint: No more replicas available for rdd_75_197 !\n",
      "23/05/21 01:52:03 WARN BlockManagerMasterEndpoint: No more replicas available for rdd_75_199 !\n",
      "23/05/21 01:52:03 WARN BlockManagerMasterEndpoint: No more replicas available for rdd_75_161 !\n",
      "23/05/21 01:52:03 WARN BlockManagerMasterEndpoint: No more replicas available for rdd_75_32 !\n",
      "23/05/21 01:52:03 WARN BlockManagerMasterEndpoint: No more replicas available for rdd_75_59 !\n",
      "23/05/21 01:52:03 WARN BlockManagerMasterEndpoint: No more replicas available for rdd_75_152 !\n",
      "23/05/21 01:52:03 WARN BlockManagerMasterEndpoint: No more replicas available for rdd_75_123 !\n",
      "23/05/21 01:52:03 WARN BlockManagerMasterEndpoint: No more replicas available for rdd_75_172 !\n",
      "23/05/21 01:52:03 WARN BlockManagerMasterEndpoint: No more replicas available for rdd_75_61 !\n",
      "23/05/21 01:52:03 WARN BlockManagerMasterEndpoint: No more replicas available for rdd_75_82 !\n",
      "23/05/21 01:52:03 WARN BlockManagerMasterEndpoint: No more replicas available for rdd_75_62 !\n",
      "                                                                                \r"
     ]
    },
    {
     "name": "stdout",
     "output_type": "stream",
     "text": [
      "Papers with DOI: 117413426\n"
     ]
    },
    {
     "name": "stderr",
     "output_type": "stream",
     "text": [
      "23/05/21 01:56:14 ERROR TaskSchedulerImpl: Lost executor 29 on node07.cluster.tsc.uc3m.es: Remote RPC client disassociated. Likely due to containers exceeding thresholds, or network issues. Check driver logs for WARN messages.\n",
      "23/05/21 01:56:14 WARN TaskSetManager: Lost task 80.0 in stage 140.0 (TID 2930) (node07.cluster.tsc.uc3m.es executor 29): ExecutorLostFailure (executor 29 exited caused by one of the running tasks) Reason: Remote RPC client disassociated. Likely due to containers exceeding thresholds, or network issues. Check driver logs for WARN messages.\n",
      "23/05/21 01:56:14 WARN TaskSetManager: Lost task 96.0 in stage 140.0 (TID 2942) (node07.cluster.tsc.uc3m.es executor 29): ExecutorLostFailure (executor 29 exited caused by one of the running tasks) Reason: Remote RPC client disassociated. Likely due to containers exceeding thresholds, or network issues. Check driver logs for WARN messages.\n",
      "23/05/21 01:56:14 WARN TaskSetManager: Lost task 98.0 in stage 140.0 (TID 2944) (node07.cluster.tsc.uc3m.es executor 29): ExecutorLostFailure (executor 29 exited caused by one of the running tasks) Reason: Remote RPC client disassociated. Likely due to containers exceeding thresholds, or network issues. Check driver logs for WARN messages.\n",
      "23/05/21 01:56:14 WARN TaskSetManager: Lost task 97.0 in stage 140.0 (TID 2943) (node07.cluster.tsc.uc3m.es executor 29): ExecutorLostFailure (executor 29 exited caused by one of the running tasks) Reason: Remote RPC client disassociated. Likely due to containers exceeding thresholds, or network issues. Check driver logs for WARN messages.\n",
      "23/05/21 01:56:14 WARN BlockManagerMasterEndpoint: No more replicas available for rdd_75_164 !\n",
      "23/05/21 01:56:14 WARN BlockManagerMasterEndpoint: No more replicas available for rdd_75_181 !\n",
      "23/05/21 01:56:14 WARN BlockManagerMasterEndpoint: No more replicas available for rdd_75_37 !\n",
      "23/05/21 01:56:14 WARN BlockManagerMasterEndpoint: No more replicas available for rdd_75_178 !\n",
      "23/05/21 01:56:14 WARN BlockManagerMasterEndpoint: No more replicas available for rdd_75_36 !\n",
      "23/05/21 01:56:14 WARN BlockManagerMasterEndpoint: No more replicas available for rdd_75_40 !\n",
      "23/05/21 01:56:14 WARN BlockManagerMasterEndpoint: No more replicas available for rdd_75_8 !\n",
      "23/05/21 01:56:14 WARN BlockManagerMasterEndpoint: No more replicas available for rdd_75_180 !\n",
      "23/05/21 01:56:14 WARN BlockManagerMasterEndpoint: No more replicas available for rdd_75_148 !\n",
      "23/05/21 01:56:14 WARN BlockManagerMasterEndpoint: No more replicas available for rdd_75_122 !\n",
      "23/05/21 01:56:14 WARN BlockManagerMasterEndpoint: No more replicas available for rdd_75_154 !\n",
      "23/05/21 01:56:14 WARN BlockManagerMasterEndpoint: No more replicas available for rdd_75_12 !\n",
      "23/05/21 01:56:14 WARN BlockManagerMasterEndpoint: No more replicas available for rdd_75_6 !\n",
      "23/05/21 01:56:14 WARN BlockManagerMasterEndpoint: No more replicas available for rdd_75_7 !\n",
      "23/05/21 01:56:14 WARN BlockManagerMasterEndpoint: No more replicas available for rdd_75_39 !\n",
      "23/05/21 01:56:14 WARN BlockManagerMasterEndpoint: No more replicas available for rdd_75_179 !\n",
      "23/05/21 01:56:24 ERROR TaskSchedulerImpl: Lost executor 34 on node50.cluster.tsc.uc3m.es: Executor finished with state FAILED\n",
      "23/05/21 01:56:24 WARN TaskSetManager: Lost task 80.1 in stage 140.0 (TID 2954) (node50.cluster.tsc.uc3m.es executor 34): ExecutorLostFailure (executor 34 exited caused by one of the running tasks) Reason: Executor finished with state FAILED\n",
      "23/05/21 01:56:24 WARN TaskSetManager: Lost task 97.1 in stage 140.0 (TID 2951) (node50.cluster.tsc.uc3m.es executor 34): ExecutorLostFailure (executor 34 exited caused by one of the running tasks) Reason: Executor finished with state FAILED\n",
      "23/05/21 01:56:24 WARN TaskSetManager: Lost task 96.1 in stage 140.0 (TID 2953) (node50.cluster.tsc.uc3m.es executor 34): ExecutorLostFailure (executor 34 exited caused by one of the running tasks) Reason: Executor finished with state FAILED\n",
      "23/05/21 01:56:24 WARN TaskSetManager: Lost task 98.1 in stage 140.0 (TID 2952) (node50.cluster.tsc.uc3m.es executor 34): ExecutorLostFailure (executor 34 exited caused by one of the running tasks) Reason: Executor finished with state FAILED\n",
      "23/05/21 01:56:24 WARN BlockManagerMasterEndpoint: No more replicas available for rdd_75_68 !\n",
      "23/05/21 01:56:24 WARN BlockManagerMasterEndpoint: No more replicas available for rdd_75_21 !\n",
      "23/05/21 01:56:24 WARN BlockManagerMasterEndpoint: No more replicas available for rdd_75_75 !\n",
      "23/05/21 01:56:24 WARN BlockManagerMasterEndpoint: No more replicas available for rdd_75_105 !\n",
      "23/05/21 01:56:24 WARN BlockManagerMasterEndpoint: No more replicas available for rdd_75_66 !\n",
      "23/05/21 01:56:24 WARN BlockManagerMasterEndpoint: No more replicas available for rdd_75_29 !\n",
      "23/05/21 01:56:24 WARN BlockManagerMasterEndpoint: No more replicas available for rdd_75_90 !\n",
      "23/05/21 01:56:24 WARN BlockManagerMasterEndpoint: No more replicas available for rdd_75_28 !\n",
      "23/05/21 01:56:24 WARN BlockManagerMasterEndpoint: No more replicas available for rdd_75_52 !\n",
      "23/05/21 01:56:24 WARN BlockManagerMasterEndpoint: No more replicas available for rdd_75_65 !\n",
      "23/05/21 01:56:24 WARN BlockManagerMasterEndpoint: No more replicas available for rdd_75_119 !\n",
      "23/05/21 01:56:24 WARN BlockManagerMasterEndpoint: No more replicas available for rdd_75_110 !\n",
      "23/05/21 01:56:24 WARN BlockManagerMasterEndpoint: No more replicas available for rdd_75_35 !\n",
      "23/05/21 01:56:24 WARN BlockManagerMasterEndpoint: No more replicas available for rdd_75_165 !\n",
      "23/05/21 01:56:24 WARN TransportChannelHandler: Exception in connection from /10.0.13.70:41042\n",
      "java.io.IOException: Connection reset by peer\n",
      "\tat java.base/sun.nio.ch.FileDispatcherImpl.read0(Native Method)\n",
      "\tat java.base/sun.nio.ch.SocketDispatcher.read(SocketDispatcher.java:39)\n",
      "\tat java.base/sun.nio.ch.IOUtil.readIntoNativeBuffer(IOUtil.java:276)\n",
      "\tat java.base/sun.nio.ch.IOUtil.read(IOUtil.java:233)\n",
      "\tat java.base/sun.nio.ch.IOUtil.read(IOUtil.java:223)\n",
      "\tat java.base/sun.nio.ch.SocketChannelImpl.read(SocketChannelImpl.java:356)\n",
      "\tat io.netty.buffer.PooledByteBuf.setBytes(PooledByteBuf.java:259)\n",
      "\tat io.netty.buffer.AbstractByteBuf.writeBytes(AbstractByteBuf.java:1132)\n",
      "\tat io.netty.channel.socket.nio.NioSocketChannel.doReadBytes(NioSocketChannel.java:357)\n",
      "\tat io.netty.channel.nio.AbstractNioByteChannel$NioByteUnsafe.read(AbstractNioByteChannel.java:151)\n",
      "\tat io.netty.channel.nio.NioEventLoop.processSelectedKey(NioEventLoop.java:788)\n",
      "\tat io.netty.channel.nio.NioEventLoop.processSelectedKeysOptimized(NioEventLoop.java:724)\n",
      "\tat io.netty.channel.nio.NioEventLoop.processSelectedKeys(NioEventLoop.java:650)\n",
      "\tat io.netty.channel.nio.NioEventLoop.run(NioEventLoop.java:562)\n",
      "\tat io.netty.util.concurrent.SingleThreadEventExecutor$4.run(SingleThreadEventExecutor.java:997)\n",
      "\tat io.netty.util.internal.ThreadExecutorMap$2.run(ThreadExecutorMap.java:74)\n",
      "\tat io.netty.util.concurrent.FastThreadLocalRunnable.run(FastThreadLocalRunnable.java:30)\n",
      "\tat java.base/java.lang.Thread.run(Thread.java:829)\n",
      "23/05/21 01:57:49 ERROR TaskSchedulerImpl: Lost executor 28 on node74.cluster.tsc.uc3m.es: Remote RPC client disassociated. Likely due to containers exceeding thresholds, or network issues. Check driver logs for WARN messages.\n",
      "23/05/21 01:57:49 WARN TaskSetManager: Lost task 152.0 in stage 140.0 (TID 2987) (node74.cluster.tsc.uc3m.es executor 28): ExecutorLostFailure (executor 28 exited caused by one of the running tasks) Reason: Remote RPC client disassociated. Likely due to containers exceeding thresholds, or network issues. Check driver logs for WARN messages.\n",
      "23/05/21 01:57:49 WARN TaskSetManager: Lost task 159.0 in stage 140.0 (TID 2989) (node74.cluster.tsc.uc3m.es executor 28): ExecutorLostFailure (executor 28 exited caused by one of the running tasks) Reason: Remote RPC client disassociated. Likely due to containers exceeding thresholds, or network issues. Check driver logs for WARN messages.\n",
      "23/05/21 01:57:49 WARN TaskSetManager: Lost task 158.0 in stage 140.0 (TID 2988) (node74.cluster.tsc.uc3m.es executor 28): ExecutorLostFailure (executor 28 exited caused by one of the running tasks) Reason: Remote RPC client disassociated. Likely due to containers exceeding thresholds, or network issues. Check driver logs for WARN messages.\n",
      "23/05/21 01:57:49 WARN TaskSetManager: Lost task 146.0 in stage 140.0 (TID 2982) (node74.cluster.tsc.uc3m.es executor 28): ExecutorLostFailure (executor 28 exited caused by one of the running tasks) Reason: Remote RPC client disassociated. Likely due to containers exceeding thresholds, or network issues. Check driver logs for WARN messages.\n",
      "23/05/21 01:57:49 WARN BlockManagerMasterEndpoint: No more replicas available for rdd_75_136 !\n",
      "23/05/21 01:57:49 WARN BlockManagerMasterEndpoint: No more replicas available for rdd_75_184 !\n",
      "23/05/21 01:57:49 WARN BlockManagerMasterEndpoint: No more replicas available for rdd_75_134 !\n",
      "23/05/21 01:57:49 WARN BlockManagerMasterEndpoint: No more replicas available for rdd_75_3 !\n",
      "23/05/21 01:57:49 WARN BlockManagerMasterEndpoint: No more replicas available for rdd_75_4 !\n",
      "23/05/21 01:57:49 WARN BlockManagerMasterEndpoint: No more replicas available for rdd_75_64 !\n",
      "23/05/21 01:57:49 WARN BlockManagerMasterEndpoint: No more replicas available for rdd_75_2 !\n",
      "23/05/21 01:57:49 WARN BlockManagerMasterEndpoint: No more replicas available for rdd_75_192 !\n",
      "23/05/21 01:57:49 WARN BlockManagerMasterEndpoint: No more replicas available for rdd_75_103 !\n",
      "23/05/21 01:57:49 WARN BlockManagerMasterEndpoint: No more replicas available for rdd_75_153 !\n",
      "23/05/21 01:57:49 WARN BlockManagerMasterEndpoint: No more replicas available for rdd_75_61 !\n",
      "23/05/21 01:57:49 WARN BlockManagerMasterEndpoint: No more replicas available for rdd_75_44 !\n",
      "23/05/21 01:57:49 WARN BlockManagerMasterEndpoint: No more replicas available for rdd_75_107 !\n",
      "23/05/21 01:57:49 WARN BlockManagerMasterEndpoint: No more replicas available for rdd_75_0 !\n",
      "23/05/21 01:57:49 WARN BlockManagerMasterEndpoint: No more replicas available for rdd_75_106 !\n",
      "23/05/21 01:57:49 WARN BlockManagerMasterEndpoint: No more replicas available for rdd_75_137 !\n",
      "23/05/21 01:57:49 WARN BlockManagerMasterEndpoint: No more replicas available for rdd_75_42 !\n",
      "23/05/21 01:57:49 WARN BlockManagerMasterEndpoint: No more replicas available for rdd_75_135 !\n",
      "23/05/21 01:57:49 WARN BlockManagerMasterEndpoint: No more replicas available for rdd_75_41 !\n",
      "23/05/21 01:57:49 WARN BlockManagerMasterEndpoint: No more replicas available for rdd_75_121 !\n",
      "23/05/21 01:57:49 WARN BlockManagerMasterEndpoint: No more replicas available for rdd_75_104 !\n",
      "23/05/21 01:57:49 WARN BlockManagerMasterEndpoint: No more replicas available for rdd_75_43 !\n",
      "23/05/21 01:57:49 WARN BlockManagerMasterEndpoint: No more replicas available for rdd_75_69 !\n",
      "23/05/21 01:57:49 WARN BlockManagerMasterEndpoint: No more replicas available for rdd_75_62 !\n",
      "[Stage 149:>                                                        (0 + 1) / 1]\r"
     ]
    },
    {
     "name": "stdout",
     "output_type": "stream",
     "text": [
      "Unique DOIs: 115212769\n"
     ]
    },
    {
     "name": "stderr",
     "output_type": "stream",
     "text": [
      "----------------------------------------                                        \n",
      "Exception occurred during processing of request from ('127.0.0.1', 33258)\n",
      "Traceback (most recent call last):\n",
      "  File \"/usr/lib/python3.10/socketserver.py\", line 316, in _handle_request_noblock\n",
      "    self.process_request(request, client_address)\n",
      "  File \"/usr/lib/python3.10/socketserver.py\", line 347, in process_request\n",
      "    self.finish_request(request, client_address)\n",
      "  File \"/usr/lib/python3.10/socketserver.py\", line 360, in finish_request\n",
      "    self.RequestHandlerClass(request, client_address, self)\n",
      "  File \"/usr/lib/python3.10/socketserver.py\", line 747, in __init__\n",
      "    self.handle()\n",
      "  File \"/opt/spark-3.4.0-bin-3.3.1/python/pyspark/accumulators.py\", line 281, in handle\n",
      "    poll(accum_updates)\n",
      "  File \"/opt/spark-3.4.0-bin-3.3.1/python/pyspark/accumulators.py\", line 253, in poll\n",
      "    if func():\n",
      "  File \"/opt/spark-3.4.0-bin-3.3.1/python/pyspark/accumulators.py\", line 257, in accum_updates\n",
      "    num_updates = read_int(self.rfile)\n",
      "  File \"/opt/spark-3.4.0-bin-3.3.1/python/pyspark/serializers.py\", line 596, in read_int\n",
      "    raise EOFError\n",
      "EOFError\n",
      "----------------------------------------\n",
      "ERROR:root:Exception while sending command.\n",
      "Traceback (most recent call last):\n",
      "  File \"/opt/spark-3.4.0-bin-3.3.1/python/lib/py4j-0.10.9.7-src.zip/py4j/clientserver.py\", line 516, in send_command\n",
      "    raise Py4JNetworkError(\"Answer from Java side is empty\")\n",
      "py4j.protocol.Py4JNetworkError: Answer from Java side is empty\n",
      "\n",
      "During handling of the above exception, another exception occurred:\n",
      "\n",
      "Traceback (most recent call last):\n",
      "  File \"/opt/spark-3.4.0-bin-3.3.1/python/lib/py4j-0.10.9.7-src.zip/py4j/java_gateway.py\", line 1038, in send_command\n",
      "    response = connection.send_command(command)\n",
      "  File \"/opt/spark-3.4.0-bin-3.3.1/python/lib/py4j-0.10.9.7-src.zip/py4j/clientserver.py\", line 539, in send_command\n",
      "    raise Py4JNetworkError(\n",
      "py4j.protocol.Py4JNetworkError: Error while sending or receiving\n",
      "/opt/spark-3.4.0-bin-3.3.1/python/pyspark/context.py:654: RuntimeWarning: Unable to cleanly shutdown Spark JVM process. It is possible that the process has crashed, been killed or may also be in a zombie state.\n",
      "  warnings.warn(\n"
     ]
    }
   ],
   "source": [
    "print(\"Papers with PMID:\", dataset.where(F.col(\"pmid\").isNotNull()).count())\n",
    "print(\"Papers with DOI:\", dataset.where(F.col(\"doi\").isNotNull()).count())\n",
    "print(\"Unique DOIs:\", dataset.where(F.col(\"doi\").isNotNull()).select('doi').distinct().count())"
   ]
  },
  {
   "cell_type": "markdown",
   "id": "1db005cf-bb20-4135-9762-1a112e1d2288",
   "metadata": {},
   "source": [
    "### Table **`authors`**"
   ]
  },
  {
   "cell_type": "code",
   "execution_count": 12,
   "id": "a7f64f74-bb6b-4070-a306-e0c5ee2fa78b",
   "metadata": {
    "tags": []
   },
   "outputs": [
    {
     "name": "stderr",
     "output_type": "stream",
     "text": [
      "                                                                                \r"
     ]
    },
    {
     "name": "stdout",
     "output_type": "stream",
     "text": [
      "Number of abstracts available: 81067677\n",
      "root\n",
      " |-- affiliations: array (nullable = true)\n",
      " |    |-- element: string (containsNull = true)\n",
      " |-- aliases: array (nullable = true)\n",
      " |    |-- element: string (containsNull = true)\n",
      " |-- authorid: string (nullable = true)\n",
      " |-- citationcount: long (nullable = true)\n",
      " |-- externalids: struct (nullable = true)\n",
      " |    |-- DBLP: array (nullable = true)\n",
      " |    |    |-- element: string (containsNull = true)\n",
      " |    |-- ORCID: array (nullable = true)\n",
      " |    |    |-- element: string (containsNull = true)\n",
      " |-- hindex: long (nullable = true)\n",
      " |-- homepage: string (nullable = true)\n",
      " |-- name: string (nullable = true)\n",
      " |-- papercount: long (nullable = true)\n",
      " |-- updated: string (nullable = true)\n",
      " |-- url: string (nullable = true)\n",
      "\n",
      "-RECORD 0----------------------------------------------------------\n",
      " affiliations  | null                                              \n",
      " aliases       | null                                              \n",
      " authorid      | 135711444                                         \n",
      " citationcount | 0                                                 \n",
      " externalids   | null                                              \n",
      " hindex        | 0                                                 \n",
      " homepage      | null                                              \n",
      " name          | 山根 佳代                                         \n",
      " papercount    | 1                                                 \n",
      " updated       | 2021-04-11T21:30:12.958Z                          \n",
      " url           | https://www.semanticscholar.org/author/135711444  \n",
      "-RECORD 1----------------------------------------------------------\n",
      " affiliations  | null                                              \n",
      " aliases       | null                                              \n",
      " authorid      | 2071999694                                        \n",
      " citationcount | 0                                                 \n",
      " externalids   | null                                              \n",
      " hindex        | 0                                                 \n",
      " homepage      | null                                              \n",
      " name          | Matteo Riccardi                                   \n",
      " papercount    | 1                                                 \n",
      " updated       | 2021-05-24T17:41:11.541Z                          \n",
      " url           | https://www.semanticscholar.org/author/2071999694 \n",
      "only showing top 2 rows\n",
      "\n",
      "CPU times: user 58.6 ms, sys: 4.09 ms, total: 62.7 ms\n",
      "Wall time: 45.3 s\n"
     ]
    }
   ],
   "source": [
    "%%time\n",
    "\n",
    "dir_authors = dir_data.joinpath('authors')\n",
    "df_authors = spark.read.json('file:///' + dir_authors.as_posix())\n",
    "\n",
    "#We drop corrupt records\n",
    "df_authors = df_authors.cache()\n",
    "df_authors = df_authors.where(F.col(\"_corrupt_record\").isNull()).drop(\"_corrupt_record\")\n",
    "\n",
    "print('Number of abstracts available:', df_authors.count())\n",
    "df_authors.printSchema()\n",
    "df_authors.show(n=2, truncate=120, vertical=True)"
   ]
  },
  {
   "cell_type": "markdown",
   "id": "17229fe0-9993-4d13-af48-66bbdd60e57a",
   "metadata": {},
   "source": [
    "<span style=\"background-color:yellow;\">Right now, it seems affiliations are missing, and ORCID also missing for most of the authors (<0.35%)? We will continue checking to see if this becomes any better.</span>"
   ]
  },
  {
   "cell_type": "code",
   "execution_count": 15,
   "id": "ed28d5d1-31c8-4fd3-9b2b-51e21d6b0972",
   "metadata": {
    "tags": []
   },
   "outputs": [
    {
     "name": "stderr",
     "output_type": "stream",
     "text": [
      "[Stage 41:=========>                                                (1 + 5) / 6]\r"
     ]
    },
    {
     "name": "stdout",
     "output_type": "stream",
     "text": [
      "-RECORD 0---------------------------------------------------------------------------------------------------------------\n",
      " affiliations  | null                                                                                                   \n",
      " aliases       | [J Arenas-garcía, J. Arenas-garcia, Jeronimo Arenas-garcia, Jerónimo Arenas-garcía]                    \n",
      " authorid      | 1750044                                                                                                \n",
      " citationcount | 5                                                                                                      \n",
      " externalids   | null                                                                                                   \n",
      " hindex        | 1                                                                                                      \n",
      " homepage      | null                                                                                                   \n",
      " name          | J. Arenas-García                                                                                       \n",
      " papercount    | 1                                                                                                      \n",
      " updated       | 2022-04-10T17:13:22.313Z                                                                               \n",
      " url           | https://www.semanticscholar.org/author/1750044                                                         \n",
      "-RECORD 1---------------------------------------------------------------------------------------------------------------\n",
      " affiliations  | null                                                                                                   \n",
      " aliases       | [J. Arenas-garcia, Jerónimo Arenas-garcía, J. Arenas-garcı́a, Jeronimo Arenas-garcia, J Arenas-garcía] \n",
      " authorid      | 1385756446                                                                                             \n",
      " citationcount | 2949                                                                                                   \n",
      " externalids   | {[Jerónimo Arenas-García], null}                                                                       \n",
      " hindex        | 28                                                                                                     \n",
      " homepage      | null                                                                                                   \n",
      " name          | J. Arenas-García                                                                                       \n",
      " papercount    | 106                                                                                                    \n",
      " updated       | 2023-02-02T08:07:04.537Z                                                                               \n",
      " url           | https://www.semanticscholar.org/author/1385756446                                                      \n",
      "\n"
     ]
    },
    {
     "name": "stderr",
     "output_type": "stream",
     "text": [
      "                                                                                \r"
     ]
    }
   ],
   "source": [
    "# Search for rows where the name column contains \"John\"\n",
    "search_term = \"J. Arenas-García\"\n",
    "result = df_authors.filter(F.col(\"name\").like(f\"%{search_term}%\"))\n",
    "\n",
    "result.show(truncate=120, vertical=True)"
   ]
  },
  {
   "cell_type": "code",
   "execution_count": 17,
   "id": "6c526c93-f961-45cb-ae14-315d333a3b98",
   "metadata": {
    "tags": []
   },
   "outputs": [
    {
     "name": "stdout",
     "output_type": "stream",
     "text": [
      "Number of authors with affiliations: 283598\n"
     ]
    },
    {
     "name": "stderr",
     "output_type": "stream",
     "text": [
      "[Stage 48:================================================>       (27 + 4) / 31]\r"
     ]
    },
    {
     "name": "stdout",
     "output_type": "stream",
     "text": [
      "Number of authors with ORCID: 27299\n"
     ]
    },
    {
     "name": "stderr",
     "output_type": "stream",
     "text": [
      "                                                                                \r"
     ]
    }
   ],
   "source": [
    "print(\"Number of authors with affiliations:\", df_authors.where(F.col(\"affiliations\").isNotNull()).count())\n",
    "print(\"Number of authors with ORCID:\", df_authors.where(F.col(\"externalids.ORCID\").isNotNull()).count())"
   ]
  },
  {
   "cell_type": "code",
   "execution_count": null,
   "id": "f93435d5-f404-4920-a66e-c0cd7a9dbce8",
   "metadata": {},
   "outputs": [],
   "source": [
    "# Adapt columns names and formats for backwards compatibility\n",
    "df_authors = df_authors.select(F.col('authorid').alias('id'), \\\n",
    "                               \"name\", \\\n",
    "                               \"aliases\", \\\n",
    "                               F.col('papercount').cast(IntegerType()), \\\n",
    "                               F.col('citationcount').cast(IntegerType()), \\\n",
    "                               F.col('hindex').cast(IntegerType()) \\\n",
    "                              )\n",
    "df_authors.printSchema()\n",
    "df_authors.show(n=2, truncate=120, vertical=True)"
   ]
  },
  {
   "cell_type": "code",
   "execution_count": 21,
   "id": "8ddb863f-822b-4905-8d89-a2509af185ed",
   "metadata": {},
   "outputs": [
    {
     "name": "stderr",
     "output_type": "stream",
     "text": [
      "[Stage 52:====================================================>   (29 + 2) / 31]\r"
     ]
    },
    {
     "name": "stdout",
     "output_type": "stream",
     "text": [
      "CPU times: user 37.6 ms, sys: 0 ns, total: 37.6 ms\n",
      "Wall time: 16.1 s\n"
     ]
    },
    {
     "name": "stderr",
     "output_type": "stream",
     "text": [
      "                                                                                \r"
     ]
    }
   ],
   "source": [
    "%%time\n",
    "\n",
    "df_authors.write.parquet(\n",
    "    dir_parquet.joinpath(f\"authors.parquet\").as_posix(),\n",
    "    mode=\"overwrite\",\n",
    ")"
   ]
  },
  {
   "cell_type": "markdown",
   "id": "be360e76-5daa-4199-95c1-78b8740a82f3",
   "metadata": {},
   "source": [
    "### Table **`paper_author`**"
   ]
  },
  {
   "cell_type": "code",
   "execution_count": 32,
   "id": "6bb2a721-e981-4dc3-8081-fc44bdd5b0bc",
   "metadata": {
    "tags": []
   },
   "outputs": [
    {
     "name": "stderr",
     "output_type": "stream",
     "text": [
      "23/05/20 23:21:45 WARN CacheManager: Asked to cache already cached data.\n"
     ]
    },
    {
     "name": "stdout",
     "output_type": "stream",
     "text": [
      "Number of paper_author entries: 590620314\n",
      "root\n",
      " |-- paper_id: long (nullable = true)\n",
      " |-- author_id: string (nullable = true)\n",
      "\n",
      "-RECORD 0-------------\n",
      " paper_id  | 21187561 \n",
      " author_id | 10000172 \n",
      "-RECORD 1-------------\n",
      " paper_id  | 7487231  \n",
      " author_id | 10000172 \n",
      "only showing top 2 rows\n",
      "\n",
      "None\n"
     ]
    }
   ],
   "source": [
    "df_paper_author = df_papers.select(F.col('corpusid').alias('paper_id'), F.explode('authors'))\n",
    "df_paper_author = df_paper_author.select('paper_id', F.col('col.authorId').alias('author_id'))\n",
    "\n",
    "#We make sure that authors are in the author table\n",
    "df_author_aux = df_authors.select(\"id\")\n",
    "df_paper_author = (\n",
    "    df_paper_author.join(df_author_aux, \\\n",
    "                      df_paper_author.author_id ==  df_author_aux.id, \"left\")\n",
    "                    .drop(df_author_aux.id)\n",
    ").cache()\n",
    "\n",
    "print(\"Number of paper_author entries:\", df_paper_author.count())\n",
    "df_paper_author.printSchema()\n",
    "print(df_paper_author.show(n=2, vertical=True))"
   ]
  },
  {
   "cell_type": "code",
   "execution_count": 33,
   "id": "531e9309-6fba-43f4-8c07-2bc00e340e18",
   "metadata": {
    "tags": []
   },
   "outputs": [
    {
     "name": "stderr",
     "output_type": "stream",
     "text": [
      "                                                                                \r"
     ]
    }
   ],
   "source": [
    "# Save dataframe as parquet\n",
    "df_paper_author.write.parquet(\n",
    "    dir_parquet.joinpath(\"paper_author.parquet\").as_posix(),\n",
    "    mode=\"overwrite\",\n",
    ")\n"
   ]
  },
  {
   "cell_type": "markdown",
   "id": "350cc802-0d1f-4bdb-a24a-a1ccad0ff727",
   "metadata": {},
   "source": [
    "### Table **`citations`**"
   ]
  },
  {
   "cell_type": "code",
   "execution_count": 35,
   "id": "ddf9066f-9121-4bef-a27d-36374132c2f1",
   "metadata": {
    "tags": []
   },
   "outputs": [
    {
     "name": "stderr",
     "output_type": "stream",
     "text": [
      "23/05/21 00:28:34 ERROR TaskSchedulerImpl: Lost executor 17 on node14.cluster.tsc.uc3m.es: Remote RPC client disassociated. Likely due to containers exceeding thresholds, or network issues. Check driver logs for WARN messages.\n",
      "23/05/21 00:28:34 WARN TaskSetManager: Lost task 19.0 in stage 118.0 (TID 2284) (node14.cluster.tsc.uc3m.es executor 17): ExecutorLostFailure (executor 17 exited caused by one of the running tasks) Reason: Remote RPC client disassociated. Likely due to containers exceeding thresholds, or network issues. Check driver logs for WARN messages.\n",
      "23/05/21 00:28:34 WARN TaskSetManager: Lost task 9.0 in stage 118.0 (TID 2274) (node14.cluster.tsc.uc3m.es executor 17): ExecutorLostFailure (executor 17 exited caused by one of the running tasks) Reason: Remote RPC client disassociated. Likely due to containers exceeding thresholds, or network issues. Check driver logs for WARN messages.\n",
      "23/05/21 00:28:34 WARN TaskSetManager: Lost task 29.0 in stage 118.0 (TID 2294) (node14.cluster.tsc.uc3m.es executor 17): ExecutorLostFailure (executor 17 exited caused by one of the running tasks) Reason: Remote RPC client disassociated. Likely due to containers exceeding thresholds, or network issues. Check driver logs for WARN messages.\n",
      "23/05/21 00:28:34 WARN BlockManagerMasterEndpoint: No more replicas available for rdd_111_29 !\n",
      "23/05/21 00:28:34 WARN BlockManagerMasterEndpoint: No more replicas available for rdd_266_51 !\n",
      "23/05/21 00:28:34 WARN BlockManagerMasterEndpoint: No more replicas available for rdd_75_139 !\n",
      "23/05/21 00:28:34 WARN BlockManagerMasterEndpoint: No more replicas available for rdd_75_36 !\n",
      "23/05/21 00:28:34 WARN BlockManagerMasterEndpoint: No more replicas available for rdd_75_140 !\n",
      "23/05/21 00:28:34 WARN BlockManagerMasterEndpoint: No more replicas available for rdd_7_20 !\n",
      "23/05/21 00:28:34 WARN BlockManagerMasterEndpoint: No more replicas available for rdd_75_179 !\n",
      "23/05/21 00:28:34 WARN BlockManagerMasterEndpoint: No more replicas available for rdd_266_52 !\n",
      "23/05/21 00:28:34 WARN BlockManagerMasterEndpoint: No more replicas available for rdd_266_167 !\n",
      "23/05/21 00:28:34 WARN BlockManagerMasterEndpoint: No more replicas available for rdd_75_18 !\n",
      "23/05/21 00:28:34 WARN BlockManagerMasterEndpoint: No more replicas available for rdd_266_124 !\n",
      "23/05/21 00:28:34 WARN BlockManagerMasterEndpoint: No more replicas available for rdd_266_41 !\n",
      "23/05/21 00:28:34 WARN BlockManagerMasterEndpoint: No more replicas available for rdd_7_30 !\n",
      "23/05/21 00:28:34 WARN BlockManagerMasterEndpoint: No more replicas available for rdd_266_84 !\n",
      "23/05/21 00:28:34 WARN BlockManagerMasterEndpoint: No more replicas available for rdd_266_129 !\n",
      "23/05/21 00:28:34 WARN BlockManagerMasterEndpoint: No more replicas available for rdd_75_138 !\n",
      "23/05/21 00:28:34 WARN BlockManagerMasterEndpoint: No more replicas available for rdd_111_9 !\n",
      "23/05/21 00:28:34 WARN BlockManagerMasterEndpoint: No more replicas available for rdd_266_39 !\n",
      "23/05/21 00:28:34 WARN BlockManagerMasterEndpoint: No more replicas available for rdd_266_142 !\n",
      "23/05/21 00:28:34 WARN BlockManagerMasterEndpoint: No more replicas available for rdd_75_146 !\n",
      "23/05/21 00:28:34 WARN BlockManagerMasterEndpoint: No more replicas available for rdd_75_51 !\n",
      "23/05/21 00:28:34 WARN BlockManagerMasterEndpoint: No more replicas available for rdd_7_10 !\n",
      "23/05/21 00:28:34 WARN BlockManagerMasterEndpoint: No more replicas available for rdd_266_80 !\n",
      "23/05/21 00:28:34 WARN BlockManagerMasterEndpoint: No more replicas available for rdd_266_185 !\n",
      "23/05/21 00:28:34 WARN BlockManagerMasterEndpoint: No more replicas available for rdd_266_133 !\n",
      "23/05/21 00:28:34 WARN BlockManagerMasterEndpoint: No more replicas available for rdd_266_29 !\n",
      "23/05/21 00:28:34 WARN BlockManagerMasterEndpoint: No more replicas available for rdd_266_157 !\n",
      "23/05/21 00:28:34 WARN BlockManagerMasterEndpoint: No more replicas available for rdd_266_9 !\n",
      "23/05/21 00:28:34 WARN BlockManagerMasterEndpoint: No more replicas available for rdd_266_165 !\n",
      "23/05/21 00:28:34 WARN BlockManagerMasterEndpoint: No more replicas available for rdd_75_175 !\n",
      "23/05/21 00:28:34 WARN BlockManagerMasterEndpoint: No more replicas available for rdd_75_10 !\n",
      "23/05/21 00:28:34 WARN BlockManagerMasterEndpoint: No more replicas available for rdd_75_176 !\n",
      "23/05/21 00:28:34 WARN BlockManagerMasterEndpoint: No more replicas available for rdd_75_178 !\n",
      "23/05/21 00:28:34 WARN BlockManagerMasterEndpoint: No more replicas available for rdd_75_17 !\n",
      "23/05/21 00:28:34 WARN BlockManagerMasterEndpoint: No more replicas available for rdd_266_177 !\n",
      "23/05/21 00:28:34 WARN BlockManagerMasterEndpoint: No more replicas available for rdd_266_110 !\n",
      "23/05/21 00:28:34 WARN BlockManagerMasterEndpoint: No more replicas available for rdd_75_137 !\n",
      "23/05/21 00:28:34 WARN BlockManagerMasterEndpoint: No more replicas available for rdd_75_42 !\n",
      "23/05/21 00:28:34 WARN BlockManagerMasterEndpoint: No more replicas available for rdd_266_19 !\n",
      "23/05/21 00:28:34 WARN BlockManagerMasterEndpoint: No more replicas available for rdd_75_41 !\n",
      "23/05/21 00:28:34 WARN BlockManagerMasterEndpoint: No more replicas available for rdd_266_86 !\n",
      "23/05/21 00:28:34 WARN BlockManagerMasterEndpoint: No more replicas available for rdd_266_93 !\n",
      "23/05/21 00:28:34 WARN BlockManagerMasterEndpoint: No more replicas available for rdd_111_19 !\n",
      "23/05/21 00:28:34 WARN BlockManagerMasterEndpoint: No more replicas available for rdd_75_9 !\n",
      "23/05/21 00:28:34 WARN BlockManagerMasterEndpoint: No more replicas available for rdd_266_49 !\n",
      "                                                                                \r"
     ]
    },
    {
     "name": "stdout",
     "output_type": "stream",
     "text": [
      "Number of citations: 2557754271\n",
      "root\n",
      " |-- source: string (nullable = true)\n",
      " |-- dest: string (nullable = true)\n",
      " |-- isinfluential: boolean (nullable = true)\n",
      "\n"
     ]
    },
    {
     "name": "stderr",
     "output_type": "stream",
     "text": [
      "[Stage 122:>                                                        (0 + 1) / 1]\r"
     ]
    },
    {
     "name": "stdout",
     "output_type": "stream",
     "text": [
      "-RECORD 0------------------\n",
      " source        | 15824259  \n",
      " dest          | 26055095  \n",
      " isinfluential | false     \n",
      "-RECORD 1------------------\n",
      " source        | 103110586 \n",
      " dest          | 98052377  \n",
      " isinfluential | false     \n",
      "only showing top 2 rows\n",
      "\n",
      "CPU times: user 853 ms, sys: 138 ms, total: 991 ms\n",
      "Wall time: 56min 27s\n"
     ]
    },
    {
     "name": "stderr",
     "output_type": "stream",
     "text": [
      "                                                                                \r"
     ]
    }
   ],
   "source": [
    "%%time \n",
    "dir_citations = dir_data.joinpath('citations')\n",
    "df_citations = spark.read.json('file:///' + dir_citations.as_posix())\n",
    "\n",
    "#We drop corrupt records\n",
    "df_citations = df_citations.cache()\n",
    "df_citations = df_citations.where(F.col(\"_corrupt_record\").isNull()).drop(\"_corrupt_record\")\n",
    "\n",
    "#Select and rename some columns\n",
    "#We skip the context (text surronding the citation) and intention (result, background, methods),\n",
    "#since these data are most likely not going to be used in IntelComp\n",
    "\n",
    "df_citations = df_citations.select(F.col('citingcorpusid').alias('source'), \\\n",
    "                                   F.col('citedcorpusid').alias('dest'), \\\n",
    "                                   'isinfluential')\n",
    "\n",
    "print('Number of citations:', df_citations.count())\n",
    "df_citations.printSchema()\n",
    "df_citations.show(n=2, truncate=120, vertical=True)"
   ]
  },
  {
   "cell_type": "code",
   "execution_count": 36,
   "id": "f00f6947-57ae-4f1e-9bd6-24119b4b14a6",
   "metadata": {
    "tags": []
   },
   "outputs": [
    {
     "name": "stderr",
     "output_type": "stream",
     "text": [
      "[Stage 123:=====================================================> (30 + 1) / 31]\r"
     ]
    },
    {
     "name": "stdout",
     "output_type": "stream",
     "text": [
      "CPU times: user 286 ms, sys: 36.2 ms, total: 322 ms\n",
      "Wall time: 17min 10s\n"
     ]
    },
    {
     "name": "stderr",
     "output_type": "stream",
     "text": [
      "                                                                                \r"
     ]
    }
   ],
   "source": [
    "%%time\n",
    "\n",
    "# Save dataframe as parquet\n",
    "df_citations.write.parquet(\n",
    "    dir_parquet.joinpath(\"citations.parquet\").as_posix(),\n",
    "    mode=\"overwrite\",\n",
    ")"
   ]
  },
  {
   "cell_type": "markdown",
   "id": "2c481351",
   "metadata": {},
   "source": [
    "## Legacy: Download PDFs (IN PROGRESS)"
   ]
  },
  {
   "cell_type": "code",
   "execution_count": 15,
   "id": "8c6fa0a7",
   "metadata": {},
   "outputs": [
    {
     "ename": "FileNotFoundError",
     "evalue": "[Errno 2] No such file or directory: '/export/ml4ds/IntelComp/Datalake/SemanticScholar/rawdata/20220201/pdfs'",
     "output_type": "error",
     "traceback": [
      "\u001b[0;31m---------------------------------------------------------------------------\u001b[0m",
      "\u001b[0;31mFileNotFoundError\u001b[0m                         Traceback (most recent call last)",
      "\u001b[0;32m/tmp/ipykernel_12341/439138226.py\u001b[0m in \u001b[0;36m<module>\u001b[0;34m\u001b[0m\n\u001b[1;32m      1\u001b[0m \u001b[0;31m# Get previously downloaded pdfs\u001b[0m\u001b[0;34m\u001b[0m\u001b[0;34m\u001b[0m\u001b[0;34m\u001b[0m\u001b[0m\n\u001b[1;32m      2\u001b[0m list_pdfs = set(\n\u001b[0;32m----> 3\u001b[0;31m     \u001b[0;34m[\u001b[0m\u001b[0mx\u001b[0m\u001b[0;34m.\u001b[0m\u001b[0mstem\u001b[0m \u001b[0;32mfor\u001b[0m \u001b[0mx\u001b[0m \u001b[0;32min\u001b[0m \u001b[0mdir_pdfs\u001b[0m\u001b[0;34m.\u001b[0m\u001b[0miterdir\u001b[0m\u001b[0;34m(\u001b[0m\u001b[0;34m)\u001b[0m \u001b[0;32mif\u001b[0m \u001b[0mx\u001b[0m\u001b[0;34m.\u001b[0m\u001b[0mis_file\u001b[0m\u001b[0;34m(\u001b[0m\u001b[0;34m)\u001b[0m\u001b[0;34m]\u001b[0m\u001b[0;34m\u001b[0m\u001b[0;34m\u001b[0m\u001b[0m\n\u001b[0m\u001b[1;32m      4\u001b[0m )\n\u001b[1;32m      5\u001b[0m \u001b[0;34m\u001b[0m\u001b[0m\n",
      "\u001b[0;32m/tmp/ipykernel_12341/439138226.py\u001b[0m in \u001b[0;36m<listcomp>\u001b[0;34m(.0)\u001b[0m\n\u001b[1;32m      1\u001b[0m \u001b[0;31m# Get previously downloaded pdfs\u001b[0m\u001b[0;34m\u001b[0m\u001b[0;34m\u001b[0m\u001b[0;34m\u001b[0m\u001b[0m\n\u001b[1;32m      2\u001b[0m list_pdfs = set(\n\u001b[0;32m----> 3\u001b[0;31m     \u001b[0;34m[\u001b[0m\u001b[0mx\u001b[0m\u001b[0;34m.\u001b[0m\u001b[0mstem\u001b[0m \u001b[0;32mfor\u001b[0m \u001b[0mx\u001b[0m \u001b[0;32min\u001b[0m \u001b[0mdir_pdfs\u001b[0m\u001b[0;34m.\u001b[0m\u001b[0miterdir\u001b[0m\u001b[0;34m(\u001b[0m\u001b[0;34m)\u001b[0m \u001b[0;32mif\u001b[0m \u001b[0mx\u001b[0m\u001b[0;34m.\u001b[0m\u001b[0mis_file\u001b[0m\u001b[0;34m(\u001b[0m\u001b[0;34m)\u001b[0m\u001b[0;34m]\u001b[0m\u001b[0;34m\u001b[0m\u001b[0;34m\u001b[0m\u001b[0m\n\u001b[0m\u001b[1;32m      4\u001b[0m )\n\u001b[1;32m      5\u001b[0m \u001b[0;34m\u001b[0m\u001b[0m\n",
      "\u001b[0;32m/usr/lib/python3.8/pathlib.py\u001b[0m in \u001b[0;36miterdir\u001b[0;34m(self)\u001b[0m\n\u001b[1;32m   1120\u001b[0m         \u001b[0;32mif\u001b[0m \u001b[0mself\u001b[0m\u001b[0;34m.\u001b[0m\u001b[0m_closed\u001b[0m\u001b[0;34m:\u001b[0m\u001b[0;34m\u001b[0m\u001b[0;34m\u001b[0m\u001b[0m\n\u001b[1;32m   1121\u001b[0m             \u001b[0mself\u001b[0m\u001b[0;34m.\u001b[0m\u001b[0m_raise_closed\u001b[0m\u001b[0;34m(\u001b[0m\u001b[0;34m)\u001b[0m\u001b[0;34m\u001b[0m\u001b[0;34m\u001b[0m\u001b[0m\n\u001b[0;32m-> 1122\u001b[0;31m         \u001b[0;32mfor\u001b[0m \u001b[0mname\u001b[0m \u001b[0;32min\u001b[0m \u001b[0mself\u001b[0m\u001b[0;34m.\u001b[0m\u001b[0m_accessor\u001b[0m\u001b[0;34m.\u001b[0m\u001b[0mlistdir\u001b[0m\u001b[0;34m(\u001b[0m\u001b[0mself\u001b[0m\u001b[0;34m)\u001b[0m\u001b[0;34m:\u001b[0m\u001b[0;34m\u001b[0m\u001b[0;34m\u001b[0m\u001b[0m\n\u001b[0m\u001b[1;32m   1123\u001b[0m             \u001b[0;32mif\u001b[0m \u001b[0mname\u001b[0m \u001b[0;32min\u001b[0m \u001b[0;34m{\u001b[0m\u001b[0;34m'.'\u001b[0m\u001b[0;34m,\u001b[0m \u001b[0;34m'..'\u001b[0m\u001b[0;34m}\u001b[0m\u001b[0;34m:\u001b[0m\u001b[0;34m\u001b[0m\u001b[0;34m\u001b[0m\u001b[0m\n\u001b[1;32m   1124\u001b[0m                 \u001b[0;31m# Yielding a path object for these makes little sense\u001b[0m\u001b[0;34m\u001b[0m\u001b[0;34m\u001b[0m\u001b[0;34m\u001b[0m\u001b[0m\n",
      "\u001b[0;31mFileNotFoundError\u001b[0m: [Errno 2] No such file or directory: '/export/ml4ds/IntelComp/Datalake/SemanticScholar/rawdata/20220201/pdfs'"
     ]
    }
   ],
   "source": [
    "# Get previously downloaded pdfs\n",
    "list_pdfs = set(\n",
    "    [x.stem for x in dir_pdfs.iterdir() if x.is_file()]\n",
    ")\n",
    "\n",
    "# Select pdfs to download\n",
    "pdf_urls = (\n",
    "    df.select([\"id\", \"pdfUrls\"])\n",
    "    .withColumn(\"pdfUrls\", get_first_pdf(\"pdfUrls\"))\n",
    "    .filter(F.length(\"pdfUrls\") > 0)\n",
    ")\n",
    "pdf_urls = pdf_urls.where(~F.col(\"id\").isin(list_pdfs))\n",
    "\n",
    "pdf_test = pdf_urls.limit(5)\n"
   ]
  },
  {
   "cell_type": "code",
   "execution_count": null,
   "id": "55995cf4",
   "metadata": {},
   "outputs": [],
   "source": [
    "## Download PDFs\n",
    "#\n",
    "# We download PDFs for all papers with valid a valid pdfUrl\n",
    "# This option is not activated by default, since the number\n",
    "# of papers to download would be huge\n",
    "paper_download = 1\n",
    "\n",
    "if paper_download:\n",
    "\n",
    "    def download_pdfs(row, dir_pdfs=dir_pdfs):\n",
    "        try:\n",
    "            r = requests.get(row[\"pdfUrls\"], stream=True)\n",
    "            with dir_pdfs.joinpath(f\"{row['id']}.pdf\").open(\"wb\") as f:\n",
    "                f.write(r.content)\n",
    "        except:\n",
    "            pass\n",
    "\n",
    "    pdf_test.foreach(download_pdfs)\n"
   ]
  }
 ],
 "metadata": {
  "kernelspec": {
   "display_name": "Python 3 (ipykernel)",
   "language": "python",
   "name": "python3"
  },
  "language_info": {
   "codemirror_mode": {
    "name": "ipython",
    "version": 3
   },
   "file_extension": ".py",
   "mimetype": "text/x-python",
   "name": "python",
   "nbconvert_exporter": "python",
   "pygments_lexer": "ipython3",
   "version": "3.10.12"
  }
 },
 "nbformat": 4,
 "nbformat_minor": 5
}
