{
 "cells": [
  {
   "cell_type": "markdown",
   "id": "32f1a86d",
   "metadata": {
    "id": "32f1a86d"
   },
   "source": [
    "# Function definitions"
   ]
  },
  {
   "cell_type": "code",
   "execution_count": 1,
   "id": "8b8ede8d",
   "metadata": {
    "id": "8b8ede8d"
   },
   "outputs": [],
   "source": [
    "import fitz\n",
    "import re\n",
    "import pandas as pd"
   ]
  },
  {
   "cell_type": "code",
   "execution_count": 2,
   "id": "DL76-WMy0orv",
   "metadata": {
    "id": "DL76-WMy0orv"
   },
   "outputs": [],
   "source": [
    "def get_challenge_page(doc, letters_size, letters_font, letters_color, section):\n",
    "    \"\"\"\n",
    "    Function for obtaining a dictionary which stores at which page each section starts\n",
    "    \n",
    "    doc -> pdf document\n",
    "    letter_size -> Size of the letters of the titles of the challenges\n",
    "    letters_font -> Font of the letters of the titles of the challenges\n",
    "    letters_color -> Color of the letters of the titles of the challenges\n",
    "    section -> Name of the section we are interested in\n",
    "    \"\"\"\n",
    "    # iterate through all the lines of the text checking if the properties match with the ones of the subtitles indicating the begining of a section\n",
    "    \n",
    "    challenge_pages = {}\n",
    "    for page_num, page in enumerate(doc, start=1): \n",
    "        blocks = page.get_text(\"dict\")[\"blocks\"]\n",
    "\n",
    "        for block in blocks:\n",
    "            for line in block.get(\"lines\", []):\n",
    "                for fragment in line[\"spans\"]:\n",
    "                    size = fragment[\"size\"]\n",
    "                    font = fragment[\"font\"]\n",
    "                    color = fragment[\"color\"]\n",
    "\n",
    "                    # if we find one of this titles, we store the ID of the challenge and store the page at which it starts\n",
    "                    if size==letters_size and  font==letters_font and color==letters_color and section in fragment[\"text\"]: \n",
    "\n",
    "                        # Check that the string is clean. If not remove the indicative number before the challenge\n",
    "                        if fragment[\"text\"].split()[0] == \"EIC\":   \n",
    "                            challenge_pages[fragment[\"text\"]] = page_num\n",
    "                        else:\n",
    "                            splited_text = fragment[\"text\"].split()  \n",
    "                            challenge_pages[' '.join(splited_text[1:])] = page_num                            \n",
    "            \n",
    "    return challenge_pages"
   ]
  },
  {
   "cell_type": "code",
   "execution_count": 3,
   "id": "08248269",
   "metadata": {
    "id": "pV4gJe_y2YIJ"
   },
   "outputs": [],
   "source": [
    "def get_challenge_text(doc, challenge_pages, body_size, body_font, subtitle_size, subtitle_font):\n",
    "    \"\"\"\n",
    "    Function for obtaining a dictionary which stores the text for each of the challenges\n",
    "\n",
    "    challenge_pages -> dictionary whoch stores at which page each challenge starts\n",
    "    numpage_size -> Size of the letters of the page numbers\n",
    "    numpage_font -> Font of the letters of the page numbers\n",
    "    foot_size -> Size of the letters of the foot\n",
    "    foot_font -> Font of the letters of the foot\n",
    "    \"\"\"\n",
    "    challenge_pairs = list(zip(challenge_pages.keys(), list(challenge_pages.keys())[1:])) + [(list(challenge_pages.keys())[-1], None)]\n",
    "    challenge_texts = {}\n",
    "\n",
    "    for init_challenge, final_challenge in challenge_pairs: # iterate through all the pages between to sections \n",
    "        init_page = challenge_pages[init_challenge]\n",
    "        final_page = challenge_pages[final_challenge] if final_challenge is not None else len(doc)\n",
    "\n",
    "        text = []\n",
    "        inside_section = False # Variable for detecting if we are inside a challenge section \n",
    "\n",
    "        for page_num in range(init_page-1, final_page):\n",
    "            page = doc.load_page(page_num)\n",
    "            blocks = page.get_text(\"dict\")[\"blocks\"]\n",
    "\n",
    "            for block in blocks:\n",
    "                for line in block.get(\"lines\", []):\n",
    "                    for fragment in line[\"spans\"]:\n",
    "                        size = fragment[\"size\"]\n",
    "                        font = fragment[\"font\"]\n",
    "                        text_content = fragment[\"text\"]\n",
    "\n",
    "                        # Check if we are inside a challenge section \n",
    "                        if final_challenge is None or init_challenge in text_content:\n",
    "                            inside_section = True \n",
    "\n",
    "                        elif final_challenge in text_content:\n",
    "                            inside_section = False\n",
    "\n",
    "                        # store all the text at thos sections in case it is not a header of a foot page\n",
    "                        if ((size==body_size and font==body_font) or (size==subtitle_size and font==subtitle_font)) and inside_section:  # check that the text is part of the body\n",
    "                            text.append(text_content)\n",
    "\n",
    "        complete_text = \"\\n\".join(text)\n",
    "        challenge_texts[init_challenge] = complete_text # store the text at the dictionary\n",
    "\n",
    "\n",
    "   \n",
    "    return challenge_texts"
   ]
  },
  {
   "cell_type": "code",
   "execution_count": 50,
   "id": "AIiM45gm58e0",
   "metadata": {
    "id": "AIiM45gm58e0"
   },
   "outputs": [],
   "source": [
    "def get_df_challenge(challenge_texts, work_programme):\n",
    "    \"\"\"\n",
    "    Function for creating the dataset containing all the necessary data for each of the challenges\n",
    "\n",
    "    challenge_texts -> dictionary containing the text for each of the challenges\n",
    "    \"\"\"\n",
    "    df_challenge = pd.DataFrame(columns=[\"Work Programme\", \"Challenge\", \"Background and Scope\", \"Overall Goal & Specific Objectives\", \"Expected Outcomes & Impacts\"])\n",
    "\n",
    "    # Scope section starts at \"Background and scope\" and ends at \"Overall goal and specific objectives\"\n",
    "    init_scope = \"Background and scope\"\n",
    "    final_scope = \"Overall goal and specific objectives\"\n",
    "    \n",
    "\n",
    "    # Goal section starts at \"Overall goal and specific objectives\" and ends at \"Expected outcomes and impacts\"\n",
    "    init_goal = \"Overall goal and specific objectives\"\n",
    "    final_goal = \"Expected outcomes and impacts\"\n",
    "\n",
    "    # Outcome section starts at \"Expected outcomes and impacts\" and ends at \"EIC\"\n",
    "    init_outcome = \"Expected outcomes and impacts\"\n",
    "    final_outcome_1 = \"EIC\"\n",
    "    final_outcome_2 = \"Specific Conditions\"\n",
    "    \n",
    "    for challenge, text in challenge_texts.items(): # iterate through all challenges texts\n",
    "        scope = []\n",
    "        goal = []\n",
    "        outcome = []            \n",
    "\n",
    "        sections = {}\n",
    "        lines = text.split(\"\\n\")\n",
    "\n",
    "        for i, line in enumerate(lines): # iterate through all the lines of the texts\n",
    "          \n",
    "            # Get scope text\n",
    "            if (init_scope in line):\n",
    "                for j in range(i, len(lines)): # skip two lines\n",
    "                    if final_scope not in lines[j]:\n",
    "                        line = lines[j].strip()\n",
    "                        line = ' '.join(line.split())\n",
    "                        scope.append(line)\n",
    "                    else:\n",
    "                        break\n",
    "    \n",
    "            # Get goal text\n",
    "            if init_goal in line:\n",
    "                for j in range(i, len(lines)):\n",
    "                    if final_goal not in lines[j]:\n",
    "                        line = lines[j].strip()\n",
    "                        line = ' '.join(line.split())\n",
    "                        goal.append(line)\n",
    "                    else:\n",
    "                        break            \n",
    "\n",
    "\n",
    "            # Get outcome text\n",
    "            if init_outcome in line :\n",
    "                for j in range(i, len(lines)):\n",
    "                    if final_outcome_1 not in lines[j] and final_outcome_2 not in lines[j]:\n",
    "                        line = lines[j].strip()\n",
    "                        line = ' '.join(line.split())            \n",
    "                        outcome.append(line)\n",
    "                    else:\n",
    "                        break\n",
    "            \n",
    "\n",
    "        # store all the information in a dictionary and create a dataset\n",
    "        sections[\"Work Programme\"] = work_programme\n",
    "        sections[\"Challenge\"] = challenge\n",
    "        sections[\"Background and Scope\"] = \"\".join(scope).replace(\"Background and scope\", \"\")\n",
    "        sections[\"Overall Goal & Specific Objectives\"] = \"\".join(goal).replace(\"Overall goal and specific objectives\", \"\")\n",
    "        sections[\"Expected Outcomes & Impacts\"] =  \"\".join(outcome).replace(\"Expected outcomes and impacts\", \"\")\n",
    "\n",
    "        sections = pd.DataFrame([sections])\n",
    "\n",
    "        df_challenge = pd.concat([df_challenge, sections], ignore_index=True)\n",
    "    \n",
    "    return df_challenge"
   ]
  },
  {
   "cell_type": "markdown",
   "id": "f5bbb366",
   "metadata": {
    "id": "f5bbb366"
   },
   "source": [
    "# Obtaining the database"
   ]
  },
  {
   "cell_type": "markdown",
   "id": "fae110be",
   "metadata": {
    "id": "fae110be"
   },
   "source": [
    "For obtainig the database, the first step is to obtain the pdf document and extract the different types of text (Destinations, calls and challenge)."
   ]
  },
  {
   "cell_type": "code",
   "execution_count": 51,
   "id": "ba34111a",
   "metadata": {
    "id": "ba34111a"
   },
   "outputs": [],
   "source": [
    "LOOP = True # Set to false in case just interested in one program\n",
    "\n",
    "path = \"pdf documents/\"\n",
    "doc_name = \"eic\"\n",
    "\n",
    "section = \"EIC Pathfinder Challenge\"\n",
    "# section = \"EIC Transition Challenge\"\n",
    "\n",
    "sections = [\"EIC Pathfinder Challenge\", \"EIC Transition Challenge\"]\n",
    "\n",
    "# Get hyperparameters related with each of the kinds of texts at the doc\n",
    "title_size =  12.0\n",
    "title_font = 'SegoeUI-Bold'\n",
    "title_color = 5454240\n",
    "\n",
    "body_size = 12.0\n",
    "body_font = \"SegoeUI\"\n",
    "\n",
    "subtitle_size = 12.0\n",
    "subtitle_font = \"SegoeUI-Bold\"\n"
   ]
  },
  {
   "cell_type": "code",
   "execution_count": 52,
   "id": "52522204",
   "metadata": {},
   "outputs": [],
   "source": [
    "if LOOP:\n",
    "    df = pd.DataFrame() # data frame for storing all the information\n",
    "    \n",
    "    for section in sections:\n",
    "        # Open the document\n",
    "        doc = fitz.open(path+doc_name+\".pdf\")\n",
    "\n",
    "        # Obtain a dictionary which stores at which page each section starts\n",
    "        challenge_pages = get_challenge_page(doc, title_size, title_font, title_color, section)\n",
    "\n",
    "        # Obtain a dictionary which stores the text for each challenge\n",
    "        challenge_texts = get_challenge_text(doc, challenge_pages, body_size, body_font, subtitle_size, subtitle_font)\n",
    "\n",
    "        # Obtain the challenge dataframe containing all information about each of the challenges\n",
    "        df_challenge = get_df_challenge(challenge_texts, section)\n",
    "        \n",
    "        # join to the orevious df\n",
    "        df = pd.concat([df, df_challenge], ignore_index=True)\n",
    "        \n",
    "        # save as parquet\n",
    "        df.to_parquet(\"EIC_work_programmes.parquet\")\n",
    "else:\n",
    "    # Open the document\n",
    "    doc = fitz.open(path+doc_name+\".pdf\")\n",
    "\n",
    "    # Obtain a dictionary which stores at which page each section starts\n",
    "    challenge_pages = get_challenge_page(doc, title_size, title_font, title_color, section)\n",
    "\n",
    "    # Obtain a dictionary which stores the text for each challenge\n",
    "    challenge_texts = get_challenge_text(doc, challenge_pages, body_size, body_font, subtitle_size, subtitle_font)\n",
    "\n",
    "    # Obtain the challenge dataframe containing all information about each of the challenges\n",
    "    df_challenge = get_df_challenge(challenge_texts, section)\n",
    "\n",
    "    # save as csv\n",
    "    # df_challenge.to_parquet(section+\".parquet\")"
   ]
  }
 ],
 "metadata": {
  "colab": {
   "provenance": []
  },
  "kernelspec": {
   "display_name": "Python 3 (ipykernel)",
   "language": "python",
   "name": "python3"
  },
  "language_info": {
   "codemirror_mode": {
    "name": "ipython",
    "version": 3
   },
   "file_extension": ".py",
   "mimetype": "text/x-python",
   "name": "python",
   "nbconvert_exporter": "python",
   "pygments_lexer": "ipython3",
   "version": "3.11.4"
  }
 },
 "nbformat": 4,
 "nbformat_minor": 5
}
